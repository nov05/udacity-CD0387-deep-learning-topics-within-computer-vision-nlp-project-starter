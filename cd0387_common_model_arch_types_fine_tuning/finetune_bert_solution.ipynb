{
 "cells": [
  {
   "cell_type": "markdown",
   "id": "079808d1",
   "metadata": {},
   "source": [
    "* changed by nov05 on 2024-11-28  \n",
    "\n",
    "* Udacity AWS MLE Nanodegree (ND189)  \n",
    "  Course 4, 3.15 Excercise: Fine-Tuning BERT    \n",
    "  \n",
    "* ~~local env `conda activate cuda_py310` with cuda enabled~~  \n",
    "  moved to `google colab` for traning on better GPU   \n",
    "  \n",
    "* [CoLA dataset on KaggleHub](https://www.kaggle.com/datasets/krazy47/cola-the-corpus-of-linguistic-acceptability)  \n",
    "  The Corpus of Linguistic Acceptability   "
   ]
  },
  {
   "cell_type": "markdown",
   "id": "c5944ece",
   "metadata": {},
   "source": [
    "* [baseline notebook in colab](https://drive.google.com/file/d/11V8yjHs5rna2Kg8DHMhnm3XEBbR9m2mY)  \n",
    "  [W&B training logs](https://wandb.ai/nov05/udacity-awsmle-bert-cola/runs/3blkneau)   \n",
    "  Run summary:  \n",
    "  ```\n",
    "  eval_accuracy_epoch (%)\t81.44089\n",
    "  train_loss\t0.00013\n",
    "  train_loss_epoch\t0.02814\n",
    "  ```\n",
    "\n",
    "  <img src=\"https://raw.githubusercontent.com/nov05/pictures/refs/heads/master/Udacity/20241119_aws-mle-nanodegree/2024-11-29%2007_33_08-solar-thunder-20-baseline%20_%20udacity-awsmle-bert-cola%20%E2%80%93%20Weights%20%26%20Biases.jpg\" width=600>"
   ]
  },
  {
   "cell_type": "markdown",
   "id": "440842c0",
   "metadata": {},
   "source": []
  }
 ],
 "metadata": {
  "kernelspec": {
   "display_name": "cuda_py310",
   "language": "python",
   "name": "python3"
  },
  "language_info": {
   "codemirror_mode": {
    "name": "ipython",
    "version": 3
   },
   "file_extension": ".py",
   "mimetype": "text/x-python",
   "name": "python",
   "nbconvert_exporter": "python",
   "pygments_lexer": "ipython3",
   "version": "3.10.15"
  }
 },
 "nbformat": 4,
 "nbformat_minor": 5
}
