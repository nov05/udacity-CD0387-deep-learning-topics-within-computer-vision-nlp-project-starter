{
 "cells": [
  {
   "cell_type": "markdown",
   "id": "5c9b62ee",
   "metadata": {},
   "source": [
    "## Training a Neural Network\n",
    "\n",
    "In this exercise, you will have to implement all aspects of a neural network training script. This includes creating data loading and model training, testing logic in your code. Here are the steps you need to do to complete this exercise:\n",
    "\n",
    "1. Finish the `train()` and `test()` functions. These should contain loops to train and test your model respectively.\n",
    "2. Finish the `create_model()` function. You can use the same model from a previous exercise.\n",
    "3. Create Data Transforms and Data Loaders to download, read and preprocess your data.\n",
    "4. Add a cost function and optimizer. You can use the same cost functions and optimizer from the previous exercise.\n",
    "\n",
    "**Note**: It may take 5 - 10 minutes to download the data sets. \n",
    "\n",
    "In case you get stuck, you can look at the solution notebook."
   ]
  },
  {
   "cell_type": "code",
   "execution_count": null,
   "id": "282d277b",
   "metadata": {},
   "outputs": [],
   "source": [
    "#TODO: Import packages you need\n",
    "\n",
    "def create_model():\n",
    "    #TODO: Add your model code here. You can use code from previous exercises\n",
    "    return model\n",
    "\n",
    "def train(model, train_loader, cost, optimizer, epoch):\n",
    "    model.train()\n",
    "    #TODO: Add your code here to train your model\n",
    "    pass\n",
    "\n",
    "def test(model, test_loader):\n",
    "    model.eval()\n",
    "    #TODO: Add code here to test the accuracy of your model\n",
    "    pass\n",
    "\n",
    "#TODO: Create your Data Transforms\n",
    "\n",
    "#TODO: Download and create loaders for your data\n",
    "\n",
    "model=create_model()\n",
    "\n",
    "cost = #TODO: Add your cost function here. You can use code from previous exercises\n",
    "\n",
    "optimizer = #TODO: Add your optimizer here. You can use code from previous exercises\n",
    "\n",
    "\n",
    "train(model, train_loader, cost, optimizer, epoch)\n",
    "test(model, test_loader)\n"
   ]
  }
 ],
 "metadata": {
  "kernelspec": {
   "display_name": "Python 3 (ipykernel)",
   "language": "python",
   "name": "python3"
  },
  "language_info": {
   "codemirror_mode": {
    "name": "ipython",
    "version": 3
   },
   "file_extension": ".py",
   "mimetype": "text/x-python",
   "name": "python",
   "nbconvert_exporter": "python",
   "pygments_lexer": "ipython3",
   "version": "3.10.13"
  }
 },
 "nbformat": 4,
 "nbformat_minor": 5
}
