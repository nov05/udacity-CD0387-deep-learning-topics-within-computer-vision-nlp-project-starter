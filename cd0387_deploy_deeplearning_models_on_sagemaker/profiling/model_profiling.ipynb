{
 "cells": [
  {
   "cell_type": "markdown",
   "id": "0225383b",
   "metadata": {},
   "source": [
    "* changed by nov05 on 2024-12-01  \n",
    "* ~~local conda env `awsmle_py310` (sagemaker installed, no cuda)~~  \n",
    "  It needs to be run in `SageMaker Studio`.     \n",
    "* Udacity ND189, Course 4, 4.10 Exercise: Debugger and Profiler  "
   ]
  },
  {
   "cell_type": "markdown",
   "metadata": {
    "editable": true
   },
   "source": [
    "# Profiler"
   ]
  },
  {
   "cell_type": "code",
   "execution_count": 1,
   "metadata": {
    "editable": true,
    "tags": []
   },
   "outputs": [
    {
     "name": "stdout",
     "output_type": "stream",
     "text": [
      "Training jobname: smdebugger-mnist-pytorch-2024-12-01-06-25-24-603\n",
      "Region: us-east-1\n"
     ]
    }
   ],
   "source": [
    "import boto3\n",
    "session = boto3.session.Session()\n",
    "region = session.region_name\n",
    "training_job_name = r\"smdebugger-mnist-pytorch-2024-12-01-06-25-24-603\"\n",
    "print(f\"Training jobname: {training_job_name}\")\n",
    "print(f\"Region: {region}\")"
   ]
  },
  {
   "cell_type": "code",
   "execution_count": null,
   "metadata": {
    "editable": true,
    "tags": []
   },
   "outputs": [
    {
     "name": "stdout",
     "output_type": "stream",
     "text": [
      "ProfilerConfig:{'S3OutputPath': 's3://sagemaker-us-east-1-061096721307/', 'ProfilingIntervalInMilliseconds': 500, 'DisableProfiler': False}\n",
      "s3 path:s3://sagemaker-us-east-1-061096721307/smdebugger-mnist-pytorch-2024-12-01-06-25-24-603\\profiler-output\n"
     ]
    }
   ],
   "source": [
    "from smdebug.profiler.analysis.notebook_utils.training_job import TrainingJob\n",
    "training_job = TrainingJob(training_job_name, region)\n",
    "training_job.wait_for_sys_profiling_data_to_be_available()"
   ]
  },
  {
   "cell_type": "code",
   "execution_count": null,
   "metadata": {
    "editable": true,
    "tags": []
   },
   "outputs": [],
   "source": [
    "from smdebug.profiler.analysis.notebook_utils.timeline_charts import TimelineCharts\n",
    "system_metrics_reader = training_job.get_systems_metrics_reader()\n",
    "system_metrics_reader.refresh_event_file_list()\n",
    "view_timeline_charts = TimelineCharts(\n",
    "    system_metrics_reader,\n",
    "    framework_metrics_reader=None,\n",
    "    select_dimensions=[\"CPU\", \"GPU\"],\n",
    "    select_events=[\"total\"],\n",
    ")"
   ]
  }
 ],
 "metadata": {
  "instance_type": "ml.t3.medium",
  "kernelspec": {
   "display_name": "awsmle_py310",
   "language": "python",
   "name": "python3"
  },
  "language_info": {
   "codemirror_mode": {
    "name": "ipython",
    "version": 3
   },
   "file_extension": ".py",
   "mimetype": "text/x-python",
   "name": "python",
   "nbconvert_exporter": "python",
   "pygments_lexer": "ipython3",
   "version": "3.10.15"
  }
 },
 "nbformat": 4,
 "nbformat_minor": 5
}
