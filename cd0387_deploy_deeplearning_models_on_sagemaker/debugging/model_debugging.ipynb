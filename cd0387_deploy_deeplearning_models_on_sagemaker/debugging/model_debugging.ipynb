{
 "cells": [
  {
   "cell_type": "markdown",
   "id": "eb2b9457",
   "metadata": {},
   "source": [
    "* created by nov05 on 2024-11-28   \n",
    "* local conda env `awsmle_py310` (sagemaker installed, no cuda)  \n",
    "* [Udacity course notes](https://www.evernote.com/shard/s139/u/0/client/snv?isnewsnv=true&noteGuid=e2ab3701-2d26-45ce-8d24-4378b0e929d9&noteKey=q4ZhC5FKGCQcV8k3HeIMRaFL2DU9WOH3nf1xQdJV7DWKcKtWTQoiDrl89g&sn=https%3A%2F%2Fwww.evernote.com%2Fshard%2Fs139%2Fsh%2Fe2ab3701-2d26-45ce-8d24-4378b0e929d9%2Fq4ZhC5FKGCQcV8k3HeIMRaFL2DU9WOH3nf1xQdJV7DWKcKtWTQoiDrl89g&title=Deploy%2BDeep%2BLearning%2BModels%2Bon%2BSageMaker%2B-%2BSageMaker%2BDebugger) (ND189, Course 4, 4.8 SageMaker Debugger)   \n",
    "* [SageMaker Debugger documentation](https://docs.aws.amazon.com/sagemaker/latest/dg/train-debugger.html)  \n",
    "* [Example of using Pytorch for model debugging](https://github.com/aws/amazon-sagemaker-examples/tree/main/sagemaker-debugger/pytorch_model_debugging)      "
   ]
  },
  {
   "cell_type": "code",
   "execution_count": null,
   "id": "17fc473d",
   "metadata": {},
   "outputs": [],
   "source": [
    "## windows powershell command to set up aws credentials\n",
    "# !notepad C:\\Users\\guido\\.aws\\credentials"
   ]
  },
  {
   "cell_type": "code",
   "execution_count": 5,
   "id": "67094701",
   "metadata": {},
   "outputs": [
    {
     "data": {
      "text/plain": [
       "'d:\\\\github\\\\udacity-CD0387-deep-learning-topics-within-computer-vision-nlp-project-starter\\\\cd0387_deploy_deeplearning_models_on_sagemaker\\\\debugging'"
      ]
     },
     "execution_count": 5,
     "metadata": {},
     "output_type": "execute_result"
    }
   ],
   "source": [
    "%pwd"
   ]
  },
  {
   "cell_type": "code",
   "execution_count": null,
   "id": "a4cf58eb",
   "metadata": {},
   "outputs": [],
   "source": [
    "## reset the session after updating credentials\n",
    "import boto3\n",
    "boto3.DEFAULT_SESSION = None\n",
    "\n",
    "from sagemaker.pytorch import PyTorch\n",
    "from sagemaker import get_execution_role\n",
    "role_arn = get_execution_role()  ## get role ARN\n",
    "if 'AmazonSageMaker-ExecutionRole' not in role_arn:\n",
    "    ## your own role here\n",
    "    role_arn = \"arn:aws:iam::061096721307:role/service-role/AmazonSageMaker-ExecutionRole-20241128T055392\"\n",
    "print(\"👉 Role ARN:\", role_arn) ## If local, Role ARN: arn:aws:iam::807711953667:role/voclabs"
   ]
  },
  {
   "cell_type": "markdown",
   "id": "827128cc-9369-4d8d-b37f-6ab4c439fe89",
   "metadata": {},
   "source": [
    "# SageMaker Model Debugging\n",
    "\n",
    "Here we will see how we can use Sagemaker Debugging to see our model training performance as well as generate a simple report called the Profiler Report that gives us an overview of our training job.\n",
    "\n",
    "First we will need to install `smdebug`."
   ]
  },
  {
   "cell_type": "code",
   "execution_count": null,
   "id": "dae696ff-881b-4bad-9662-466eaeae2620",
   "metadata": {},
   "outputs": [],
   "source": [
    "# !pip install smdebug\n",
    "## Successfully installed protobuf-3.20.3 pyinstrument-3.4.2 pyinstrument-cext-0.2.4 smdebug-1.0.34"
   ]
  },
  {
   "cell_type": "markdown",
   "id": "7b2ae13b-e972-4475-a6ab-153a24d7308d",
   "metadata": {},
   "source": [
    "## Debugger Rule and Configs\n",
    "\n",
    "Next we need to import the packages we will need and specify the debugger rules and configs. We will check for overfitting, overtraining, poor weight initialization and vanishing gradients. We will also set a save interval of 100 and 10 for training and testing respectively."
   ]
  },
  {
   "cell_type": "code",
   "execution_count": null,
   "id": "49e2cc47-3f0c-4ae1-baef-2b9b78a169dc",
   "metadata": {},
   "outputs": [
    {
     "name": "stderr",
     "output_type": "stream",
     "text": [
      "d:\\Users\\guido\\miniconda3\\envs\\awsmle_py310\\lib\\site-packages\\pydantic\\_internal\\_fields.py:192: UserWarning: Field name \"json\" in \"MonitoringDatasetFormat\" shadows an attribute in parent \"Base\"\n",
      "  warnings.warn(\n"
     ]
    },
    {
     "data": {
      "text/html": [
       "<pre style=\"white-space:pre;overflow-x:auto;line-height:normal;font-family:Menlo,'DejaVu Sans Mono',consolas,'Courier New',monospace\"><span style=\"color: #7fbfbf; text-decoration-color: #7fbfbf\">[12/01/24 00:24:37] </span><span style=\"color: #0069ff; text-decoration-color: #0069ff; font-weight: bold\">INFO    </span> Found credentials in shared credentials file: ~<span style=\"color: #e100e1; text-decoration-color: #e100e1\">/.aws/credentials</span>   <a href=\"file://d:\\Users\\guido\\miniconda3\\envs\\awsmle_py310\\lib\\site-packages\\botocore\\credentials.py\" target=\"_blank\"><span style=\"color: #7f7f7f; text-decoration-color: #7f7f7f\">credentials.py</span></a><span style=\"color: #7f7f7f; text-decoration-color: #7f7f7f\">:</span><a href=\"file://d:\\Users\\guido\\miniconda3\\envs\\awsmle_py310\\lib\\site-packages\\botocore\\credentials.py#1278\" target=\"_blank\"><span style=\"color: #7f7f7f; text-decoration-color: #7f7f7f\">1278</span></a>\n",
       "</pre>\n"
      ],
      "text/plain": [
       "\u001b[2;36m[12/01/24 00:24:37]\u001b[0m\u001b[2;36m \u001b[0m\u001b[1;38;2;0;105;255mINFO    \u001b[0m Found credentials in shared credentials file: ~\u001b[38;2;225;0;225m/.aws/\u001b[0m\u001b[38;2;225;0;225mcredentials\u001b[0m   \u001b]8;id=118280;file://d:\\Users\\guido\\miniconda3\\envs\\awsmle_py310\\lib\\site-packages\\botocore\\credentials.py\u001b\\\u001b[2mcredentials.py\u001b[0m\u001b]8;;\u001b\\\u001b[2m:\u001b[0m\u001b]8;id=609615;file://d:\\Users\\guido\\miniconda3\\envs\\awsmle_py310\\lib\\site-packages\\botocore\\credentials.py#1278\u001b\\\u001b[2m1278\u001b[0m\u001b]8;;\u001b\\\n"
      ]
     },
     "metadata": {},
     "output_type": "display_data"
    },
    {
     "name": "stdout",
     "output_type": "stream",
     "text": [
      "sagemaker.config INFO - Not applying SDK defaults from location: C:\\ProgramData\\sagemaker\\sagemaker\\config.yaml\n",
      "sagemaker.config INFO - Not applying SDK defaults from location: C:\\Users\\guido\\AppData\\Local\\sagemaker\\sagemaker\\config.yaml\n"
     ]
    },
    {
     "data": {
      "text/html": [
       "<pre style=\"white-space:pre;overflow-x:auto;line-height:normal;font-family:Menlo,'DejaVu Sans Mono',consolas,'Courier New',monospace\"><span style=\"color: #7fbfbf; text-decoration-color: #7fbfbf\">[12/01/24 00:24:38] </span><span style=\"color: #0069ff; text-decoration-color: #0069ff; font-weight: bold\">INFO    </span> Found credentials in shared credentials file: ~<span style=\"color: #e100e1; text-decoration-color: #e100e1\">/.aws/credentials</span>   <a href=\"file://d:\\Users\\guido\\miniconda3\\envs\\awsmle_py310\\lib\\site-packages\\botocore\\credentials.py\" target=\"_blank\"><span style=\"color: #7f7f7f; text-decoration-color: #7f7f7f\">credentials.py</span></a><span style=\"color: #7f7f7f; text-decoration-color: #7f7f7f\">:</span><a href=\"file://d:\\Users\\guido\\miniconda3\\envs\\awsmle_py310\\lib\\site-packages\\botocore\\credentials.py#1278\" target=\"_blank\"><span style=\"color: #7f7f7f; text-decoration-color: #7f7f7f\">1278</span></a>\n",
       "</pre>\n"
      ],
      "text/plain": [
       "\u001b[2;36m[12/01/24 00:24:38]\u001b[0m\u001b[2;36m \u001b[0m\u001b[1;38;2;0;105;255mINFO    \u001b[0m Found credentials in shared credentials file: ~\u001b[38;2;225;0;225m/.aws/\u001b[0m\u001b[38;2;225;0;225mcredentials\u001b[0m   \u001b]8;id=482901;file://d:\\Users\\guido\\miniconda3\\envs\\awsmle_py310\\lib\\site-packages\\botocore\\credentials.py\u001b\\\u001b[2mcredentials.py\u001b[0m\u001b]8;;\u001b\\\u001b[2m:\u001b[0m\u001b]8;id=448406;file://d:\\Users\\guido\\miniconda3\\envs\\awsmle_py310\\lib\\site-packages\\botocore\\credentials.py#1278\u001b\\\u001b[2m1278\u001b[0m\u001b]8;;\u001b\\\n"
      ]
     },
     "metadata": {},
     "output_type": "display_data"
    },
    {
     "data": {
      "text/html": [
       "<pre style=\"white-space:pre;overflow-x:auto;line-height:normal;font-family:Menlo,'DejaVu Sans Mono',consolas,'Courier New',monospace\"><span style=\"color: #7fbfbf; text-decoration-color: #7fbfbf\">[12/01/24 00:24:40] </span><span style=\"color: #d7af00; text-decoration-color: #d7af00; font-weight: bold\">WARNING </span> Couldn't call <span style=\"color: #008700; text-decoration-color: #008700\">'get_role'</span> to get Role ARN from role name voclabs to get <a href=\"file://d:\\Users\\guido\\miniconda3\\envs\\awsmle_py310\\lib\\site-packages\\sagemaker\\session.py\" target=\"_blank\"><span style=\"color: #7f7f7f; text-decoration-color: #7f7f7f\">session.py</span></a><span style=\"color: #7f7f7f; text-decoration-color: #7f7f7f\">:</span><a href=\"file://d:\\Users\\guido\\miniconda3\\envs\\awsmle_py310\\lib\\site-packages\\sagemaker\\session.py#5902\" target=\"_blank\"><span style=\"color: #7f7f7f; text-decoration-color: #7f7f7f\">5902</span></a>\n",
       "<span style=\"color: #7fbfbf; text-decoration-color: #7fbfbf\">                    </span>         Role path.                                                             <span style=\"color: #7f7f7f; text-decoration-color: #7f7f7f\">               </span>\n",
       "</pre>\n"
      ],
      "text/plain": [
       "\u001b[2;36m[12/01/24 00:24:40]\u001b[0m\u001b[2;36m \u001b[0m\u001b[1;38;2;215;175;0mWARNING \u001b[0m Couldn't call \u001b[38;2;0;135;0m'get_role'\u001b[0m to get Role ARN from role name voclabs to get \u001b]8;id=839103;file://d:\\Users\\guido\\miniconda3\\envs\\awsmle_py310\\lib\\site-packages\\sagemaker\\session.py\u001b\\\u001b[2msession.py\u001b[0m\u001b]8;;\u001b\\\u001b[2m:\u001b[0m\u001b]8;id=755096;file://d:\\Users\\guido\\miniconda3\\envs\\awsmle_py310\\lib\\site-packages\\sagemaker\\session.py#5902\u001b\\\u001b[2m5902\u001b[0m\u001b]8;;\u001b\\\n",
       "\u001b[2;36m                    \u001b[0m         Role path.                                                             \u001b[2m               \u001b[0m\n"
      ]
     },
     "metadata": {},
     "output_type": "display_data"
    },
    {
     "name": "stdout",
     "output_type": "stream",
     "text": [
      "👉 Role ARN: arn:aws:iam::061096721307:role/service-role/AmazonSageMaker-ExecutionRole-20241128T055392\n"
     ]
    }
   ],
   "source": [
    "from sagemaker.debugger import (\n",
    "    Rule,\n",
    "    ProfilerRule,\n",
    "    DebuggerHookConfig,\n",
    "    rule_configs,\n",
    ")\n",
    "rules = [\n",
    "    Rule.sagemaker(rule_configs.vanishing_gradient()),\n",
    "    Rule.sagemaker(rule_configs.overfit()),\n",
    "    Rule.sagemaker(rule_configs.overtraining()),\n",
    "    Rule.sagemaker(rule_configs.poor_weight_initialization()),\n",
    "    ProfilerRule.sagemaker(rule_configs.ProfilerReport()),\n",
    "]\n",
    "hook_config = DebuggerHookConfig(\n",
    "    hook_parameters={\n",
    "        \"train.save_interval\": \"100\", \n",
    "        \"eval.save_interval\": \"10\"\n",
    "    }\n",
    ")"
   ]
  },
  {
   "cell_type": "markdown",
   "id": "19b8f96d-421f-4d05-916c-a84dba2863de",
   "metadata": {},
   "source": [
    "Next we will specify the hyperparameters and create our estimator. In our estimator, we will additionally need to specify the debugger rules and configs that we created before."
   ]
  },
  {
   "cell_type": "code",
   "execution_count": null,
   "id": "ba5fb46b-f81a-4ed1-a0a2-81d44b0dc9f4",
   "metadata": {},
   "outputs": [
    {
     "data": {
      "text/html": [
       "<pre style=\"white-space:pre;overflow-x:auto;line-height:normal;font-family:Menlo,'DejaVu Sans Mono',consolas,'Courier New',monospace\"><span style=\"color: #7fbfbf; text-decoration-color: #7fbfbf\">[12/01/24 00:25:24] </span><span style=\"color: #0069ff; text-decoration-color: #0069ff; font-weight: bold\">INFO    </span> Found credentials in shared credentials file: ~<span style=\"color: #e100e1; text-decoration-color: #e100e1\">/.aws/credentials</span>   <a href=\"file://d:\\Users\\guido\\miniconda3\\envs\\awsmle_py310\\lib\\site-packages\\botocore\\credentials.py\" target=\"_blank\"><span style=\"color: #7f7f7f; text-decoration-color: #7f7f7f\">credentials.py</span></a><span style=\"color: #7f7f7f; text-decoration-color: #7f7f7f\">:</span><a href=\"file://d:\\Users\\guido\\miniconda3\\envs\\awsmle_py310\\lib\\site-packages\\botocore\\credentials.py#1278\" target=\"_blank\"><span style=\"color: #7f7f7f; text-decoration-color: #7f7f7f\">1278</span></a>\n",
       "</pre>\n"
      ],
      "text/plain": [
       "\u001b[2;36m[12/01/24 00:25:24]\u001b[0m\u001b[2;36m \u001b[0m\u001b[1;38;2;0;105;255mINFO    \u001b[0m Found credentials in shared credentials file: ~\u001b[38;2;225;0;225m/.aws/\u001b[0m\u001b[38;2;225;0;225mcredentials\u001b[0m   \u001b]8;id=354437;file://d:\\Users\\guido\\miniconda3\\envs\\awsmle_py310\\lib\\site-packages\\botocore\\credentials.py\u001b\\\u001b[2mcredentials.py\u001b[0m\u001b]8;;\u001b\\\u001b[2m:\u001b[0m\u001b]8;id=562623;file://d:\\Users\\guido\\miniconda3\\envs\\awsmle_py310\\lib\\site-packages\\botocore\\credentials.py#1278\u001b\\\u001b[2m1278\u001b[0m\u001b]8;;\u001b\\\n"
      ]
     },
     "metadata": {},
     "output_type": "display_data"
    },
    {
     "data": {
      "text/html": [
       "<pre style=\"white-space:pre;overflow-x:auto;line-height:normal;font-family:Menlo,'DejaVu Sans Mono',consolas,'Courier New',monospace\"><span style=\"color: #7fbfbf; text-decoration-color: #7fbfbf\">                    </span><span style=\"color: #0069ff; text-decoration-color: #0069ff; font-weight: bold\">INFO    </span> Found credentials in shared credentials file: ~<span style=\"color: #e100e1; text-decoration-color: #e100e1\">/.aws/credentials</span>   <a href=\"file://d:\\Users\\guido\\miniconda3\\envs\\awsmle_py310\\lib\\site-packages\\botocore\\credentials.py\" target=\"_blank\"><span style=\"color: #7f7f7f; text-decoration-color: #7f7f7f\">credentials.py</span></a><span style=\"color: #7f7f7f; text-decoration-color: #7f7f7f\">:</span><a href=\"file://d:\\Users\\guido\\miniconda3\\envs\\awsmle_py310\\lib\\site-packages\\botocore\\credentials.py#1278\" target=\"_blank\"><span style=\"color: #7f7f7f; text-decoration-color: #7f7f7f\">1278</span></a>\n",
       "</pre>\n"
      ],
      "text/plain": [
       "\u001b[2;36m                   \u001b[0m\u001b[2;36m \u001b[0m\u001b[1;38;2;0;105;255mINFO    \u001b[0m Found credentials in shared credentials file: ~\u001b[38;2;225;0;225m/.aws/\u001b[0m\u001b[38;2;225;0;225mcredentials\u001b[0m   \u001b]8;id=349504;file://d:\\Users\\guido\\miniconda3\\envs\\awsmle_py310\\lib\\site-packages\\botocore\\credentials.py\u001b\\\u001b[2mcredentials.py\u001b[0m\u001b]8;;\u001b\\\u001b[2m:\u001b[0m\u001b]8;id=1850;file://d:\\Users\\guido\\miniconda3\\envs\\awsmle_py310\\lib\\site-packages\\botocore\\credentials.py#1278\u001b\\\u001b[2m1278\u001b[0m\u001b]8;;\u001b\\\n"
      ]
     },
     "metadata": {},
     "output_type": "display_data"
    },
    {
     "data": {
      "text/html": [
       "<pre style=\"white-space:pre;overflow-x:auto;line-height:normal;font-family:Menlo,'DejaVu Sans Mono',consolas,'Courier New',monospace\"><span style=\"color: #7fbfbf; text-decoration-color: #7fbfbf\">[12/01/24 00:25:28] </span><span style=\"color: #0069ff; text-decoration-color: #0069ff; font-weight: bold\">INFO    </span> Defaulting to the only supported framework/algorithm version:        <a href=\"file://d:\\Users\\guido\\miniconda3\\envs\\awsmle_py310\\lib\\site-packages\\sagemaker\\image_uris.py\" target=\"_blank\"><span style=\"color: #7f7f7f; text-decoration-color: #7f7f7f\">image_uris.py</span></a><span style=\"color: #7f7f7f; text-decoration-color: #7f7f7f\">:</span><a href=\"file://d:\\Users\\guido\\miniconda3\\envs\\awsmle_py310\\lib\\site-packages\\sagemaker\\image_uris.py#487\" target=\"_blank\"><span style=\"color: #7f7f7f; text-decoration-color: #7f7f7f\">487</span></a>\n",
       "<span style=\"color: #7fbfbf; text-decoration-color: #7fbfbf\">                    </span>         latest.                                                              <span style=\"color: #7f7f7f; text-decoration-color: #7f7f7f\">                 </span>\n",
       "</pre>\n"
      ],
      "text/plain": [
       "\u001b[2;36m[12/01/24 00:25:28]\u001b[0m\u001b[2;36m \u001b[0m\u001b[1;38;2;0;105;255mINFO    \u001b[0m Defaulting to the only supported framework/algorithm version:        \u001b]8;id=522299;file://d:\\Users\\guido\\miniconda3\\envs\\awsmle_py310\\lib\\site-packages\\sagemaker\\image_uris.py\u001b\\\u001b[2mimage_uris.py\u001b[0m\u001b]8;;\u001b\\\u001b[2m:\u001b[0m\u001b]8;id=696994;file://d:\\Users\\guido\\miniconda3\\envs\\awsmle_py310\\lib\\site-packages\\sagemaker\\image_uris.py#487\u001b\\\u001b[2m487\u001b[0m\u001b]8;;\u001b\\\n",
       "\u001b[2;36m                    \u001b[0m         latest.                                                              \u001b[2m                 \u001b[0m\n"
      ]
     },
     "metadata": {},
     "output_type": "display_data"
    },
    {
     "data": {
      "text/html": [
       "<pre style=\"white-space:pre;overflow-x:auto;line-height:normal;font-family:Menlo,'DejaVu Sans Mono',consolas,'Courier New',monospace\"><span style=\"color: #7fbfbf; text-decoration-color: #7fbfbf\">                    </span><span style=\"color: #0069ff; text-decoration-color: #0069ff; font-weight: bold\">INFO    </span> Ignoring unnecessary instance type: <span style=\"color: #e100e1; text-decoration-color: #e100e1; font-style: italic\">None</span>.                            <a href=\"file://d:\\Users\\guido\\miniconda3\\envs\\awsmle_py310\\lib\\site-packages\\sagemaker\\image_uris.py\" target=\"_blank\"><span style=\"color: #7f7f7f; text-decoration-color: #7f7f7f\">image_uris.py</span></a><span style=\"color: #7f7f7f; text-decoration-color: #7f7f7f\">:</span><a href=\"file://d:\\Users\\guido\\miniconda3\\envs\\awsmle_py310\\lib\\site-packages\\sagemaker\\image_uris.py#523\" target=\"_blank\"><span style=\"color: #7f7f7f; text-decoration-color: #7f7f7f\">523</span></a>\n",
       "</pre>\n"
      ],
      "text/plain": [
       "\u001b[2;36m                   \u001b[0m\u001b[2;36m \u001b[0m\u001b[1;38;2;0;105;255mINFO    \u001b[0m Ignoring unnecessary instance type: \u001b[3;38;2;225;0;225mNone\u001b[0m.                            \u001b]8;id=183154;file://d:\\Users\\guido\\miniconda3\\envs\\awsmle_py310\\lib\\site-packages\\sagemaker\\image_uris.py\u001b\\\u001b[2mimage_uris.py\u001b[0m\u001b]8;;\u001b\\\u001b[2m:\u001b[0m\u001b]8;id=976269;file://d:\\Users\\guido\\miniconda3\\envs\\awsmle_py310\\lib\\site-packages\\sagemaker\\image_uris.py#523\u001b\\\u001b[2m523\u001b[0m\u001b]8;;\u001b\\\n"
      ]
     },
     "metadata": {},
     "output_type": "display_data"
    },
    {
     "data": {
      "text/html": [
       "<pre style=\"white-space:pre;overflow-x:auto;line-height:normal;font-family:Menlo,'DejaVu Sans Mono',consolas,'Courier New',monospace\"><span style=\"color: #7fbfbf; text-decoration-color: #7fbfbf\">                    </span><span style=\"color: #0069ff; text-decoration-color: #0069ff; font-weight: bold\">INFO    </span> Defaulting to the only supported framework/algorithm version:        <a href=\"file://d:\\Users\\guido\\miniconda3\\envs\\awsmle_py310\\lib\\site-packages\\sagemaker\\image_uris.py\" target=\"_blank\"><span style=\"color: #7f7f7f; text-decoration-color: #7f7f7f\">image_uris.py</span></a><span style=\"color: #7f7f7f; text-decoration-color: #7f7f7f\">:</span><a href=\"file://d:\\Users\\guido\\miniconda3\\envs\\awsmle_py310\\lib\\site-packages\\sagemaker\\image_uris.py#487\" target=\"_blank\"><span style=\"color: #7f7f7f; text-decoration-color: #7f7f7f\">487</span></a>\n",
       "<span style=\"color: #7fbfbf; text-decoration-color: #7fbfbf\">                    </span>         latest.                                                              <span style=\"color: #7f7f7f; text-decoration-color: #7f7f7f\">                 </span>\n",
       "</pre>\n"
      ],
      "text/plain": [
       "\u001b[2;36m                   \u001b[0m\u001b[2;36m \u001b[0m\u001b[1;38;2;0;105;255mINFO    \u001b[0m Defaulting to the only supported framework/algorithm version:        \u001b]8;id=798783;file://d:\\Users\\guido\\miniconda3\\envs\\awsmle_py310\\lib\\site-packages\\sagemaker\\image_uris.py\u001b\\\u001b[2mimage_uris.py\u001b[0m\u001b]8;;\u001b\\\u001b[2m:\u001b[0m\u001b]8;id=800482;file://d:\\Users\\guido\\miniconda3\\envs\\awsmle_py310\\lib\\site-packages\\sagemaker\\image_uris.py#487\u001b\\\u001b[2m487\u001b[0m\u001b]8;;\u001b\\\n",
       "\u001b[2;36m                    \u001b[0m         latest.                                                              \u001b[2m                 \u001b[0m\n"
      ]
     },
     "metadata": {},
     "output_type": "display_data"
    },
    {
     "data": {
      "text/html": [
       "<pre style=\"white-space:pre;overflow-x:auto;line-height:normal;font-family:Menlo,'DejaVu Sans Mono',consolas,'Courier New',monospace\"><span style=\"color: #7fbfbf; text-decoration-color: #7fbfbf\">                    </span><span style=\"color: #0069ff; text-decoration-color: #0069ff; font-weight: bold\">INFO    </span> Ignoring unnecessary instance type: <span style=\"color: #e100e1; text-decoration-color: #e100e1; font-style: italic\">None</span>.                            <a href=\"file://d:\\Users\\guido\\miniconda3\\envs\\awsmle_py310\\lib\\site-packages\\sagemaker\\image_uris.py\" target=\"_blank\"><span style=\"color: #7f7f7f; text-decoration-color: #7f7f7f\">image_uris.py</span></a><span style=\"color: #7f7f7f; text-decoration-color: #7f7f7f\">:</span><a href=\"file://d:\\Users\\guido\\miniconda3\\envs\\awsmle_py310\\lib\\site-packages\\sagemaker\\image_uris.py#523\" target=\"_blank\"><span style=\"color: #7f7f7f; text-decoration-color: #7f7f7f\">523</span></a>\n",
       "</pre>\n"
      ],
      "text/plain": [
       "\u001b[2;36m                   \u001b[0m\u001b[2;36m \u001b[0m\u001b[1;38;2;0;105;255mINFO    \u001b[0m Ignoring unnecessary instance type: \u001b[3;38;2;225;0;225mNone\u001b[0m.                            \u001b]8;id=375883;file://d:\\Users\\guido\\miniconda3\\envs\\awsmle_py310\\lib\\site-packages\\sagemaker\\image_uris.py\u001b\\\u001b[2mimage_uris.py\u001b[0m\u001b]8;;\u001b\\\u001b[2m:\u001b[0m\u001b]8;id=236101;file://d:\\Users\\guido\\miniconda3\\envs\\awsmle_py310\\lib\\site-packages\\sagemaker\\image_uris.py#523\u001b\\\u001b[2m523\u001b[0m\u001b]8;;\u001b\\\n"
      ]
     },
     "metadata": {},
     "output_type": "display_data"
    },
    {
     "data": {
      "text/html": [
       "<pre style=\"white-space:pre;overflow-x:auto;line-height:normal;font-family:Menlo,'DejaVu Sans Mono',consolas,'Courier New',monospace\"><span style=\"color: #7fbfbf; text-decoration-color: #7fbfbf\">                    </span><span style=\"color: #0069ff; text-decoration-color: #0069ff; font-weight: bold\">INFO    </span> Defaulting to the only supported framework/algorithm version:        <a href=\"file://d:\\Users\\guido\\miniconda3\\envs\\awsmle_py310\\lib\\site-packages\\sagemaker\\image_uris.py\" target=\"_blank\"><span style=\"color: #7f7f7f; text-decoration-color: #7f7f7f\">image_uris.py</span></a><span style=\"color: #7f7f7f; text-decoration-color: #7f7f7f\">:</span><a href=\"file://d:\\Users\\guido\\miniconda3\\envs\\awsmle_py310\\lib\\site-packages\\sagemaker\\image_uris.py#487\" target=\"_blank\"><span style=\"color: #7f7f7f; text-decoration-color: #7f7f7f\">487</span></a>\n",
       "<span style=\"color: #7fbfbf; text-decoration-color: #7fbfbf\">                    </span>         latest.                                                              <span style=\"color: #7f7f7f; text-decoration-color: #7f7f7f\">                 </span>\n",
       "</pre>\n"
      ],
      "text/plain": [
       "\u001b[2;36m                   \u001b[0m\u001b[2;36m \u001b[0m\u001b[1;38;2;0;105;255mINFO    \u001b[0m Defaulting to the only supported framework/algorithm version:        \u001b]8;id=491415;file://d:\\Users\\guido\\miniconda3\\envs\\awsmle_py310\\lib\\site-packages\\sagemaker\\image_uris.py\u001b\\\u001b[2mimage_uris.py\u001b[0m\u001b]8;;\u001b\\\u001b[2m:\u001b[0m\u001b]8;id=97543;file://d:\\Users\\guido\\miniconda3\\envs\\awsmle_py310\\lib\\site-packages\\sagemaker\\image_uris.py#487\u001b\\\u001b[2m487\u001b[0m\u001b]8;;\u001b\\\n",
       "\u001b[2;36m                    \u001b[0m         latest.                                                              \u001b[2m                 \u001b[0m\n"
      ]
     },
     "metadata": {},
     "output_type": "display_data"
    },
    {
     "data": {
      "text/html": [
       "<pre style=\"white-space:pre;overflow-x:auto;line-height:normal;font-family:Menlo,'DejaVu Sans Mono',consolas,'Courier New',monospace\"><span style=\"color: #7fbfbf; text-decoration-color: #7fbfbf\">                    </span><span style=\"color: #0069ff; text-decoration-color: #0069ff; font-weight: bold\">INFO    </span> Ignoring unnecessary instance type: <span style=\"color: #e100e1; text-decoration-color: #e100e1; font-style: italic\">None</span>.                            <a href=\"file://d:\\Users\\guido\\miniconda3\\envs\\awsmle_py310\\lib\\site-packages\\sagemaker\\image_uris.py\" target=\"_blank\"><span style=\"color: #7f7f7f; text-decoration-color: #7f7f7f\">image_uris.py</span></a><span style=\"color: #7f7f7f; text-decoration-color: #7f7f7f\">:</span><a href=\"file://d:\\Users\\guido\\miniconda3\\envs\\awsmle_py310\\lib\\site-packages\\sagemaker\\image_uris.py#523\" target=\"_blank\"><span style=\"color: #7f7f7f; text-decoration-color: #7f7f7f\">523</span></a>\n",
       "</pre>\n"
      ],
      "text/plain": [
       "\u001b[2;36m                   \u001b[0m\u001b[2;36m \u001b[0m\u001b[1;38;2;0;105;255mINFO    \u001b[0m Ignoring unnecessary instance type: \u001b[3;38;2;225;0;225mNone\u001b[0m.                            \u001b]8;id=356409;file://d:\\Users\\guido\\miniconda3\\envs\\awsmle_py310\\lib\\site-packages\\sagemaker\\image_uris.py\u001b\\\u001b[2mimage_uris.py\u001b[0m\u001b]8;;\u001b\\\u001b[2m:\u001b[0m\u001b]8;id=884186;file://d:\\Users\\guido\\miniconda3\\envs\\awsmle_py310\\lib\\site-packages\\sagemaker\\image_uris.py#523\u001b\\\u001b[2m523\u001b[0m\u001b]8;;\u001b\\\n"
      ]
     },
     "metadata": {},
     "output_type": "display_data"
    },
    {
     "data": {
      "text/html": [
       "<pre style=\"white-space:pre;overflow-x:auto;line-height:normal;font-family:Menlo,'DejaVu Sans Mono',consolas,'Courier New',monospace\"><span style=\"color: #7fbfbf; text-decoration-color: #7fbfbf\">                    </span><span style=\"color: #0069ff; text-decoration-color: #0069ff; font-weight: bold\">INFO    </span> Defaulting to the only supported framework/algorithm version:        <a href=\"file://d:\\Users\\guido\\miniconda3\\envs\\awsmle_py310\\lib\\site-packages\\sagemaker\\image_uris.py\" target=\"_blank\"><span style=\"color: #7f7f7f; text-decoration-color: #7f7f7f\">image_uris.py</span></a><span style=\"color: #7f7f7f; text-decoration-color: #7f7f7f\">:</span><a href=\"file://d:\\Users\\guido\\miniconda3\\envs\\awsmle_py310\\lib\\site-packages\\sagemaker\\image_uris.py#487\" target=\"_blank\"><span style=\"color: #7f7f7f; text-decoration-color: #7f7f7f\">487</span></a>\n",
       "<span style=\"color: #7fbfbf; text-decoration-color: #7fbfbf\">                    </span>         latest.                                                              <span style=\"color: #7f7f7f; text-decoration-color: #7f7f7f\">                 </span>\n",
       "</pre>\n"
      ],
      "text/plain": [
       "\u001b[2;36m                   \u001b[0m\u001b[2;36m \u001b[0m\u001b[1;38;2;0;105;255mINFO    \u001b[0m Defaulting to the only supported framework/algorithm version:        \u001b]8;id=467037;file://d:\\Users\\guido\\miniconda3\\envs\\awsmle_py310\\lib\\site-packages\\sagemaker\\image_uris.py\u001b\\\u001b[2mimage_uris.py\u001b[0m\u001b]8;;\u001b\\\u001b[2m:\u001b[0m\u001b]8;id=488563;file://d:\\Users\\guido\\miniconda3\\envs\\awsmle_py310\\lib\\site-packages\\sagemaker\\image_uris.py#487\u001b\\\u001b[2m487\u001b[0m\u001b]8;;\u001b\\\n",
       "\u001b[2;36m                    \u001b[0m         latest.                                                              \u001b[2m                 \u001b[0m\n"
      ]
     },
     "metadata": {},
     "output_type": "display_data"
    },
    {
     "data": {
      "text/html": [
       "<pre style=\"white-space:pre;overflow-x:auto;line-height:normal;font-family:Menlo,'DejaVu Sans Mono',consolas,'Courier New',monospace\"><span style=\"color: #7fbfbf; text-decoration-color: #7fbfbf\">                    </span><span style=\"color: #0069ff; text-decoration-color: #0069ff; font-weight: bold\">INFO    </span> Ignoring unnecessary instance type: <span style=\"color: #e100e1; text-decoration-color: #e100e1; font-style: italic\">None</span>.                            <a href=\"file://d:\\Users\\guido\\miniconda3\\envs\\awsmle_py310\\lib\\site-packages\\sagemaker\\image_uris.py\" target=\"_blank\"><span style=\"color: #7f7f7f; text-decoration-color: #7f7f7f\">image_uris.py</span></a><span style=\"color: #7f7f7f; text-decoration-color: #7f7f7f\">:</span><a href=\"file://d:\\Users\\guido\\miniconda3\\envs\\awsmle_py310\\lib\\site-packages\\sagemaker\\image_uris.py#523\" target=\"_blank\"><span style=\"color: #7f7f7f; text-decoration-color: #7f7f7f\">523</span></a>\n",
       "</pre>\n"
      ],
      "text/plain": [
       "\u001b[2;36m                   \u001b[0m\u001b[2;36m \u001b[0m\u001b[1;38;2;0;105;255mINFO    \u001b[0m Ignoring unnecessary instance type: \u001b[3;38;2;225;0;225mNone\u001b[0m.                            \u001b]8;id=994198;file://d:\\Users\\guido\\miniconda3\\envs\\awsmle_py310\\lib\\site-packages\\sagemaker\\image_uris.py\u001b\\\u001b[2mimage_uris.py\u001b[0m\u001b]8;;\u001b\\\u001b[2m:\u001b[0m\u001b]8;id=846120;file://d:\\Users\\guido\\miniconda3\\envs\\awsmle_py310\\lib\\site-packages\\sagemaker\\image_uris.py#523\u001b\\\u001b[2m523\u001b[0m\u001b]8;;\u001b\\\n"
      ]
     },
     "metadata": {},
     "output_type": "display_data"
    },
    {
     "data": {
      "text/html": [
       "<pre style=\"white-space:pre;overflow-x:auto;line-height:normal;font-family:Menlo,'DejaVu Sans Mono',consolas,'Courier New',monospace\"><span style=\"color: #7fbfbf; text-decoration-color: #7fbfbf\">                    </span><span style=\"color: #0069ff; text-decoration-color: #0069ff; font-weight: bold\">INFO    </span> Defaulting to the only supported framework/algorithm version:        <a href=\"file://d:\\Users\\guido\\miniconda3\\envs\\awsmle_py310\\lib\\site-packages\\sagemaker\\image_uris.py\" target=\"_blank\"><span style=\"color: #7f7f7f; text-decoration-color: #7f7f7f\">image_uris.py</span></a><span style=\"color: #7f7f7f; text-decoration-color: #7f7f7f\">:</span><a href=\"file://d:\\Users\\guido\\miniconda3\\envs\\awsmle_py310\\lib\\site-packages\\sagemaker\\image_uris.py#487\" target=\"_blank\"><span style=\"color: #7f7f7f; text-decoration-color: #7f7f7f\">487</span></a>\n",
       "<span style=\"color: #7fbfbf; text-decoration-color: #7fbfbf\">                    </span>         latest.                                                              <span style=\"color: #7f7f7f; text-decoration-color: #7f7f7f\">                 </span>\n",
       "</pre>\n"
      ],
      "text/plain": [
       "\u001b[2;36m                   \u001b[0m\u001b[2;36m \u001b[0m\u001b[1;38;2;0;105;255mINFO    \u001b[0m Defaulting to the only supported framework/algorithm version:        \u001b]8;id=324539;file://d:\\Users\\guido\\miniconda3\\envs\\awsmle_py310\\lib\\site-packages\\sagemaker\\image_uris.py\u001b\\\u001b[2mimage_uris.py\u001b[0m\u001b]8;;\u001b\\\u001b[2m:\u001b[0m\u001b]8;id=30175;file://d:\\Users\\guido\\miniconda3\\envs\\awsmle_py310\\lib\\site-packages\\sagemaker\\image_uris.py#487\u001b\\\u001b[2m487\u001b[0m\u001b]8;;\u001b\\\n",
       "\u001b[2;36m                    \u001b[0m         latest.                                                              \u001b[2m                 \u001b[0m\n"
      ]
     },
     "metadata": {},
     "output_type": "display_data"
    },
    {
     "data": {
      "text/html": [
       "<pre style=\"white-space:pre;overflow-x:auto;line-height:normal;font-family:Menlo,'DejaVu Sans Mono',consolas,'Courier New',monospace\"><span style=\"color: #7fbfbf; text-decoration-color: #7fbfbf\">                    </span><span style=\"color: #0069ff; text-decoration-color: #0069ff; font-weight: bold\">INFO    </span> Ignoring unnecessary instance type: <span style=\"color: #e100e1; text-decoration-color: #e100e1; font-style: italic\">None</span>.                            <a href=\"file://d:\\Users\\guido\\miniconda3\\envs\\awsmle_py310\\lib\\site-packages\\sagemaker\\image_uris.py\" target=\"_blank\"><span style=\"color: #7f7f7f; text-decoration-color: #7f7f7f\">image_uris.py</span></a><span style=\"color: #7f7f7f; text-decoration-color: #7f7f7f\">:</span><a href=\"file://d:\\Users\\guido\\miniconda3\\envs\\awsmle_py310\\lib\\site-packages\\sagemaker\\image_uris.py#523\" target=\"_blank\"><span style=\"color: #7f7f7f; text-decoration-color: #7f7f7f\">523</span></a>\n",
       "</pre>\n"
      ],
      "text/plain": [
       "\u001b[2;36m                   \u001b[0m\u001b[2;36m \u001b[0m\u001b[1;38;2;0;105;255mINFO    \u001b[0m Ignoring unnecessary instance type: \u001b[3;38;2;225;0;225mNone\u001b[0m.                            \u001b]8;id=797931;file://d:\\Users\\guido\\miniconda3\\envs\\awsmle_py310\\lib\\site-packages\\sagemaker\\image_uris.py\u001b\\\u001b[2mimage_uris.py\u001b[0m\u001b]8;;\u001b\\\u001b[2m:\u001b[0m\u001b]8;id=44467;file://d:\\Users\\guido\\miniconda3\\envs\\awsmle_py310\\lib\\site-packages\\sagemaker\\image_uris.py#523\u001b\\\u001b[2m523\u001b[0m\u001b]8;;\u001b\\\n"
      ]
     },
     "metadata": {},
     "output_type": "display_data"
    },
    {
     "data": {
      "text/html": [
       "<pre style=\"white-space:pre;overflow-x:auto;line-height:normal;font-family:Menlo,'DejaVu Sans Mono',consolas,'Courier New',monospace\"><span style=\"color: #7fbfbf; text-decoration-color: #7fbfbf\">                    </span><span style=\"color: #0069ff; text-decoration-color: #0069ff; font-weight: bold\">INFO    </span> image_uri is not presented, retrieving image_uri based on            <a href=\"file://d:\\Users\\guido\\miniconda3\\envs\\awsmle_py310\\lib\\site-packages\\sagemaker\\image_uris.py\" target=\"_blank\"><span style=\"color: #7f7f7f; text-decoration-color: #7f7f7f\">image_uris.py</span></a><span style=\"color: #7f7f7f; text-decoration-color: #7f7f7f\">:</span><a href=\"file://d:\\Users\\guido\\miniconda3\\envs\\awsmle_py310\\lib\\site-packages\\sagemaker\\image_uris.py#674\" target=\"_blank\"><span style=\"color: #7f7f7f; text-decoration-color: #7f7f7f\">674</span></a>\n",
       "<span style=\"color: #7fbfbf; text-decoration-color: #7fbfbf\">                    </span>         instance_type, framework etc.                                        <span style=\"color: #7f7f7f; text-decoration-color: #7f7f7f\">                 </span>\n",
       "</pre>\n"
      ],
      "text/plain": [
       "\u001b[2;36m                   \u001b[0m\u001b[2;36m \u001b[0m\u001b[1;38;2;0;105;255mINFO    \u001b[0m image_uri is not presented, retrieving image_uri based on            \u001b]8;id=913215;file://d:\\Users\\guido\\miniconda3\\envs\\awsmle_py310\\lib\\site-packages\\sagemaker\\image_uris.py\u001b\\\u001b[2mimage_uris.py\u001b[0m\u001b]8;;\u001b\\\u001b[2m:\u001b[0m\u001b]8;id=474564;file://d:\\Users\\guido\\miniconda3\\envs\\awsmle_py310\\lib\\site-packages\\sagemaker\\image_uris.py#674\u001b\\\u001b[2m674\u001b[0m\u001b]8;;\u001b\\\n",
       "\u001b[2;36m                    \u001b[0m         instance_type, framework etc.                                        \u001b[2m                 \u001b[0m\n"
      ]
     },
     "metadata": {},
     "output_type": "display_data"
    },
    {
     "data": {
      "text/html": [
       "<pre style=\"white-space:pre;overflow-x:auto;line-height:normal;font-family:Menlo,'DejaVu Sans Mono',consolas,'Courier New',monospace\"><span style=\"color: #7fbfbf; text-decoration-color: #7fbfbf\">                    </span><span style=\"color: #0069ff; text-decoration-color: #0069ff; font-weight: bold\">INFO    </span> Creating training-job with name:                                       <a href=\"file://d:\\Users\\guido\\miniconda3\\envs\\awsmle_py310\\lib\\site-packages\\sagemaker\\session.py\" target=\"_blank\"><span style=\"color: #7f7f7f; text-decoration-color: #7f7f7f\">session.py</span></a><span style=\"color: #7f7f7f; text-decoration-color: #7f7f7f\">:</span><a href=\"file://d:\\Users\\guido\\miniconda3\\envs\\awsmle_py310\\lib\\site-packages\\sagemaker\\session.py#1042\" target=\"_blank\"><span style=\"color: #7f7f7f; text-decoration-color: #7f7f7f\">1042</span></a>\n",
       "<span style=\"color: #7fbfbf; text-decoration-color: #7fbfbf\">                    </span>         smdebugger-mnist-pytorch-<span style=\"color: #008080; text-decoration-color: #008080; font-weight: bold\">2024</span>-12-01-06-25-24-603                       <span style=\"color: #7f7f7f; text-decoration-color: #7f7f7f\">               </span>\n",
       "</pre>\n"
      ],
      "text/plain": [
       "\u001b[2;36m                   \u001b[0m\u001b[2;36m \u001b[0m\u001b[1;38;2;0;105;255mINFO    \u001b[0m Creating training-job with name:                                       \u001b]8;id=439117;file://d:\\Users\\guido\\miniconda3\\envs\\awsmle_py310\\lib\\site-packages\\sagemaker\\session.py\u001b\\\u001b[2msession.py\u001b[0m\u001b]8;;\u001b\\\u001b[2m:\u001b[0m\u001b]8;id=647219;file://d:\\Users\\guido\\miniconda3\\envs\\awsmle_py310\\lib\\site-packages\\sagemaker\\session.py#1042\u001b\\\u001b[2m1042\u001b[0m\u001b]8;;\u001b\\\n",
       "\u001b[2;36m                    \u001b[0m         smdebugger-mnist-pytorch-\u001b[1;36m2024\u001b[0m-12-01-06-25-24-603                       \u001b[2m               \u001b[0m\n"
      ]
     },
     "metadata": {},
     "output_type": "display_data"
    },
    {
     "name": "stdout",
     "output_type": "stream",
     "text": [
      "2024-12-01 06:25:34 Starting - Starting the training job...\n",
      "2024-12-01 06:26:02 Starting - Preparing the instances for trainingVanishingGradient: InProgress\n",
      "Overfit: InProgress\n",
      "Overtraining: InProgress\n",
      "PoorWeightInitialization: InProgress\n",
      "ProfilerReport: InProgress\n",
      "...\n",
      "2024-12-01 06:26:35 Downloading - Downloading input data...\n",
      "2024-12-01 06:27:03 Downloading - Downloading the training image...\n",
      "2024-12-01 06:27:43 Training - Training image download completed. Training in progress..bash: cannot set terminal process group (-1): Inappropriate ioctl for device\n",
      "bash: no job control in this shell\n",
      "2024-12-01 06:27:46,111 sagemaker-training-toolkit INFO     Imported framework sagemaker_pytorch_container.training\n",
      "2024-12-01 06:27:46,114 sagemaker-training-toolkit INFO     No GPUs detected (normal if no gpus installed)\n",
      "2024-12-01 06:27:46,122 sagemaker_pytorch_container.training INFO     Block until all host DNS lookups succeed.\n",
      "2024-12-01 06:27:46,125 sagemaker_pytorch_container.training INFO     Invoking user training script.\n",
      "2024-12-01 06:27:46,295 sagemaker-training-toolkit INFO     No GPUs detected (normal if no gpus installed)\n",
      "2024-12-01 06:27:46,309 sagemaker-training-toolkit INFO     No GPUs detected (normal if no gpus installed)\n",
      "2024-12-01 06:27:46,320 sagemaker-training-toolkit INFO     No GPUs detected (normal if no gpus installed)\n",
      "2024-12-01 06:27:46,330 sagemaker-training-toolkit INFO     Invoking user script\n",
      "Training Env:\n",
      "{\n",
      "    \"additional_framework_parameters\": {},\n",
      "    \"channel_input_dirs\": {},\n",
      "    \"current_host\": \"algo-1\",\n",
      "    \"framework_module\": \"sagemaker_pytorch_container.training:main\",\n",
      "    \"hosts\": [\n",
      "        \"algo-1\"\n",
      "    ],\n",
      "    \"hyperparameters\": {\n",
      "        \"batch-size\": \"32\",\n",
      "        \"epochs\": \"2\",\n",
      "        \"lr\": \"0.001\",\n",
      "        \"test-batch-size\": \"100\"\n",
      "    },\n",
      "    \"input_config_dir\": \"/opt/ml/input/config\",\n",
      "    \"input_data_config\": {},\n",
      "    \"input_dir\": \"/opt/ml/input\",\n",
      "    \"is_master\": true,\n",
      "    \"job_name\": \"smdebugger-mnist-pytorch-2024-12-01-06-25-24-603\",\n",
      "    \"log_level\": 20,\n",
      "    \"master_hostname\": \"algo-1\",\n",
      "    \"model_dir\": \"/opt/ml/model\",\n",
      "    \"module_dir\": \"s3://sagemaker-us-east-1-061096721307/smdebugger-mnist-pytorch-2024-12-01-06-25-24-603/source/sourcedir.tar.gz\",\n",
      "    \"module_name\": \"pytorch_mnist\",\n",
      "    \"network_interface_name\": \"eth0\",\n",
      "    \"num_cpus\": 2,\n",
      "    \"num_gpus\": 0,\n",
      "    \"output_data_dir\": \"/opt/ml/output/data\",\n",
      "    \"output_dir\": \"/opt/ml/output\",\n",
      "    \"output_intermediate_dir\": \"/opt/ml/output/intermediate\",\n",
      "    \"resource_config\": {\n",
      "        \"current_host\": \"algo-1\",\n",
      "        \"current_instance_type\": \"ml.m5.large\",\n",
      "        \"current_group_name\": \"homogeneousCluster\",\n",
      "        \"hosts\": [\n",
      "            \"algo-1\"\n",
      "        ],\n",
      "        \"instance_groups\": [\n",
      "            {\n",
      "                \"instance_group_name\": \"homogeneousCluster\",\n",
      "                \"instance_type\": \"ml.m5.large\",\n",
      "                \"hosts\": [\n",
      "                    \"algo-1\"\n",
      "                ]\n",
      "            }\n",
      "        ],\n",
      "        \"network_interface_name\": \"eth0\"\n",
      "    },\n",
      "    \"user_entry_point\": \"pytorch_mnist.py\"\n",
      "}\n",
      "Environment variables:\n",
      "SM_HOSTS=[\"algo-1\"]\n",
      "SM_NETWORK_INTERFACE_NAME=eth0\n",
      "SM_HPS={\"batch-size\":\"32\",\"epochs\":\"2\",\"lr\":\"0.001\",\"test-batch-size\":\"100\"}\n",
      "SM_USER_ENTRY_POINT=pytorch_mnist.py\n",
      "SM_FRAMEWORK_PARAMS={}\n",
      "SM_RESOURCE_CONFIG={\"current_group_name\":\"homogeneousCluster\",\"current_host\":\"algo-1\",\"current_instance_type\":\"ml.m5.large\",\"hosts\":[\"algo-1\"],\"instance_groups\":[{\"hosts\":[\"algo-1\"],\"instance_group_name\":\"homogeneousCluster\",\"instance_type\":\"ml.m5.large\"}],\"network_interface_name\":\"eth0\"}\n",
      "SM_INPUT_DATA_CONFIG={}\n",
      "SM_OUTPUT_DATA_DIR=/opt/ml/output/data\n",
      "SM_CHANNELS=[]\n",
      "SM_CURRENT_HOST=algo-1\n",
      "SM_MODULE_NAME=pytorch_mnist\n",
      "SM_LOG_LEVEL=20\n",
      "SM_FRAMEWORK_MODULE=sagemaker_pytorch_container.training:main\n",
      "SM_INPUT_DIR=/opt/ml/input\n",
      "SM_INPUT_CONFIG_DIR=/opt/ml/input/config\n",
      "SM_OUTPUT_DIR=/opt/ml/output\n",
      "SM_NUM_CPUS=2\n",
      "SM_NUM_GPUS=0\n",
      "SM_MODEL_DIR=/opt/ml/model\n",
      "SM_MODULE_DIR=s3://sagemaker-us-east-1-061096721307/smdebugger-mnist-pytorch-2024-12-01-06-25-24-603/source/sourcedir.tar.gz\n",
      "SM_TRAINING_ENV={\"additional_framework_parameters\":{},\"channel_input_dirs\":{},\"current_host\":\"algo-1\",\"framework_module\":\"sagemaker_pytorch_container.training:main\",\"hosts\":[\"algo-1\"],\"hyperparameters\":{\"batch-size\":\"32\",\"epochs\":\"2\",\"lr\":\"0.001\",\"test-batch-size\":\"100\"},\"input_config_dir\":\"/opt/ml/input/config\",\"input_data_config\":{},\"input_dir\":\"/opt/ml/input\",\"is_master\":true,\"job_name\":\"smdebugger-mnist-pytorch-2024-12-01-06-25-24-603\",\"log_level\":20,\"master_hostname\":\"algo-1\",\"model_dir\":\"/opt/ml/model\",\"module_dir\":\"s3://sagemaker-us-east-1-061096721307/smdebugger-mnist-pytorch-2024-12-01-06-25-24-603/source/sourcedir.tar.gz\",\"module_name\":\"pytorch_mnist\",\"network_interface_name\":\"eth0\",\"num_cpus\":2,\"num_gpus\":0,\"output_data_dir\":\"/opt/ml/output/data\",\"output_dir\":\"/opt/ml/output\",\"output_intermediate_dir\":\"/opt/ml/output/intermediate\",\"resource_config\":{\"current_group_name\":\"homogeneousCluster\",\"current_host\":\"algo-1\",\"current_instance_type\":\"ml.m5.large\",\"hosts\":[\"algo-1\"],\"instance_groups\":[{\"hosts\":[\"algo-1\"],\"instance_group_name\":\"homogeneousCluster\",\"instance_type\":\"ml.m5.large\"}],\"network_interface_name\":\"eth0\"},\"user_entry_point\":\"pytorch_mnist.py\"}\n",
      "SM_USER_ARGS=[\"--batch-size\",\"32\",\"--epochs\",\"2\",\"--lr\",\"0.001\",\"--test-batch-size\",\"100\"]\n",
      "SM_OUTPUT_INTERMEDIATE_DIR=/opt/ml/output/intermediate\n",
      "SM_HP_BATCH-SIZE=32\n",
      "SM_HP_EPOCHS=2\n",
      "SM_HP_LR=0.001\n",
      "SM_HP_TEST-BATCH-SIZE=100\n",
      "PYTHONPATH=/opt/ml/code:/opt/conda/bin:/opt/conda/lib/python36.zip:/opt/conda/lib/python3.6:/opt/conda/lib/python3.6/lib-dynload:/opt/conda/lib/python3.6/site-packages\n",
      "Invoking script with the following command:\n",
      "/opt/conda/bin/python3.6 pytorch_mnist.py --batch-size 32 --epochs 2 --lr 0.001 --test-batch-size 100\n",
      "[2024-12-01 06:27:47.260 algo-1:27 INFO utils.py:27] RULE_JOB_STOP_SIGNAL_FILENAME: None\n",
      "[2024-12-01 06:27:47.510 algo-1:27 INFO profiler_config_parser.py:102] User has disabled profiler.\n",
      "Downloading http://yann.lecun.com/exdb/mnist/train-images-idx3-ubyte.gz\n",
      "Failed to download (trying next):\n",
      "HTTP Error 403: Forbidden\n",
      "Downloading https://ossci-datasets.s3.amazonaws.com/mnist/train-images-idx3-ubyte.gz\n",
      "Downloading https://ossci-datasets.s3.amazonaws.com/mnist/train-images-idx3-ubyte.gz to ./data/MNIST/raw/train-images-idx3-ubyte.gz\n",
      "Extracting ./data/MNIST/raw/train-images-idx3-ubyte.gz to ./data/MNIST/raw\n",
      "Downloading http://yann.lecun.com/exdb/mnist/train-labels-idx1-ubyte.gz\n",
      "Failed to download (trying next):\n",
      "HTTP Error 403: Forbidden\n",
      "Downloading https://ossci-datasets.s3.amazonaws.com/mnist/train-labels-idx1-ubyte.gz\n",
      "Downloading https://ossci-datasets.s3.amazonaws.com/mnist/train-labels-idx1-ubyte.gz to ./data/MNIST/raw/train-labels-idx1-ubyte.gz\n",
      "Extracting ./data/MNIST/raw/train-labels-idx1-ubyte.gz to ./data/MNIST/raw\n",
      "Downloading http://yann.lecun.com/exdb/mnist/t10k-images-idx3-ubyte.gz\n",
      "Failed to download (trying next):\n",
      "HTTP Error 403: Forbidden\n",
      "Downloading https://ossci-datasets.s3.amazonaws.com/mnist/t10k-images-idx3-ubyte.gz\n",
      "Downloading https://ossci-datasets.s3.amazonaws.com/mnist/t10k-images-idx3-ubyte.gz to ./data/MNIST/raw/t10k-images-idx3-ubyte.gz\n",
      "Extracting ./data/MNIST/raw/t10k-images-idx3-ubyte.gz to ./data/MNIST/raw\n",
      "Downloading http://yann.lecun.com/exdb/mnist/t10k-labels-idx1-ubyte.gz\n",
      "Failed to download (trying next):\n",
      "HTTP Error 403: Forbidden\n",
      "Downloading https://ossci-datasets.s3.amazonaws.com/mnist/t10k-labels-idx1-ubyte.gz\n",
      "Downloading https://ossci-datasets.s3.amazonaws.com/mnist/t10k-labels-idx1-ubyte.gz to ./data/MNIST/raw/t10k-labels-idx1-ubyte.gz\n",
      "Extracting ./data/MNIST/raw/t10k-labels-idx1-ubyte.gz to ./data/MNIST/raw\n",
      "Processing...\n",
      "Done!\n",
      "[2024-12-01 06:27:48.739 algo-1:27 INFO json_config.py:91] Creating hook from json_config at /opt/ml/input/config/debughookconfig.json.\n",
      "[2024-12-01 06:27:48.740 algo-1:27 INFO hook.py:201] tensorboard_dir has not been set for the hook. SMDebug will not be exporting tensorboard summaries.\n",
      "[2024-12-01 06:27:48.741 algo-1:27 INFO hook.py:255] Saving to /opt/ml/output/tensors\n",
      "[2024-12-01 06:27:48.741 algo-1:27 INFO state_store.py:77] The checkpoint config file /opt/ml/input/config/checkpointconfig.json does not exist.\n",
      "[2024-12-01 06:27:48.742 algo-1:27 INFO hook.py:591] name:model.0.weight count_params:144\n",
      "[2024-12-01 06:27:48.742 algo-1:27 INFO hook.py:591] name:model.0.bias count_params:16\n",
      "[2024-12-01 06:27:48.742 algo-1:27 INFO hook.py:591] name:model.2.weight count_params:4608\n",
      "[2024-12-01 06:27:48.742 algo-1:27 INFO hook.py:591] name:model.2.bias count_params:32\n",
      "[2024-12-01 06:27:48.742 algo-1:27 INFO hook.py:591] name:model.7.weight count_params:802816\n",
      "[2024-12-01 06:27:48.742 algo-1:27 INFO hook.py:591] name:model.7.bias count_params:128\n",
      "[2024-12-01 06:27:48.742 algo-1:27 INFO hook.py:591] name:model.10.weight count_params:1280\n",
      "[2024-12-01 06:27:48.742 algo-1:27 INFO hook.py:591] name:model.10.bias count_params:10\n",
      "[2024-12-01 06:27:48.742 algo-1:27 INFO hook.py:593] Total Trainable Params: 809034\n",
      "👉 Train Epoch: 0\n",
      "[2024-12-01 06:27:48.752 algo-1:27 INFO hook.py:425] Monitoring the collections: relu_input, gradients, losses\n",
      "[2024-12-01 06:27:48.754 algo-1:27 INFO hook.py:488] Hook is writing from the hook with pid: 27\n",
      "Train Epoch: 0 [0/60000 (0%)]#011Loss: 2.269663\n",
      "Train Epoch: 0 [3200/60000 (5%)]#011Loss: 1.769743\n",
      "Train Epoch: 0 [6400/60000 (11%)]#011Loss: 0.862143\n",
      "Train Epoch: 0 [9600/60000 (16%)]#011Loss: 0.659610\n",
      "Train Epoch: 0 [12800/60000 (21%)]#011Loss: 0.744159\n",
      "Train Epoch: 0 [16000/60000 (27%)]#011Loss: 0.531790\n",
      "Train Epoch: 0 [19200/60000 (32%)]#011Loss: 0.792947\n",
      "Train Epoch: 0 [22400/60000 (37%)]#011Loss: 0.562067\n",
      "Train Epoch: 0 [25600/60000 (43%)]#011Loss: 0.741576\n",
      "Train Epoch: 0 [28800/60000 (48%)]#011Loss: 0.360553\n",
      "Train Epoch: 0 [32000/60000 (53%)]#011Loss: 0.291820\n",
      "Train Epoch: 0 [35200/60000 (59%)]#011Loss: 0.652253\n",
      "Train Epoch: 0 [38400/60000 (64%)]#011Loss: 0.571499\n",
      "Train Epoch: 0 [41600/60000 (69%)]#011Loss: 0.558376\n",
      "Train Epoch: 0 [44800/60000 (75%)]#011Loss: 0.113821\n",
      "Train Epoch: 0 [48000/60000 (80%)]#011Loss: 0.456101\n",
      "Train Epoch: 0 [51200/60000 (85%)]#011Loss: 0.089589\n",
      "Train Epoch: 0 [54400/60000 (91%)]#011Loss: 0.546724\n",
      "Train Epoch: 0 [57600/60000 (96%)]#011Loss: 0.430521\n",
      "👉 Test set: Average loss: 0.1662, Accuracy: 9535/10000 (95%)\n",
      "👉 Train Epoch: 1\n",
      "Train Epoch: 1 [0/60000 (0%)]#011Loss: 0.375251\n",
      "Train Epoch: 1 [3200/60000 (5%)]#011Loss: 0.217757\n",
      "Train Epoch: 1 [6400/60000 (11%)]#011Loss: 0.529505\n",
      "Train Epoch: 1 [9600/60000 (16%)]#011Loss: 0.156675\n",
      "Train Epoch: 1 [12800/60000 (21%)]#011Loss: 0.239367\n",
      "Train Epoch: 1 [16000/60000 (27%)]#011Loss: 0.252416\n",
      "Train Epoch: 1 [19200/60000 (32%)]#011Loss: 0.324034\n",
      "Train Epoch: 1 [22400/60000 (37%)]#011Loss: 0.263784\n",
      "Train Epoch: 1 [25600/60000 (43%)]#011Loss: 0.258963\n",
      "Train Epoch: 1 [28800/60000 (48%)]#011Loss: 0.169918\n",
      "Train Epoch: 1 [32000/60000 (53%)]#011Loss: 0.154819\n",
      "Train Epoch: 1 [35200/60000 (59%)]#011Loss: 0.095885\n",
      "Train Epoch: 1 [38400/60000 (64%)]#011Loss: 0.222922\n",
      "Train Epoch: 1 [41600/60000 (69%)]#011Loss: 0.084805\n",
      "Train Epoch: 1 [44800/60000 (75%)]#011Loss: 0.115099\n",
      "Train Epoch: 1 [48000/60000 (80%)]#011Loss: 0.281338\n",
      "Train Epoch: 1 [51200/60000 (85%)]#011Loss: 0.093196\n",
      "Train Epoch: 1 [54400/60000 (91%)]#011Loss: 0.199544\n",
      "Train Epoch: 1 [57600/60000 (96%)]#011Loss: 0.365169\n",
      "👉 Test set: Average loss: 0.0975, Accuracy: 9712/10000 (97%)\n",
      "#015  0%|          | 0/9912422 [00:00<?, ?it/s]#0159913344it [00:00, 123438679.01it/s]        \n",
      "#015  0%|          | 0/28881 [00:00<?, ?it/s]#01529696it [00:00, 18871826.00it/s]         \n",
      "#015  0%|          | 0/1648877 [00:00<?, ?it/s]#0151649664it [00:00, 145934497.16it/s]        \n",
      "#015  0%|          | 0/4542 [00:00<?, ?it/s]#0155120it [00:00, 6275522.06it/s]          \n",
      "/opt/conda/lib/python3.6/site-packages/torchvision/datasets/mnist.py:502: UserWarning: The given NumPy array is not writeable, and PyTorch does not support non-writeable tensors. This means you can write to the underlying (supposedly non-writeable) NumPy array using the tensor. You may want to copy the array to protect its data or make it writeable before converting it to a tensor. This type of warning will be suppressed for the rest of this program. (Triggered internally at  ../torch/csrc/utils/tensor_numpy.cpp:143.)\n",
      "  return torch.from_numpy(parsed.astype(m[2], copy=False)).view(*s)\n",
      "2024-12-01 06:29:43,284 sagemaker-training-toolkit INFO     Reporting training SUCCESS\n",
      "\n",
      "2024-12-01 06:30:01 Uploading - Uploading generated training model\n",
      "2024-12-01 06:30:01 Completed - Training job completed\n",
      "Training seconds: 230\n",
      "Billable seconds: 230\n"
     ]
    }
   ],
   "source": [
    "hyperparameters = {\"epochs\": \"2\", \n",
    "                   \"batch-size\": \"32\", \n",
    "                   \"test-batch-size\": \"100\", \n",
    "                   \"lr\": \"0.001\"\n",
    "}\n",
    "estimator = PyTorch(\n",
    "    entry_point=\"..\\script mode\\scripts\\pytorch_mnist.py\",  ## my own script\n",
    "    base_job_name=\"smdebugger-mnist-pytorch\",\n",
    "    role=role_arn, #get_execution_role(),\n",
    "    instance_count=1,\n",
    "    instance_type=\"ml.m5.large\",\n",
    "    hyperparameters=hyperparameters,\n",
    "    framework_version=\"1.8\",\n",
    "    py_version=\"py36\",\n",
    "    ## Debugger parameters\n",
    "    rules=rules,\n",
    "    debugger_hook_config=hook_config,\n",
    ")\n",
    "estimator.fit(wait=True)\n",
    "## find the folder in the default SageMaker folder in S3\n",
    "## e.g. smdebugger-mnist-pytorch-2024-12-01-06-25-24-603/\n",
    "## 5m 21.6s"
   ]
  },
  {
   "cell_type": "code",
   "execution_count": 4,
   "id": "1339ad10",
   "metadata": {},
   "outputs": [
    {
     "name": "stdout",
     "output_type": "stream",
     "text": [
      "👉 smdebugger-mnist-pytorch-2024-12-01-06-25-24-603\n",
      "{'AlgorithmSpecification': {'EnableSageMakerMetricsTimeSeries': True,\n",
      "                            'TrainingImage': '763104351884.dkr.ecr.us-east-1.amazonaws.com/pytorch-training:1.8-cpu-py36',\n",
      "                            'TrainingInputMode': 'File'},\n",
      " 'BillableTimeInSeconds': 230,\n",
      " 'CreationTime': datetime.datetime(2024, 12, 1, 0, 25, 31, 727000, tzinfo=tzlocal()),\n",
      " 'DebugHookConfig': {'CollectionConfigurations': [{'CollectionName': 'relu_input',\n",
      "                                                   'CollectionParameters': {'include_regex': '.*relu_input',\n",
      "                                                                            'save_interval': '500'}},\n",
      "                                                  {'CollectionName': 'gradients',\n",
      "                                                   'CollectionParameters': {'save_interval': '500'}}],\n",
      "                     'HookParameters': {'eval.save_interval': '10',\n",
      "                                        'train.save_interval': '100'},\n",
      "                     'S3OutputPath': 's3://sagemaker-us-east-1-061096721307/'},\n",
      " 'DebugRuleConfigurations': [{'RuleConfigurationName': 'VanishingGradient',\n",
      "                              'RuleEvaluatorImage': '503895931360.dkr.ecr.us-east-1.amazonaws.com/sagemaker-debugger-rules:latest',\n",
      "                              'RuleParameters': {'rule_to_invoke': 'VanishingGradient'},\n",
      "                              'VolumeSizeInGB': 0},\n",
      "                             {'RuleConfigurationName': 'Overfit',\n",
      "                              'RuleEvaluatorImage': '503895931360.dkr.ecr.us-east-1.amazonaws.com/sagemaker-debugger-rules:latest',\n",
      "                              'RuleParameters': {'rule_to_invoke': 'Overfit'},\n",
      "                              'VolumeSizeInGB': 0},\n",
      "                             {'RuleConfigurationName': 'Overtraining',\n",
      "                              'RuleEvaluatorImage': '503895931360.dkr.ecr.us-east-1.amazonaws.com/sagemaker-debugger-rules:latest',\n",
      "                              'RuleParameters': {'rule_to_invoke': 'Overtraining'},\n",
      "                              'VolumeSizeInGB': 0},\n",
      "                             {'RuleConfigurationName': 'PoorWeightInitialization',\n",
      "                              'RuleEvaluatorImage': '503895931360.dkr.ecr.us-east-1.amazonaws.com/sagemaker-debugger-rules:latest',\n",
      "                              'RuleParameters': {'rule_to_invoke': 'PoorWeightInitialization'},\n",
      "                              'VolumeSizeInGB': 0}],\n",
      " 'DebugRuleEvaluationStatuses': [{'LastModifiedTime': datetime.datetime(2024, 12, 1, 0, 30, 4, 71000, tzinfo=tzlocal()),\n",
      "                                  'RuleConfigurationName': 'VanishingGradient',\n",
      "                                  'RuleEvaluationJobArn': 'arn:aws:sagemaker:us-east-1:061096721307:processing-job/smdebugger-mnist-pytorch-2-VanishingGradient-a09f9cb8',\n",
      "                                  'RuleEvaluationStatus': 'InProgress'},\n",
      "                                 {'LastModifiedTime': datetime.datetime(2024, 12, 1, 0, 30, 4, 71000, tzinfo=tzlocal()),\n",
      "                                  'RuleConfigurationName': 'Overfit',\n",
      "                                  'RuleEvaluationJobArn': 'arn:aws:sagemaker:us-east-1:061096721307:processing-job/smdebugger-mnist-pytorch-2-Overfit-ec1de4f5',\n",
      "                                  'RuleEvaluationStatus': 'InProgress'},\n",
      "                                 {'LastModifiedTime': datetime.datetime(2024, 12, 1, 0, 30, 4, 71000, tzinfo=tzlocal()),\n",
      "                                  'RuleConfigurationName': 'Overtraining',\n",
      "                                  'RuleEvaluationJobArn': 'arn:aws:sagemaker:us-east-1:061096721307:processing-job/smdebugger-mnist-pytorch-2-Overtraining-c97dfaea',\n",
      "                                  'RuleEvaluationStatus': 'InProgress'},\n",
      "                                 {'LastModifiedTime': datetime.datetime(2024, 12, 1, 0, 30, 4, 71000, tzinfo=tzlocal()),\n",
      "                                  'RuleConfigurationName': 'PoorWeightInitialization',\n",
      "                                  'RuleEvaluationJobArn': 'arn:aws:sagemaker:us-east-1:061096721307:processing-job/smdebugger-mnist-pytorch-2-PoorWeightInitialization-388a04e1',\n",
      "                                  'RuleEvaluationStatus': 'InProgress'}],\n",
      " 'EnableInterContainerTrafficEncryption': False,\n",
      " 'EnableManagedSpotTraining': False,\n",
      " 'EnableNetworkIsolation': False,\n",
      " 'HyperParameters': {'batch-size': '\"32\"',\n",
      "                     'epochs': '\"2\"',\n",
      "                     'lr': '\"0.001\"',\n",
      "                     'sagemaker_container_log_level': '20',\n",
      "                     'sagemaker_job_name': '\"smdebugger-mnist-pytorch-2024-12-01-06-25-24-603\"',\n",
      "                     'sagemaker_program': '\"pytorch_mnist.py\"',\n",
      "                     'sagemaker_region': '\"us-east-1\"',\n",
      "                     'sagemaker_submit_directory': '\"s3://sagemaker-us-east-1-061096721307/smdebugger-mnist-pytorch-2024-12-01-06-25-24-603/source/sourcedir.tar.gz\"',\n",
      "                     'test-batch-size': '\"100\"'},\n",
      " 'InputDataConfig': [],\n",
      " 'LastModifiedTime': datetime.datetime(2024, 12, 1, 0, 30, 15, 835000, tzinfo=tzlocal()),\n",
      " 'ModelArtifacts': {'S3ModelArtifacts': 's3://sagemaker-us-east-1-061096721307/smdebugger-mnist-pytorch-2024-12-01-06-25-24-603/output/model.tar.gz'},\n",
      " 'OutputDataConfig': {'CompressionType': 'GZIP',\n",
      "                      'KmsKeyId': '',\n",
      "                      'S3OutputPath': 's3://sagemaker-us-east-1-061096721307/'},\n",
      " 'ProfilerConfig': {'DisableProfiler': False,\n",
      "                    'ProfilingIntervalInMilliseconds': 500,\n",
      "                    'S3OutputPath': 's3://sagemaker-us-east-1-061096721307/'},\n",
      " 'ProfilerRuleConfigurations': [{'RuleConfigurationName': 'ProfilerReport',\n",
      "                                 'RuleEvaluatorImage': '503895931360.dkr.ecr.us-east-1.amazonaws.com/sagemaker-debugger-rules:latest',\n",
      "                                 'RuleParameters': {'rule_to_invoke': 'ProfilerReport'},\n",
      "                                 'VolumeSizeInGB': 0}],\n",
      " 'ProfilerRuleEvaluationStatuses': [{'LastModifiedTime': datetime.datetime(2024, 12, 1, 0, 30, 15, 831000, tzinfo=tzlocal()),\n",
      "                                     'RuleConfigurationName': 'ProfilerReport',\n",
      "                                     'RuleEvaluationJobArn': 'arn:aws:sagemaker:us-east-1:061096721307:processing-job/smdebugger-mnist-pytorch-2-ProfilerReport-28d9e622',\n",
      "                                     'RuleEvaluationStatus': 'InProgress'}],\n",
      " 'ProfilingStatus': 'Enabled',\n",
      " 'ResourceConfig': {'InstanceCount': 1,\n",
      "                    'InstanceType': 'ml.m5.large',\n",
      "                    'VolumeSizeInGB': 30},\n",
      " 'ResponseMetadata': {'HTTPHeaders': {'content-length': '5675',\n",
      "                                      'content-type': 'application/x-amz-json-1.1',\n",
      "                                      'date': 'Sun, 01 Dec 2024 06:30:21 GMT',\n",
      "                                      'x-amzn-requestid': '40a3d301-737b-437d-ab28-be58a54d2532'},\n",
      "                      'HTTPStatusCode': 200,\n",
      "                      'RequestId': '40a3d301-737b-437d-ab28-be58a54d2532',\n",
      "                      'RetryAttempts': 0},\n",
      " 'RoleArn': 'arn:aws:iam::061096721307:role/service-role/AmazonSageMaker-ExecutionRole-20241128T055392',\n",
      " 'SecondaryStatus': 'Completed',\n",
      " 'SecondaryStatusTransitions': [{'EndTime': datetime.datetime(2024, 12, 1, 0, 26, 11, 502000, tzinfo=tzlocal()),\n",
      "                                 'StartTime': datetime.datetime(2024, 12, 1, 0, 25, 31, 727000, tzinfo=tzlocal()),\n",
      "                                 'Status': 'Starting',\n",
      "                                 'StatusMessage': 'Preparing the instances for '\n",
      "                                                  'training'},\n",
      "                                {'EndTime': datetime.datetime(2024, 12, 1, 0, 27, 43, 41000, tzinfo=tzlocal()),\n",
      "                                 'StartTime': datetime.datetime(2024, 12, 1, 0, 26, 11, 502000, tzinfo=tzlocal()),\n",
      "                                 'Status': 'Downloading',\n",
      "                                 'StatusMessage': 'Downloading the training '\n",
      "                                                  'image'},\n",
      "                                {'EndTime': datetime.datetime(2024, 12, 1, 0, 29, 48, 795000, tzinfo=tzlocal()),\n",
      "                                 'StartTime': datetime.datetime(2024, 12, 1, 0, 27, 43, 41000, tzinfo=tzlocal()),\n",
      "                                 'Status': 'Training',\n",
      "                                 'StatusMessage': 'Training image download '\n",
      "                                                  'completed. Training in '\n",
      "                                                  'progress.'},\n",
      "                                {'EndTime': datetime.datetime(2024, 12, 1, 0, 30, 1, 355000, tzinfo=tzlocal()),\n",
      "                                 'StartTime': datetime.datetime(2024, 12, 1, 0, 29, 48, 795000, tzinfo=tzlocal()),\n",
      "                                 'Status': 'Uploading',\n",
      "                                 'StatusMessage': 'Uploading generated '\n",
      "                                                  'training model'},\n",
      "                                {'EndTime': datetime.datetime(2024, 12, 1, 0, 30, 1, 355000, tzinfo=tzlocal()),\n",
      "                                 'StartTime': datetime.datetime(2024, 12, 1, 0, 30, 1, 355000, tzinfo=tzlocal()),\n",
      "                                 'Status': 'Completed',\n",
      "                                 'StatusMessage': 'Training job completed'}],\n",
      " 'StoppingCondition': {'MaxRuntimeInSeconds': 86400},\n",
      " 'TrainingEndTime': datetime.datetime(2024, 12, 1, 0, 30, 1, 355000, tzinfo=tzlocal()),\n",
      " 'TrainingJobArn': 'arn:aws:sagemaker:us-east-1:061096721307:training-job/smdebugger-mnist-pytorch-2024-12-01-06-25-24-603',\n",
      " 'TrainingJobName': 'smdebugger-mnist-pytorch-2024-12-01-06-25-24-603',\n",
      " 'TrainingJobStatus': 'Completed',\n",
      " 'TrainingStartTime': datetime.datetime(2024, 12, 1, 0, 26, 11, 502000, tzinfo=tzlocal()),\n",
      " 'TrainingTimeInSeconds': 230}\n"
     ]
    }
   ],
   "source": [
    "from pprint import pprint\n",
    "job_name = estimator.latest_training_job.name\n",
    "client = estimator.sagemaker_session.sagemaker_client\n",
    "description = client.describe_training_job(TrainingJobName=job_name)\n",
    "print(\"👉\", job_name)\n",
    "pprint(description)"
   ]
  },
  {
   "cell_type": "markdown",
   "id": "d15162e5",
   "metadata": {},
   "source": [
    "## Checking Training Performance\n",
    "Below is some boilerplate code to get the training job object using the training job name and display the training metrics that we were tracking as well as some of the training tensors. The plots may not show up in the classroom, but it will show up when you train the model in SageMaker Studio.\n",
    "\n",
    "⚠️ If on a local computer, **skip this section**. Check the `model_debugging_create_trial.ipynb` file, which was run in SageMaker Studio.  "
   ]
  },
  {
   "cell_type": "code",
   "execution_count": 5,
   "id": "28ce5912",
   "metadata": {},
   "outputs": [
    {
     "name": "stdout",
     "output_type": "stream",
     "text": [
      "👉 s3://sagemaker-us-east-1-061096721307/smdebugger-mnist-pytorch-2024-12-01-06-25-24-603/debug-output\n"
     ]
    }
   ],
   "source": [
    "debug_output_path = estimator.latest_job_debugger_artifacts_path()\n",
    "debug_output_path = debug_output_path.replace(\"\\\\\", \"/\")  ## windows path\n",
    "print(\"👉\", debug_output_path)\n",
    "## s3://sagemaker-us-east-1-061096721307/smdebugger-mnist-pytorch-2024-12-01-04-25-13-088/debug-output"
   ]
  },
  {
   "cell_type": "code",
   "execution_count": null,
   "id": "67f87113",
   "metadata": {},
   "outputs": [],
   "source": [
    "## copy the files to local\n",
    "!mkdir debug_output\n",
    "!aws s3 cp {debug_output_path} ./debug_output/ --recursive"
   ]
  },
  {
   "cell_type": "code",
   "execution_count": null,
   "id": "bd1cef4c",
   "metadata": {},
   "outputs": [],
   "source": [
    "from smdebug.trials import create_trial\n",
    "from smdebug.core.modes import ModeKeys\n",
    "# trial = create_trial(debug_output_path)  ## S3 path\n",
    "trial = create_trial(r\"\\\\debug_output\")  ## local path\n",
    "## fetch tensor name and their lengths\n",
    "trial.tensor_names()\n",
    "## s3://sagemaker-us-east-1-061096721307/smdebugger-mnist-pytorch-2024-12-01-04-25-13-088/debug-output"
   ]
  },
  {
   "cell_type": "code",
   "execution_count": null,
   "id": "d99d3ab7",
   "metadata": {},
   "outputs": [],
   "source": [
    "len(trial.tensor(\"nll_loss_output_0\").steps(mode=ModeKeys.TRAIN))"
   ]
  },
  {
   "cell_type": "code",
   "execution_count": null,
   "id": "2fa4ee57",
   "metadata": {},
   "outputs": [],
   "source": [
    "## set up function to plot the output tensors\n",
    "import matplotlib.pyplot as plt\n",
    "from mpl_toolkits.axes_grid1 import host_subplot\n",
    "\n",
    "\n",
    "def get_data(trial, tname, mode):\n",
    "    tensor = trial.tensor(tname)\n",
    "    steps = tensor.steps(mode=mode)\n",
    "    vals = []\n",
    "    for s in steps:\n",
    "        vals.append(tensor.value(s, mode=mode))\n",
    "    return steps, vals\n",
    "\n",
    "\n",
    "def plot_tensor(trial, tensor_name):\n",
    "    steps_train, vals_train = get_data(trial, tensor_name, mode=ModeKeys.TRAIN)\n",
    "    print(\"loaded TRAIN data\")\n",
    "    steps_eval, vals_eval = get_data(trial, tensor_name, mode=ModeKeys.EVAL)\n",
    "    print(\"loaded EVAL data\")\n",
    "\n",
    "    plt.figure(figsize=(10, 7))\n",
    "    host = host_subplot(111)\n",
    "    par = host.twiny()\n",
    "    host.set_xlabel(\"Steps (TRAIN)\")\n",
    "    par.set_xlabel(\"Steps (EVAL)\")\n",
    "    host.set_ylabel(tensor_name)\n",
    "\n",
    "    (p1,) = host.plot(steps_train, vals_train, label=tensor_name)\n",
    "    print(\"completed TRAIN plot\")\n",
    "    (p2,) = par.plot(steps_eval, vals_eval, label=\"val_\" + tensor_name)\n",
    "    print(\"completed EVAL plot\")\n",
    "    leg = plt.legend()\n",
    "\n",
    "    host.xaxis.get_label().set_color(p1.get_color())\n",
    "    leg.texts[0].set_color(p1.get_color())\n",
    "\n",
    "    par.xaxis.get_label().set_color(p2.get_color())\n",
    "    leg.texts[1].set_color(p2.get_color())\n",
    "\n",
    "    plt.ylabel(tensor_name)\n",
    "    plt.show()\n",
    "\n",
    "\n",
    "plot_tensor(trial, \"nll_loss_output_0\")"
   ]
  },
  {
   "cell_type": "markdown",
   "id": "dc4f2fe7",
   "metadata": {},
   "source": [
    "## Display the Profiler Report\n",
    "The profiler report will be saved in an S3 bucket. Below we can see how to get the path of the report, fetch it and display it. The profiler report may not display in the notebook, but you can take a look at it from the ProfilerReport folder.  \n",
    "\n",
    "⚠️ Check result in the `model_debugging_profiling_report.ipynb` file."
   ]
  },
  {
   "cell_type": "code",
   "execution_count": 17,
   "id": "dfb7a751",
   "metadata": {},
   "outputs": [
    {
     "name": "stdout",
     "output_type": "stream",
     "text": [
      "👉 s3://sagemaker-us-east-1-061096721307/smdebugger-mnist-pytorch-2024-12-01-06-25-24-603/rule-output\n"
     ]
    }
   ],
   "source": [
    "rule_output_path = estimator.output_path + estimator.latest_training_job.job_name + \"/rule-output\"\n",
    "print(\"👉\", rule_output_path)"
   ]
  },
  {
   "cell_type": "code",
   "execution_count": null,
   "id": "060d01b6",
   "metadata": {},
   "outputs": [
    {
     "name": "stdout",
     "output_type": "stream",
     "text": [
      "Completed 199 Bytes/491.0 KiB (202 Bytes/s) with 13 file(s) remaining\n",
      "Completed 326 Bytes/491.0 KiB (331 Bytes/s) with 13 file(s) remaining\n",
      "Completed 524 Bytes/491.0 KiB (533 Bytes/s) with 13 file(s) remaining\n",
      "Completed 650 Bytes/491.0 KiB (661 Bytes/s) with 13 file(s) remaining\n",
      "Completed 841 Bytes/491.0 KiB (855 Bytes/s) with 13 file(s) remaining\n",
      "download: s3://sagemaker-us-east-1-061096721307/smdebugger-mnist-pytorch-2024-12-01-06-25-24-603/rule-output/ProfilerReport/profiler-output/profiler-reports/Dataloader.json to rule_output\\ProfilerReport\\profiler-output\\profiler-reports\\Dataloader.json\n",
      "Completed 841 Bytes/491.0 KiB (855 Bytes/s) with 12 file(s) remaining\n",
      "download: s3://sagemaker-us-east-1-061096721307/smdebugger-mnist-pytorch-2024-12-01-06-25-24-603/rule-output/ProfilerReport/profiler-output/profiler-reports/CPUBottleneck.json to rule_output\\ProfilerReport\\profiler-output\\profiler-reports\\CPUBottleneck.json\n",
      "Completed 841 Bytes/491.0 KiB (855 Bytes/s) with 11 file(s) remaining\n",
      "download: s3://sagemaker-us-east-1-061096721307/smdebugger-mnist-pytorch-2024-12-01-06-25-24-603/rule-output/ProfilerReport/profiler-output/profiler-reports/IOBottleneck.json to rule_output\\ProfilerReport\\profiler-output\\profiler-reports\\IOBottleneck.json\n",
      "Completed 841 Bytes/491.0 KiB (855 Bytes/s) with 10 file(s) remaining\n",
      "download: s3://sagemaker-us-east-1-061096721307/smdebugger-mnist-pytorch-2024-12-01-06-25-24-603/rule-output/ProfilerReport/profiler-output/profiler-reports/BatchSize.json to rule_output\\ProfilerReport\\profiler-output\\profiler-reports\\BatchSize.json\n",
      "Completed 841 Bytes/491.0 KiB (855 Bytes/s) with 9 file(s) remaining\n",
      "download: s3://sagemaker-us-east-1-061096721307/smdebugger-mnist-pytorch-2024-12-01-06-25-24-603/rule-output/ProfilerReport/profiler-output/profiler-reports/GPUMemoryIncrease.json to rule_output\\ProfilerReport\\profiler-output\\profiler-reports\\GPUMemoryIncrease.json\n",
      "Completed 841 Bytes/491.0 KiB (855 Bytes/s) with 8 file(s) remaining\n",
      "Completed 960 Bytes/491.0 KiB (952 Bytes/s) with 8 file(s) remaining\n",
      "download: s3://sagemaker-us-east-1-061096721307/smdebugger-mnist-pytorch-2024-12-01-06-25-24-603/rule-output/ProfilerReport/profiler-output/profiler-reports/LoadBalancing.json to rule_output\\ProfilerReport\\profiler-output\\profiler-reports\\LoadBalancing.json\n",
      "Completed 960 Bytes/491.0 KiB (952 Bytes/s) with 7 file(s) remaining\n",
      "Completed 1.1 KiB/491.0 KiB (1.1 KiB/s) with 7 file(s) remaining    \n",
      "download: s3://sagemaker-us-east-1-061096721307/smdebugger-mnist-pytorch-2024-12-01-06-25-24-603/rule-output/ProfilerReport/profiler-output/profiler-reports/MaxInitializationTime.json to rule_output\\ProfilerReport\\profiler-output\\profiler-reports\\MaxInitializationTime.json\n",
      "Completed 1.1 KiB/491.0 KiB (1.1 KiB/s) with 6 file(s) remaining\n",
      "Completed 1.3 KiB/491.0 KiB (1.2 KiB/s) with 6 file(s) remaining\n",
      "download: s3://sagemaker-us-east-1-061096721307/smdebugger-mnist-pytorch-2024-12-01-06-25-24-603/rule-output/ProfilerReport/profiler-output/profiler-reports/LowGPUUtilization.json to rule_output\\ProfilerReport\\profiler-output\\profiler-reports\\LowGPUUtilization.json\n",
      "Completed 1.3 KiB/491.0 KiB (1.2 KiB/s) with 5 file(s) remaining\n",
      "Completed 1.4 KiB/491.0 KiB (1.2 KiB/s) with 5 file(s) remaining\n",
      "download: s3://sagemaker-us-east-1-061096721307/smdebugger-mnist-pytorch-2024-12-01-06-25-24-603/rule-output/ProfilerReport/profiler-output/profiler-reports/StepOutlier.json to rule_output\\ProfilerReport\\profiler-output\\profiler-reports\\StepOutlier.json\n",
      "Completed 1.4 KiB/491.0 KiB (1.2 KiB/s) with 4 file(s) remaining\n",
      "Completed 1.5 KiB/491.0 KiB (1.3 KiB/s) with 4 file(s) remaining\n",
      "download: s3://sagemaker-us-east-1-061096721307/smdebugger-mnist-pytorch-2024-12-01-06-25-24-603/rule-output/ProfilerReport/profiler-output/profiler-reports/OverallFrameworkMetrics.json to rule_output\\ProfilerReport\\profiler-output\\profiler-reports\\OverallFrameworkMetrics.json\n",
      "Completed 1.5 KiB/491.0 KiB (1.3 KiB/s) with 3 file(s) remaining\n",
      "Completed 2.0 KiB/491.0 KiB (1.7 KiB/s) with 3 file(s) remaining\n",
      "download: s3://sagemaker-us-east-1-061096721307/smdebugger-mnist-pytorch-2024-12-01-06-25-24-603/rule-output/ProfilerReport/profiler-output/profiler-reports/OverallSystemUsage.json to rule_output\\ProfilerReport\\profiler-output\\profiler-reports\\OverallSystemUsage.json\n",
      "Completed 2.0 KiB/491.0 KiB (1.7 KiB/s) with 2 file(s) remaining\n",
      "Completed 169.1 KiB/491.0 KiB (138.3 KiB/s) with 2 file(s) remaining\n",
      "download: s3://sagemaker-us-east-1-061096721307/smdebugger-mnist-pytorch-2024-12-01-06-25-24-603/rule-output/ProfilerReport/profiler-output/profiler-report.ipynb to rule_output\\ProfilerReport\\profiler-output\\profiler-report.ipynb\n",
      "Completed 169.1 KiB/491.0 KiB (138.3 KiB/s) with 1 file(s) remaining\n",
      "Completed 425.1 KiB/491.0 KiB (326.3 KiB/s) with 1 file(s) remaining\n",
      "Completed 491.0 KiB/491.0 KiB (371.2 KiB/s) with 1 file(s) remaining\n",
      "download: s3://sagemaker-us-east-1-061096721307/smdebugger-mnist-pytorch-2024-12-01-06-25-24-603/rule-output/ProfilerReport/profiler-output/profiler-report.html to rule_output\\ProfilerReport\\profiler-output\\profiler-report.html\n"
     ]
    }
   ],
   "source": [
    "## copy the files to local\n",
    "!mkdir rule_output\n",
    "!aws s3 cp {rule_output_path} ./rule_output/ --recursive"
   ]
  },
  {
   "cell_type": "code",
   "execution_count": 21,
   "id": "54303dba",
   "metadata": {},
   "outputs": [
    {
     "name": "stdout",
     "output_type": "stream",
     "text": [
      "👉  rule_output/ProfilerReport/profiler-output/profiler-report.html\n"
     ]
    },
    {
     "data": {
      "text/html": [],
      "text/plain": [
       "<IPython.core.display.HTML object>"
      ]
     },
     "metadata": {},
     "output_type": "display_data"
    }
   ],
   "source": [
    "import os\n",
    "# get the autogenerated folder name of profiler report\n",
    "profiler_report_folder = [\n",
    "    rule[\"RuleConfigurationName\"]\n",
    "    for rule in estimator.latest_training_job.rule_job_summary()\n",
    "    if \"Profiler\" in rule[\"RuleConfigurationName\"]\n",
    "][0]\n",
    "filename = \"rule_output/\" + profiler_report_folder + \"/profiler-output/profiler-report.html\"\n",
    "print(\"👉 \", filename)\n",
    "\n",
    "from IPython.display import display, HTML\n",
    "# HTML(filename=filename)\n",
    "###########################################################################\n",
    "## If you are using dark mode and the bright HTML display hurts your eyes, \n",
    "## run the following code to clear it. You are welcome!\n",
    "###########################################################################\n",
    "## Clear any existing HTML or formatting issues\n",
    "display(HTML(''))"
   ]
  }
 ],
 "metadata": {
  "kernelspec": {
   "display_name": "awsmle_py310",
   "language": "python",
   "name": "python3"
  },
  "language_info": {
   "codemirror_mode": {
    "name": "ipython",
    "version": 3
   },
   "file_extension": ".py",
   "mimetype": "text/x-python",
   "name": "python",
   "nbconvert_exporter": "python",
   "pygments_lexer": "ipython3",
   "version": "3.10.15"
  }
 },
 "nbformat": 4,
 "nbformat_minor": 5
}
