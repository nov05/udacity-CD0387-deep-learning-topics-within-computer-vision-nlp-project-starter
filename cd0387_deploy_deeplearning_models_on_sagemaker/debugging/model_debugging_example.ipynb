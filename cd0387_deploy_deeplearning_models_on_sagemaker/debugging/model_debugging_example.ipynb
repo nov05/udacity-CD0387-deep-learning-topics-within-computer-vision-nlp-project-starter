{
 "cells": [
  {
   "cell_type": "markdown",
   "id": "f9800bf7",
   "metadata": {},
   "source": [
    "# SageMaker Model Debugging\n",
    "\n",
    "Here we will see how we can use Sagemaker Debugging to see our model training performance as well as generate a simple report called the Profiler Report that gives us an overview of our training job.\n",
    "\n",
    "First we will need to install `smdebug`."
   ]
  },
  {
   "cell_type": "markdown",
   "id": "c78de49e",
   "metadata": {},
   "source": [
    "## `pytorch_mnist.py`\n",
    "<details>\n",
    "  <summary> Click here to see the full script code </summary>\n",
    "   \n",
    "``` python\n",
    "import argparse\n",
    "import torch\n",
    "import torch.nn as nn\n",
    "import torch.nn.functional as F\n",
    "import torch.optim as optim\n",
    "from torchvision import datasets, transforms\n",
    "\n",
    "# ====================================#\n",
    "# 1. Import SMDebug framework class. #\n",
    "# ====================================#\n",
    "import smdebug.pytorch as smd\n",
    "\n",
    "\n",
    "class Net(nn.Module):\n",
    "    def __init__(self):\n",
    "        super(Net, self).__init__()\n",
    "        self.conv1 = nn.Conv2d(1, 32, 3, 1)\n",
    "        self.conv2 = nn.Conv2d(32, 64, 3, 1)\n",
    "        self.dropout1 = nn.Dropout(0.25)\n",
    "        self.dropout2 = nn.Dropout(0.5)\n",
    "        self.fc1 = nn.Linear(9216, 128)\n",
    "        self.fc2 = nn.Linear(128, 10)\n",
    "\n",
    "    def forward(self, x):\n",
    "        x = self.conv1(x)\n",
    "        x = F.relu(x)\n",
    "        x = self.conv2(x)\n",
    "        x = F.relu(x)\n",
    "        x = F.max_pool2d(x, 2)\n",
    "        x = self.dropout1(x)\n",
    "        x = torch.flatten(x, 1)\n",
    "        x = self.fc1(x)\n",
    "        x = F.relu(x)\n",
    "        x = self.dropout2(x)\n",
    "        x = self.fc2(x)\n",
    "        output = F.log_softmax(x, dim=1)\n",
    "        return output\n",
    "\n",
    "\n",
    "def train(model, train_loader, optimizer, epoch, hook):\n",
    "    model.train()\n",
    "    # =================================================#\n",
    "    # 2. Set the SMDebug hook for the training phase. #\n",
    "    # =================================================#\n",
    "    hook.set_mode(smd.modes.TRAIN)\n",
    "    for batch_idx, (data, target) in enumerate(train_loader):\n",
    "        optimizer.zero_grad()\n",
    "        output = model(data)\n",
    "        loss = F.nll_loss(output, target)\n",
    "        loss.backward()\n",
    "        optimizer.step()\n",
    "        if batch_idx % 100 == 0:\n",
    "            print(\n",
    "                \"Train Epoch: {} [{}/{} ({:.0f}%)]\\tLoss: {:.6f}\".format(\n",
    "                    epoch,\n",
    "                    batch_idx * len(data),\n",
    "                    len(train_loader.dataset),\n",
    "                    100.0 * batch_idx / len(train_loader),\n",
    "                    loss.item(),\n",
    "                )\n",
    "            )\n",
    "\n",
    "def test(model, test_loader, hook):\n",
    "    model.eval()\n",
    "    # ===================================================#\n",
    "    # 3. Set the SMDebug hook for the validation phase. #\n",
    "    # ===================================================#\n",
    "    hook.set_mode(smd.modes.EVAL)\n",
    "    test_loss = 0\n",
    "    correct = 0\n",
    "    with torch.no_grad():\n",
    "        for data, target in test_loader:\n",
    "            output = model(data)\n",
    "            test_loss += F.nll_loss(output, target, reduction=\"sum\").item()  # sum up batch loss\n",
    "            pred = output.argmax(dim=1, keepdim=True)  # get the index of the max log-probability\n",
    "            correct += pred.eq(target.view_as(pred)).sum().item()\n",
    "\n",
    "    test_loss /= len(test_loader.dataset)\n",
    "\n",
    "    print(\n",
    "        \"\\nTest set: Average loss: {:.4f}, Accuracy: {}/{} ({:.0f}%)\\n\".format(\n",
    "            test_loss, correct, len(test_loader.dataset), 100.0 * correct / len(test_loader.dataset)\n",
    "        )\n",
    "    )\n",
    "\n",
    "\n",
    "def main():\n",
    "    # Training settings\n",
    "    parser = argparse.ArgumentParser()\n",
    "    parser.add_argument(\n",
    "        \"--batch-size\",\n",
    "        type=int,\n",
    "        default=64,\n",
    "        metavar=\"N\",\n",
    "        help=\"input batch size for training (default: 64)\",\n",
    "    )\n",
    "    parser.add_argument(\n",
    "        \"--test-batch-size\",\n",
    "        type=int,\n",
    "        default=1000,\n",
    "        metavar=\"N\",\n",
    "        help=\"input batch size for testing (default: 1000)\",\n",
    "    )\n",
    "    parser.add_argument(\n",
    "        \"--epochs\",\n",
    "        type=int,\n",
    "        default=14,\n",
    "        metavar=\"N\",\n",
    "        help=\"number of epochs to train (default: 14)\",\n",
    "    )\n",
    "    parser.add_argument(\n",
    "        \"--lr\", type=float, default=1.0, metavar=\"LR\", help=\"learning rate (default: 1.0)\"\n",
    "    )\n",
    "    args = parser.parse_args()\n",
    "    \n",
    "    train_kwargs = {\"batch_size\": args.batch_size}\n",
    "    test_kwargs = {\"batch_size\": args.test_batch_size}\n",
    "\n",
    "    transform = transforms.Compose(\n",
    "        [transforms.ToTensor(), transforms.Normalize((0.1307,), (0.3081,))]\n",
    "    )\n",
    "    dataset1 = datasets.MNIST(\"../data\", train=True, download=True, transform=transform)\n",
    "    dataset2 = datasets.MNIST(\"../data\", train=False, transform=transform)\n",
    "    train_loader = torch.utils.data.DataLoader(dataset1, **train_kwargs)\n",
    "    test_loader = torch.utils.data.DataLoader(dataset2, **test_kwargs)\n",
    "\n",
    "    model = Net()\n",
    "\n",
    "    # ======================================================#\n",
    "    # 4. Register the SMDebug hook to save output tensors. #\n",
    "    # ======================================================#\n",
    "    hook = smd.Hook.create_from_json_file()\n",
    "    hook.register_hook(model)\n",
    "\n",
    "    optimizer = optim.Adadelta(model.parameters(), lr=args.lr)\n",
    "\n",
    "    for epoch in range(1, args.epochs + 1):\n",
    "        # ===========================================================#\n",
    "        # 5. Pass the SMDebug hook to the train and test functions. #\n",
    "        # ===========================================================#\n",
    "        train(model, train_loader, optimizer, epoch, hook)\n",
    "        test(model, test_loader, hook)\n",
    "\n",
    "    torch.save(model.state_dict(), \"mnist_cnn.pt\")\n",
    "\n",
    "\n",
    "if __name__ == \"__main__\":\n",
    "    main()\n",
    "```\n",
    "</details>"
   ]
  },
  {
   "cell_type": "code",
   "execution_count": 1,
   "id": "59292dcb",
   "metadata": {
    "execution": {
     "iopub.execute_input": "2021-06-01T00:12:50.983163Z",
     "iopub.status.busy": "2021-06-01T00:12:50.982377Z",
     "iopub.status.idle": "2021-06-01T00:12:53.182409Z",
     "shell.execute_reply": "2021-06-01T00:12:53.182792Z"
    },
    "papermill": {
     "duration": 2.225115,
     "end_time": "2021-06-01T00:12:53.182922",
     "exception": false,
     "start_time": "2021-06-01T00:12:50.957807",
     "status": "completed"
    },
    "tags": []
   },
   "outputs": [
    {
     "name": "stdout",
     "output_type": "stream",
     "text": [
      "Looking in indexes: https://pypi.org/simple, https://pip.repos.neuron.amazonaws.com\n",
      "Requirement already satisfied: smdebug in /home/ec2-user/anaconda3/envs/pytorch_p38/lib/python3.8/site-packages (1.0.12)\n",
      "Requirement already satisfied: protobuf>=3.6.0 in /home/ec2-user/anaconda3/envs/pytorch_p38/lib/python3.8/site-packages (from smdebug) (3.19.4)\n",
      "Requirement already satisfied: packaging in /home/ec2-user/anaconda3/envs/pytorch_p38/lib/python3.8/site-packages (from smdebug) (21.3)\n",
      "Requirement already satisfied: numpy>=1.16.0 in /home/ec2-user/anaconda3/envs/pytorch_p38/lib/python3.8/site-packages (from smdebug) (1.21.2)\n",
      "Requirement already satisfied: boto3>=1.10.32 in /home/ec2-user/anaconda3/envs/pytorch_p38/lib/python3.8/site-packages (from smdebug) (1.26.35)\n",
      "Requirement already satisfied: pyinstrument==3.4.2 in /home/ec2-user/anaconda3/envs/pytorch_p38/lib/python3.8/site-packages (from smdebug) (3.4.2)\n",
      "Requirement already satisfied: pyinstrument-cext>=0.2.2 in /home/ec2-user/anaconda3/envs/pytorch_p38/lib/python3.8/site-packages (from pyinstrument==3.4.2->smdebug) (0.2.4)\n",
      "Requirement already satisfied: s3transfer<0.7.0,>=0.6.0 in /home/ec2-user/anaconda3/envs/pytorch_p38/lib/python3.8/site-packages (from boto3>=1.10.32->smdebug) (0.6.0)\n",
      "Requirement already satisfied: jmespath<2.0.0,>=0.7.1 in /home/ec2-user/anaconda3/envs/pytorch_p38/lib/python3.8/site-packages (from boto3>=1.10.32->smdebug) (0.10.0)\n",
      "Requirement already satisfied: botocore<1.30.0,>=1.29.35 in /home/ec2-user/anaconda3/envs/pytorch_p38/lib/python3.8/site-packages (from boto3>=1.10.32->smdebug) (1.29.45)\n",
      "Requirement already satisfied: pyparsing!=3.0.5,>=2.0.2 in /home/ec2-user/anaconda3/envs/pytorch_p38/lib/python3.8/site-packages (from packaging->smdebug) (3.0.6)\n",
      "Requirement already satisfied: urllib3<1.27,>=1.25.4 in /home/ec2-user/anaconda3/envs/pytorch_p38/lib/python3.8/site-packages (from botocore<1.30.0,>=1.29.35->boto3>=1.10.32->smdebug) (1.26.8)\n",
      "Requirement already satisfied: python-dateutil<3.0.0,>=2.1 in /home/ec2-user/anaconda3/envs/pytorch_p38/lib/python3.8/site-packages (from botocore<1.30.0,>=1.29.35->boto3>=1.10.32->smdebug) (2.8.2)\n",
      "Requirement already satisfied: six>=1.5 in /home/ec2-user/anaconda3/envs/pytorch_p38/lib/python3.8/site-packages (from python-dateutil<3.0.0,>=2.1->botocore<1.30.0,>=1.29.35->boto3>=1.10.32->smdebug) (1.16.0)\n",
      "\u001b[33mWARNING: You are using pip version 22.0.4; however, version 22.3.1 is available.\n",
      "You should consider upgrading via the '/home/ec2-user/anaconda3/envs/pytorch_p38/bin/python -m pip install --upgrade pip' command.\u001b[0m\u001b[33m\n",
      "\u001b[0m"
     ]
    }
   ],
   "source": [
    "!pip install smdebug"
   ]
  },
  {
   "cell_type": "markdown",
   "id": "caa060d6",
   "metadata": {},
   "source": [
    "## Debugger Rule and Configs\n",
    "\n",
    "Next we need to import the packages we will need and specify the debugger rules and configs. We will check for overfitting, overtraining, poor weight initialization and vanishing gradients. We will also set a save interval of 100 and 10 for training and testing respectively."
   ]
  },
  {
   "cell_type": "code",
   "execution_count": 2,
   "id": "0293b4f4",
   "metadata": {
    "execution": {
     "iopub.execute_input": "2021-06-01T00:12:54.236549Z",
     "iopub.status.busy": "2021-06-01T00:12:54.236025Z",
     "iopub.status.idle": "2021-06-01T00:12:54.311575Z",
     "shell.execute_reply": "2021-06-01T00:12:54.311163Z"
    },
    "papermill": {
     "duration": 0.101981,
     "end_time": "2021-06-01T00:12:54.311710",
     "exception": false,
     "start_time": "2021-06-01T00:12:54.209729",
     "status": "completed"
    },
    "tags": []
   },
   "outputs": [],
   "source": [
    "from sagemaker.pytorch import PyTorch\n",
    "from sagemaker import get_execution_role\n",
    "from sagemaker.debugger import (\n",
    "    Rule,\n",
    "    DebuggerHookConfig,\n",
    "    rule_configs,\n",
    ")"
   ]
  },
  {
   "cell_type": "code",
   "execution_count": 3,
   "id": "de38fb14",
   "metadata": {
    "execution": {
     "iopub.execute_input": "2021-06-01T00:12:54.498223Z",
     "iopub.status.busy": "2021-06-01T00:12:54.497648Z",
     "iopub.status.idle": "2021-06-01T00:12:54.500307Z",
     "shell.execute_reply": "2021-06-01T00:12:54.500661Z"
    },
    "papermill": {
     "duration": 0.028483,
     "end_time": "2021-06-01T00:12:54.500772",
     "exception": false,
     "start_time": "2021-06-01T00:12:54.472289",
     "status": "completed"
    },
    "tags": []
   },
   "outputs": [],
   "source": [
    "from sagemaker.debugger import Rule, ProfilerRule, rule_configs\n",
    "\n",
    "rules = [\n",
    "    Rule.sagemaker(rule_configs.vanishing_gradient()),\n",
    "    Rule.sagemaker(rule_configs.overfit()),\n",
    "    Rule.sagemaker(rule_configs.overtraining()),\n",
    "    Rule.sagemaker(rule_configs.poor_weight_initialization()),\n",
    "    ProfilerRule.sagemaker(rule_configs.ProfilerReport()),\n",
    "]"
   ]
  },
  {
   "cell_type": "code",
   "execution_count": 4,
   "id": "f64ae52a",
   "metadata": {
    "execution": {
     "iopub.execute_input": "2021-06-01T00:12:54.639138Z",
     "iopub.status.busy": "2021-06-01T00:12:54.638674Z",
     "iopub.status.idle": "2021-06-01T00:12:54.640955Z",
     "shell.execute_reply": "2021-06-01T00:12:54.640582Z"
    },
    "papermill": {
     "duration": 0.028125,
     "end_time": "2021-06-01T00:12:54.641048",
     "exception": false,
     "start_time": "2021-06-01T00:12:54.612923",
     "status": "completed"
    },
    "tags": []
   },
   "outputs": [],
   "source": [
    "hook_config = DebuggerHookConfig(\n",
    "    hook_parameters={\"train.save_interval\": \"100\", \"eval.save_interval\": \"10\"}\n",
    ")"
   ]
  },
  {
   "cell_type": "markdown",
   "id": "2c4ce3e3",
   "metadata": {},
   "source": [
    "Next we will specify the hyperparameters and create our estimator. In our estimator, we will additionally need to specify the debugger rules and configs that we created before."
   ]
  },
  {
   "cell_type": "code",
   "execution_count": 5,
   "id": "dee8ba67",
   "metadata": {
    "execution": {
     "iopub.execute_input": "2021-06-01T00:12:54.404516Z",
     "iopub.status.busy": "2021-06-01T00:12:54.404049Z",
     "iopub.status.idle": "2021-06-01T00:12:54.406120Z",
     "shell.execute_reply": "2021-06-01T00:12:54.405743Z"
    },
    "papermill": {
     "duration": 0.027379,
     "end_time": "2021-06-01T00:12:54.406215",
     "exception": false,
     "start_time": "2021-06-01T00:12:54.378836",
     "status": "completed"
    },
    "tags": []
   },
   "outputs": [],
   "source": [
    "hyperparameters = {\"epochs\": \"2\", \"batch-size\": \"32\", \"test-batch-size\": \"100\", \"lr\": \"0.001\"}"
   ]
  },
  {
   "cell_type": "code",
   "execution_count": 6,
   "id": "6b85fd41",
   "metadata": {
    "execution": {
     "iopub.execute_input": "2021-06-01T00:12:54.742240Z",
     "iopub.status.busy": "2021-06-01T00:12:54.741779Z",
     "iopub.status.idle": "2021-06-01T00:12:55.230825Z",
     "shell.execute_reply": "2021-06-01T00:12:55.230404Z"
    },
    "papermill": {
     "duration": 0.523246,
     "end_time": "2021-06-01T00:12:55.230932",
     "exception": false,
     "start_time": "2021-06-01T00:12:54.707686",
     "status": "completed"
    },
    "tags": []
   },
   "outputs": [],
   "source": [
    "estimator = PyTorch(\n",
    "    entry_point=\"pytorch_mnist.py\",\n",
    "    base_job_name=\"smdebugger-mnist-pytorch\",\n",
    "    role=get_execution_role(),\n",
    "    instance_count=1,\n",
    "    instance_type=\"ml.m5.large\",\n",
    "    hyperparameters=hyperparameters,\n",
    "    framework_version=\"1.8\",\n",
    "    py_version=\"py36\",\n",
    "    ## Debugger parameters\n",
    "    rules=rules,\n",
    "    debugger_hook_config=hook_config,\n",
    ")"
   ]
  },
  {
   "cell_type": "code",
   "execution_count": 7,
   "id": "3535c505",
   "metadata": {
    "execution": {
     "iopub.execute_input": "2021-06-01T00:12:55.325134Z",
     "iopub.status.busy": "2021-06-01T00:12:55.324659Z",
     "iopub.status.idle": "2021-06-01T00:12:55.949963Z",
     "shell.execute_reply": "2021-06-01T00:12:55.949524Z"
    },
    "papermill": {
     "duration": 0.651289,
     "end_time": "2021-06-01T00:12:55.950072",
     "exception": false,
     "start_time": "2021-06-01T00:12:55.298783",
     "status": "completed"
    },
    "scrolled": true,
    "tags": []
   },
   "outputs": [
    {
     "name": "stderr",
     "output_type": "stream",
     "text": [
      "INFO:sagemaker.image_uris:image_uri is not presented, retrieving image_uri based on instance_type, framework etc.\n",
      "INFO:sagemaker:Creating training-job with name: smdebugger-mnist-pytorch-2023-01-07-00-00-24-468\n"
     ]
    },
    {
     "name": "stdout",
     "output_type": "stream",
     "text": [
      "2023-01-07 00:00:26 Starting - Starting the training job...\n",
      "2023-01-07 00:00:53 Starting - Preparing the instances for trainingVanishingGradient: InProgress\n",
      "Overfit: InProgress\n",
      "Overtraining: InProgress\n",
      "PoorWeightInitialization: InProgress\n",
      "ProfilerReport: InProgress\n",
      "......\n",
      "2023-01-07 00:02:07 Downloading - Downloading input data...\n",
      "2023-01-07 00:02:28 Training - Downloading the training image......\n",
      "2023-01-07 00:03:34 Training - Training image download completed. Training in progress...\u001b[34mbash: cannot set terminal process group (-1): Inappropriate ioctl for device\u001b[0m\n",
      "\u001b[34mbash: no job control in this shell\u001b[0m\n",
      "\u001b[34m2023-01-07 00:03:44,489 sagemaker-training-toolkit INFO     Imported framework sagemaker_pytorch_container.training\u001b[0m\n",
      "\u001b[34m2023-01-07 00:03:44,492 sagemaker-training-toolkit INFO     No GPUs detected (normal if no gpus installed)\u001b[0m\n",
      "\u001b[34m2023-01-07 00:03:44,500 sagemaker_pytorch_container.training INFO     Block until all host DNS lookups succeed.\u001b[0m\n",
      "\u001b[34m2023-01-07 00:03:44,502 sagemaker_pytorch_container.training INFO     Invoking user training script.\u001b[0m\n",
      "\u001b[34m2023-01-07 00:03:44,691 sagemaker-training-toolkit INFO     No GPUs detected (normal if no gpus installed)\u001b[0m\n",
      "\u001b[34m2023-01-07 00:03:44,704 sagemaker-training-toolkit INFO     No GPUs detected (normal if no gpus installed)\u001b[0m\n",
      "\u001b[34m2023-01-07 00:03:44,715 sagemaker-training-toolkit INFO     No GPUs detected (normal if no gpus installed)\u001b[0m\n",
      "\u001b[34m2023-01-07 00:03:44,724 sagemaker-training-toolkit INFO     Invoking user script\u001b[0m\n",
      "\u001b[34mTraining Env:\u001b[0m\n",
      "\u001b[34m{\n",
      "    \"additional_framework_parameters\": {},\n",
      "    \"channel_input_dirs\": {},\n",
      "    \"current_host\": \"algo-1\",\n",
      "    \"framework_module\": \"sagemaker_pytorch_container.training:main\",\n",
      "    \"hosts\": [\n",
      "        \"algo-1\"\n",
      "    ],\n",
      "    \"hyperparameters\": {\n",
      "        \"batch-size\": \"32\",\n",
      "        \"epochs\": \"2\",\n",
      "        \"lr\": \"0.001\",\n",
      "        \"test-batch-size\": \"100\"\n",
      "    },\n",
      "    \"input_config_dir\": \"/opt/ml/input/config\",\n",
      "    \"input_data_config\": {},\n",
      "    \"input_dir\": \"/opt/ml/input\",\n",
      "    \"is_master\": true,\n",
      "    \"job_name\": \"smdebugger-mnist-pytorch-2023-01-07-00-00-24-468\",\n",
      "    \"log_level\": 20,\n",
      "    \"master_hostname\": \"algo-1\",\n",
      "    \"model_dir\": \"/opt/ml/model\",\n",
      "    \"module_dir\": \"s3://sagemaker-us-east-1-135918503976/smdebugger-mnist-pytorch-2023-01-07-00-00-24-468/source/sourcedir.tar.gz\",\n",
      "    \"module_name\": \"pytorch_mnist\",\n",
      "    \"network_interface_name\": \"eth0\",\n",
      "    \"num_cpus\": 2,\n",
      "    \"num_gpus\": 0,\n",
      "    \"output_data_dir\": \"/opt/ml/output/data\",\n",
      "    \"output_dir\": \"/opt/ml/output\",\n",
      "    \"output_intermediate_dir\": \"/opt/ml/output/intermediate\",\n",
      "    \"resource_config\": {\n",
      "        \"current_host\": \"algo-1\",\n",
      "        \"current_instance_type\": \"ml.m5.large\",\n",
      "        \"current_group_name\": \"homogeneousCluster\",\n",
      "        \"hosts\": [\n",
      "            \"algo-1\"\n",
      "        ],\n",
      "        \"instance_groups\": [\n",
      "            {\n",
      "                \"instance_group_name\": \"homogeneousCluster\",\n",
      "                \"instance_type\": \"ml.m5.large\",\n",
      "                \"hosts\": [\n",
      "                    \"algo-1\"\n",
      "                ]\n",
      "            }\n",
      "        ],\n",
      "        \"network_interface_name\": \"eth0\"\n",
      "    },\n",
      "    \"user_entry_point\": \"pytorch_mnist.py\"\u001b[0m\n",
      "\u001b[34m}\u001b[0m\n",
      "\u001b[34mEnvironment variables:\u001b[0m\n",
      "\u001b[34mSM_HOSTS=[\"algo-1\"]\u001b[0m\n",
      "\u001b[34mSM_NETWORK_INTERFACE_NAME=eth0\u001b[0m\n",
      "\u001b[34mSM_HPS={\"batch-size\":\"32\",\"epochs\":\"2\",\"lr\":\"0.001\",\"test-batch-size\":\"100\"}\u001b[0m\n",
      "\u001b[34mSM_USER_ENTRY_POINT=pytorch_mnist.py\u001b[0m\n",
      "\u001b[34mSM_FRAMEWORK_PARAMS={}\u001b[0m\n",
      "\u001b[34mSM_RESOURCE_CONFIG={\"current_group_name\":\"homogeneousCluster\",\"current_host\":\"algo-1\",\"current_instance_type\":\"ml.m5.large\",\"hosts\":[\"algo-1\"],\"instance_groups\":[{\"hosts\":[\"algo-1\"],\"instance_group_name\":\"homogeneousCluster\",\"instance_type\":\"ml.m5.large\"}],\"network_interface_name\":\"eth0\"}\u001b[0m\n",
      "\u001b[34mSM_INPUT_DATA_CONFIG={}\u001b[0m\n",
      "\u001b[34mSM_OUTPUT_DATA_DIR=/opt/ml/output/data\u001b[0m\n",
      "\u001b[34mSM_CHANNELS=[]\u001b[0m\n",
      "\u001b[34mSM_CURRENT_HOST=algo-1\u001b[0m\n",
      "\u001b[34mSM_MODULE_NAME=pytorch_mnist\u001b[0m\n",
      "\u001b[34mSM_LOG_LEVEL=20\u001b[0m\n",
      "\u001b[34mSM_FRAMEWORK_MODULE=sagemaker_pytorch_container.training:main\u001b[0m\n",
      "\u001b[34mSM_INPUT_DIR=/opt/ml/input\u001b[0m\n",
      "\u001b[34mSM_INPUT_CONFIG_DIR=/opt/ml/input/config\u001b[0m\n",
      "\u001b[34mSM_OUTPUT_DIR=/opt/ml/output\u001b[0m\n",
      "\u001b[34mSM_NUM_CPUS=2\u001b[0m\n",
      "\u001b[34mSM_NUM_GPUS=0\u001b[0m\n",
      "\u001b[34mSM_MODEL_DIR=/opt/ml/model\u001b[0m\n",
      "\u001b[34mSM_MODULE_DIR=s3://sagemaker-us-east-1-135918503976/smdebugger-mnist-pytorch-2023-01-07-00-00-24-468/source/sourcedir.tar.gz\u001b[0m\n",
      "\u001b[34mSM_TRAINING_ENV={\"additional_framework_parameters\":{},\"channel_input_dirs\":{},\"current_host\":\"algo-1\",\"framework_module\":\"sagemaker_pytorch_container.training:main\",\"hosts\":[\"algo-1\"],\"hyperparameters\":{\"batch-size\":\"32\",\"epochs\":\"2\",\"lr\":\"0.001\",\"test-batch-size\":\"100\"},\"input_config_dir\":\"/opt/ml/input/config\",\"input_data_config\":{},\"input_dir\":\"/opt/ml/input\",\"is_master\":true,\"job_name\":\"smdebugger-mnist-pytorch-2023-01-07-00-00-24-468\",\"log_level\":20,\"master_hostname\":\"algo-1\",\"model_dir\":\"/opt/ml/model\",\"module_dir\":\"s3://sagemaker-us-east-1-135918503976/smdebugger-mnist-pytorch-2023-01-07-00-00-24-468/source/sourcedir.tar.gz\",\"module_name\":\"pytorch_mnist\",\"network_interface_name\":\"eth0\",\"num_cpus\":2,\"num_gpus\":0,\"output_data_dir\":\"/opt/ml/output/data\",\"output_dir\":\"/opt/ml/output\",\"output_intermediate_dir\":\"/opt/ml/output/intermediate\",\"resource_config\":{\"current_group_name\":\"homogeneousCluster\",\"current_host\":\"algo-1\",\"current_instance_type\":\"ml.m5.large\",\"hosts\":[\"algo-1\"],\"instance_groups\":[{\"hosts\":[\"algo-1\"],\"instance_group_name\":\"homogeneousCluster\",\"instance_type\":\"ml.m5.large\"}],\"network_interface_name\":\"eth0\"},\"user_entry_point\":\"pytorch_mnist.py\"}\u001b[0m\n",
      "\u001b[34mSM_USER_ARGS=[\"--batch-size\",\"32\",\"--epochs\",\"2\",\"--lr\",\"0.001\",\"--test-batch-size\",\"100\"]\u001b[0m\n",
      "\u001b[34mSM_OUTPUT_INTERMEDIATE_DIR=/opt/ml/output/intermediate\u001b[0m\n",
      "\u001b[34mSM_HP_BATCH-SIZE=32\u001b[0m\n",
      "\u001b[34mSM_HP_EPOCHS=2\u001b[0m\n",
      "\u001b[34mSM_HP_LR=0.001\u001b[0m\n",
      "\u001b[34mSM_HP_TEST-BATCH-SIZE=100\u001b[0m\n",
      "\u001b[34mPYTHONPATH=/opt/ml/code:/opt/conda/bin:/opt/conda/lib/python36.zip:/opt/conda/lib/python3.6:/opt/conda/lib/python3.6/lib-dynload:/opt/conda/lib/python3.6/site-packages\u001b[0m\n",
      "\u001b[34mInvoking script with the following command:\u001b[0m\n",
      "\u001b[34m/opt/conda/bin/python3.6 pytorch_mnist.py --batch-size 32 --epochs 2 --lr 0.001 --test-batch-size 100\u001b[0m\n",
      "\u001b[34m[2023-01-07 00:03:45.585 algo-1:28 INFO utils.py:27] RULE_JOB_STOP_SIGNAL_FILENAME: None\u001b[0m\n",
      "\u001b[34m[2023-01-07 00:03:45.829 algo-1:28 INFO profiler_config_parser.py:102] User has disabled profiler.\u001b[0m\n",
      "\u001b[34mDownloading http://yann.lecun.com/exdb/mnist/train-images-idx3-ubyte.gz\u001b[0m\n",
      "\u001b[34mDownloading http://yann.lecun.com/exdb/mnist/train-images-idx3-ubyte.gz to ../data/MNIST/raw/train-images-idx3-ubyte.gz\u001b[0m\n",
      "\u001b[34mExtracting ../data/MNIST/raw/train-images-idx3-ubyte.gz to ../data/MNIST/raw\u001b[0m\n",
      "\u001b[34mDownloading http://yann.lecun.com/exdb/mnist/train-labels-idx1-ubyte.gz\u001b[0m\n",
      "\u001b[34mDownloading http://yann.lecun.com/exdb/mnist/train-labels-idx1-ubyte.gz to ../data/MNIST/raw/train-labels-idx1-ubyte.gz\u001b[0m\n",
      "\u001b[34mExtracting ../data/MNIST/raw/train-labels-idx1-ubyte.gz to ../data/MNIST/raw\u001b[0m\n",
      "\u001b[34mDownloading http://yann.lecun.com/exdb/mnist/t10k-images-idx3-ubyte.gz\u001b[0m\n",
      "\u001b[34mDownloading http://yann.lecun.com/exdb/mnist/t10k-images-idx3-ubyte.gz to ../data/MNIST/raw/t10k-images-idx3-ubyte.gz\u001b[0m\n",
      "\u001b[34mExtracting ../data/MNIST/raw/t10k-images-idx3-ubyte.gz to ../data/MNIST/raw\u001b[0m\n",
      "\u001b[34mDownloading http://yann.lecun.com/exdb/mnist/t10k-labels-idx1-ubyte.gz\u001b[0m\n",
      "\u001b[34mDownloading http://yann.lecun.com/exdb/mnist/t10k-labels-idx1-ubyte.gz to ../data/MNIST/raw/t10k-labels-idx1-ubyte.gz\u001b[0m\n",
      "\u001b[34mExtracting ../data/MNIST/raw/t10k-labels-idx1-ubyte.gz to ../data/MNIST/raw\u001b[0m\n",
      "\u001b[34mProcessing...\u001b[0m\n",
      "\u001b[34mDone!\u001b[0m\n",
      "\u001b[34m[2023-01-07 00:03:46.710 algo-1:28 INFO json_config.py:91] Creating hook from json_config at /opt/ml/input/config/debughookconfig.json.\u001b[0m\n",
      "\u001b[34m[2023-01-07 00:03:46.710 algo-1:28 INFO hook.py:201] tensorboard_dir has not been set for the hook. SMDebug will not be exporting tensorboard summaries.\u001b[0m\n",
      "\u001b[34m[2023-01-07 00:03:46.711 algo-1:28 INFO hook.py:255] Saving to /opt/ml/output/tensors\u001b[0m\n",
      "\u001b[34m[2023-01-07 00:03:46.711 algo-1:28 INFO state_store.py:77] The checkpoint config file /opt/ml/input/config/checkpointconfig.json does not exist.\u001b[0m\n",
      "\u001b[34m[2023-01-07 00:03:46.712 algo-1:28 INFO hook.py:591] name:conv1.weight count_params:288\u001b[0m\n",
      "\u001b[34m[2023-01-07 00:03:46.712 algo-1:28 INFO hook.py:591] name:conv1.bias count_params:32\u001b[0m\n",
      "\u001b[34m[2023-01-07 00:03:46.712 algo-1:28 INFO hook.py:591] name:conv2.weight count_params:18432\u001b[0m\n",
      "\u001b[34m[2023-01-07 00:03:46.712 algo-1:28 INFO hook.py:591] name:conv2.bias count_params:64\u001b[0m\n",
      "\u001b[34m[2023-01-07 00:03:46.712 algo-1:28 INFO hook.py:591] name:fc1.weight count_params:1179648\u001b[0m\n",
      "\u001b[34m[2023-01-07 00:03:46.712 algo-1:28 INFO hook.py:591] name:fc1.bias count_params:128\u001b[0m\n",
      "\u001b[34m[2023-01-07 00:03:46.712 algo-1:28 INFO hook.py:591] name:fc2.weight count_params:1280\u001b[0m\n",
      "\u001b[34m[2023-01-07 00:03:46.712 algo-1:28 INFO hook.py:591] name:fc2.bias count_params:10\u001b[0m\n",
      "\u001b[34m[2023-01-07 00:03:46.712 algo-1:28 INFO hook.py:593] Total Trainable Params: 1199882\u001b[0m\n",
      "\u001b[34m[2023-01-07 00:03:46.718 algo-1:28 INFO hook.py:425] Monitoring the collections: gradients, losses, relu_input\u001b[0m\n",
      "\u001b[34m[2023-01-07 00:03:46.721 algo-1:28 INFO hook.py:488] Hook is writing from the hook with pid: 28\u001b[0m\n",
      "\u001b[34mTrain Epoch: 1 [0/60000 (0%)]#011Loss: 2.306630\u001b[0m\n",
      "\u001b[34mTrain Epoch: 1 [3200/60000 (5%)]#011Loss: 2.260817\u001b[0m\n",
      "\u001b[34mTrain Epoch: 1 [6400/60000 (11%)]#011Loss: 2.222810\u001b[0m\n",
      "\u001b[34mTrain Epoch: 1 [9600/60000 (16%)]#011Loss: 2.256685\u001b[0m\n",
      "\u001b[34mTrain Epoch: 1 [12800/60000 (21%)]#011Loss: 2.196891\u001b[0m\n",
      "\u001b[34mTrain Epoch: 1 [16000/60000 (27%)]#011Loss: 2.112137\u001b[0m\n",
      "\u001b[34mTrain Epoch: 1 [19200/60000 (32%)]#011Loss: 1.958223\u001b[0m\n",
      "\u001b[34mTrain Epoch: 1 [22400/60000 (37%)]#011Loss: 1.927775\u001b[0m\n",
      "\u001b[34mTrain Epoch: 1 [25600/60000 (43%)]#011Loss: 1.864103\u001b[0m\n",
      "\u001b[34mTrain Epoch: 1 [28800/60000 (48%)]#011Loss: 1.643099\u001b[0m\n",
      "\u001b[34mTrain Epoch: 1 [32000/60000 (53%)]#011Loss: 1.799155\u001b[0m\n",
      "\u001b[34mTrain Epoch: 1 [35200/60000 (59%)]#011Loss: 1.707904\u001b[0m\n",
      "\u001b[34mTrain Epoch: 1 [38400/60000 (64%)]#011Loss: 1.555378\u001b[0m\n",
      "\u001b[34mTrain Epoch: 1 [41600/60000 (69%)]#011Loss: 1.455167\u001b[0m\n",
      "\u001b[34mTrain Epoch: 1 [44800/60000 (75%)]#011Loss: 1.479026\u001b[0m\n",
      "\u001b[34mTrain Epoch: 1 [48000/60000 (80%)]#011Loss: 1.304543\u001b[0m\n",
      "\u001b[34mTrain Epoch: 1 [51200/60000 (85%)]#011Loss: 1.162675\u001b[0m\n",
      "\u001b[34mTrain Epoch: 1 [54400/60000 (91%)]#011Loss: 1.151728\u001b[0m\n",
      "\u001b[34mTrain Epoch: 1 [57600/60000 (96%)]#011Loss: 1.158152\u001b[0m\n",
      "\u001b[34mTest set: Average loss: 0.9850, Accuracy: 8191/10000 (82%)\u001b[0m\n",
      "\u001b[34mTrain Epoch: 2 [0/60000 (0%)]#011Loss: 1.171719\u001b[0m\n",
      "\u001b[34mTrain Epoch: 2 [3200/60000 (5%)]#011Loss: 1.175262\u001b[0m\n",
      "\u001b[34mTrain Epoch: 2 [6400/60000 (11%)]#011Loss: 1.090682\u001b[0m\n",
      "\u001b[34mTrain Epoch: 2 [9600/60000 (16%)]#011Loss: 0.847164\u001b[0m\n",
      "\u001b[34mTrain Epoch: 2 [12800/60000 (21%)]#011Loss: 0.967915\u001b[0m\n",
      "\u001b[34mTrain Epoch: 2 [16000/60000 (27%)]#011Loss: 1.254986\u001b[0m\n",
      "\u001b[34mTrain Epoch: 2 [19200/60000 (32%)]#011Loss: 0.847461\u001b[0m\n",
      "\u001b[34mTrain Epoch: 2 [22400/60000 (37%)]#011Loss: 0.897164\u001b[0m\n",
      "\u001b[34mTrain Epoch: 2 [25600/60000 (43%)]#011Loss: 0.854263\u001b[0m\n",
      "\u001b[34mTrain Epoch: 2 [28800/60000 (48%)]#011Loss: 0.598996\u001b[0m\n",
      "\u001b[34mTrain Epoch: 2 [32000/60000 (53%)]#011Loss: 0.889900\u001b[0m\n",
      "\u001b[34mTrain Epoch: 2 [35200/60000 (59%)]#011Loss: 0.876853\u001b[0m\n",
      "\u001b[34mTrain Epoch: 2 [38400/60000 (64%)]#011Loss: 0.840294\u001b[0m\n",
      "\u001b[34mTrain Epoch: 2 [41600/60000 (69%)]#011Loss: 0.937821\u001b[0m\n",
      "\u001b[34mTrain Epoch: 2 [44800/60000 (75%)]#011Loss: 0.837775\u001b[0m\n",
      "\u001b[34mTrain Epoch: 2 [48000/60000 (80%)]#011Loss: 0.749015\u001b[0m\n",
      "\u001b[34mTrain Epoch: 2 [51200/60000 (85%)]#011Loss: 0.683049\u001b[0m\n",
      "\u001b[34mTrain Epoch: 2 [54400/60000 (91%)]#011Loss: 0.597948\u001b[0m\n",
      "\u001b[34mTrain Epoch: 2 [57600/60000 (96%)]#011Loss: 0.712161\u001b[0m\n",
      "\u001b[34mTest set: Average loss: 0.5118, Accuracy: 8739/10000 (87%)\u001b[0m\n",
      "\u001b[34m#015  0%|          | 0/9912422 [00:00<?, ?it/s]#0159913344it [00:00, 146385833.01it/s]        \u001b[0m\n",
      "\u001b[34m#015  0%|          | 0/28881 [00:00<?, ?it/s]#01529696it [00:00, 50776213.45it/s]         \u001b[0m\n",
      "\u001b[34m#015  0%|          | 0/1648877 [00:00<?, ?it/s]#0151649664it [00:00, 141891401.73it/s]        \u001b[0m\n",
      "\u001b[34m#015  0%|          | 0/4542 [00:00<?, ?it/s]#0155120it [00:00, 43471328.91it/s]         \u001b[0m\n",
      "\u001b[34m/opt/conda/lib/python3.6/site-packages/torchvision/datasets/mnist.py:502: UserWarning: The given NumPy array is not writeable, and PyTorch does not support non-writeable tensors. This means you can write to the underlying (supposedly non-writeable) NumPy array using the tensor. You may want to copy the array to protect its data or make it writeable before converting it to a tensor. This type of warning will be suppressed for the rest of this program. (Triggered internally at  ../torch/csrc/utils/tensor_numpy.cpp:143.)\n",
      "  return torch.from_numpy(parsed.astype(m[2], copy=False)).view(*s)\u001b[0m\n",
      "\u001b[34m2023-01-07 00:07:23,490 sagemaker-training-toolkit INFO     Reporting training SUCCESS\u001b[0m\n",
      "\n",
      "2023-01-07 00:07:50 Uploading - Uploading generated training model\n",
      "2023-01-07 00:07:50 Completed - Training job completed\n",
      "Training seconds: 348\n",
      "Billable seconds: 348\n"
     ]
    }
   ],
   "source": [
    "estimator.fit(wait=True)"
   ]
  },
  {
   "cell_type": "code",
   "execution_count": 8,
   "id": "e3216559",
   "metadata": {
    "execution": {
     "iopub.execute_input": "2021-06-01T00:12:56.045375Z",
     "iopub.status.busy": "2021-06-01T00:12:56.044910Z",
     "iopub.status.idle": "2021-06-01T00:12:56.071304Z",
     "shell.execute_reply": "2021-06-01T00:12:56.071695Z"
    },
    "papermill": {
     "duration": 0.054471,
     "end_time": "2021-06-01T00:12:56.071818",
     "exception": false,
     "start_time": "2021-06-01T00:12:56.017347",
     "status": "completed"
    },
    "tags": []
   },
   "outputs": [],
   "source": [
    "job_name = estimator.latest_training_job.name\n",
    "client = estimator.sagemaker_session.sagemaker_client\n",
    "description = client.describe_training_job(TrainingJobName=estimator.latest_training_job.name)"
   ]
  },
  {
   "cell_type": "markdown",
   "id": "3a86334b",
   "metadata": {},
   "source": [
    "## Checking Training Performance\n",
    "Below is some boilerplate code to get the training job object using the training job name and display the training metrics that we were tracking as well as some of the training tensors. The plots may not show up in the classroom, but it will show up when you train the model in SageMaker Studio."
   ]
  },
  {
   "cell_type": "code",
   "execution_count": 9,
   "id": "6d5d49e8",
   "metadata": {
    "papermill": {
     "duration": null,
     "end_time": null,
     "exception": null,
     "start_time": null,
     "status": "pending"
    },
    "tags": []
   },
   "outputs": [
    {
     "name": "stdout",
     "output_type": "stream",
     "text": [
      "[2023-01-07 00:08:26.196 ip-172-16-124-179.ec2.internal:14457 INFO utils.py:27] RULE_JOB_STOP_SIGNAL_FILENAME: None\n",
      "[2023-01-07 00:08:26.209 ip-172-16-124-179.ec2.internal:14457 INFO s3_trial.py:42] Loading trial debug-output at path s3://sagemaker-us-east-1-135918503976/smdebugger-mnist-pytorch-2023-01-07-00-00-24-468/debug-output\n"
     ]
    },
    {
     "name": "stderr",
     "output_type": "stream",
     "text": [
      "INFO:botocore.credentials:Found credentials from IAM Role: BaseNotebookInstanceEc2InstanceRole\n"
     ]
    }
   ],
   "source": [
    "from smdebug.trials import create_trial\n",
    "from smdebug.core.modes import ModeKeys\n",
    "\n",
    "trial = create_trial(estimator.latest_job_debugger_artifacts_path())"
   ]
  },
  {
   "cell_type": "markdown",
   "id": "fc4d5122",
   "metadata": {},
   "source": [
    "Fetch tensor names and print their lengths"
   ]
  },
  {
   "cell_type": "code",
   "execution_count": 10,
   "id": "2943745f",
   "metadata": {
    "papermill": {
     "duration": null,
     "end_time": null,
     "exception": null,
     "start_time": null,
     "status": "pending"
    },
    "tags": []
   },
   "outputs": [
    {
     "name": "stdout",
     "output_type": "stream",
     "text": [
      "[2023-01-07 00:08:29.914 ip-172-16-124-179.ec2.internal:14457 INFO trial.py:197] Training has ended, will refresh one final time in 1 sec.\n",
      "[2023-01-07 00:08:30.934 ip-172-16-124-179.ec2.internal:14457 INFO trial.py:210] Loaded all steps\n"
     ]
    },
    {
     "data": {
      "text/plain": [
       "['gradient/Net_conv1.bias',\n",
       " 'gradient/Net_conv1.weight',\n",
       " 'gradient/Net_conv2.bias',\n",
       " 'gradient/Net_conv2.weight',\n",
       " 'gradient/Net_fc1.bias',\n",
       " 'gradient/Net_fc1.weight',\n",
       " 'gradient/Net_fc2.bias',\n",
       " 'gradient/Net_fc2.weight',\n",
       " 'nll_loss_output_0']"
      ]
     },
     "execution_count": 10,
     "metadata": {},
     "output_type": "execute_result"
    }
   ],
   "source": [
    "trial.tensor_names()"
   ]
  },
  {
   "cell_type": "code",
   "execution_count": 11,
   "id": "634f904a",
   "metadata": {
    "papermill": {
     "duration": null,
     "end_time": null,
     "exception": null,
     "start_time": null,
     "status": "pending"
    },
    "tags": []
   },
   "outputs": [
    {
     "data": {
      "text/plain": [
       "38"
      ]
     },
     "execution_count": 11,
     "metadata": {},
     "output_type": "execute_result"
    }
   ],
   "source": [
    "len(trial.tensor(\"nll_loss_output_0\").steps(mode=ModeKeys.TRAIN))"
   ]
  },
  {
   "cell_type": "code",
   "execution_count": 12,
   "id": "95a34b79",
   "metadata": {
    "papermill": {
     "duration": null,
     "end_time": null,
     "exception": null,
     "start_time": null,
     "status": "pending"
    },
    "tags": []
   },
   "outputs": [
    {
     "data": {
      "text/plain": [
       "20"
      ]
     },
     "execution_count": 12,
     "metadata": {},
     "output_type": "execute_result"
    }
   ],
   "source": [
    "len(trial.tensor(\"nll_loss_output_0\").steps(mode=ModeKeys.EVAL))"
   ]
  },
  {
   "cell_type": "markdown",
   "id": "e031afcc",
   "metadata": {
    "papermill": {
     "duration": null,
     "end_time": null,
     "exception": null,
     "start_time": null,
     "status": "pending"
    },
    "tags": []
   },
   "source": [
    "Set up functions to plot the output tensors"
   ]
  },
  {
   "cell_type": "code",
   "execution_count": 13,
   "id": "4348e203",
   "metadata": {
    "papermill": {
     "duration": null,
     "end_time": null,
     "exception": null,
     "start_time": null,
     "status": "pending"
    },
    "tags": []
   },
   "outputs": [],
   "source": [
    "def get_data(trial, tname, mode):\n",
    "    tensor = trial.tensor(tname)\n",
    "    steps = tensor.steps(mode=mode)\n",
    "    vals = []\n",
    "    for s in steps:\n",
    "        vals.append(tensor.value(s, mode=mode))\n",
    "    return steps, vals"
   ]
  },
  {
   "cell_type": "code",
   "execution_count": 14,
   "id": "f6be0872",
   "metadata": {
    "papermill": {
     "duration": null,
     "end_time": null,
     "exception": null,
     "start_time": null,
     "status": "pending"
    },
    "tags": []
   },
   "outputs": [],
   "source": [
    "import matplotlib.pyplot as plt\n",
    "from mpl_toolkits.axes_grid1 import host_subplot\n",
    "\n",
    "\n",
    "def plot_tensor(trial, tensor_name):\n",
    "\n",
    "    steps_train, vals_train = get_data(trial, tensor_name, mode=ModeKeys.TRAIN)\n",
    "    print(\"loaded TRAIN data\")\n",
    "    steps_eval, vals_eval = get_data(trial, tensor_name, mode=ModeKeys.EVAL)\n",
    "    print(\"loaded EVAL data\")\n",
    "\n",
    "    fig = plt.figure(figsize=(10, 7))\n",
    "    host = host_subplot(111)\n",
    "\n",
    "    par = host.twiny()\n",
    "\n",
    "    host.set_xlabel(\"Steps (TRAIN)\")\n",
    "    par.set_xlabel(\"Steps (EVAL)\")\n",
    "    host.set_ylabel(tensor_name)\n",
    "\n",
    "    (p1,) = host.plot(steps_train, vals_train, label=tensor_name)\n",
    "    print(\"completed TRAIN plot\")\n",
    "    (p2,) = par.plot(steps_eval, vals_eval, label=\"val_\" + tensor_name)\n",
    "    print(\"completed EVAL plot\")\n",
    "    leg = plt.legend()\n",
    "\n",
    "    host.xaxis.get_label().set_color(p1.get_color())\n",
    "    leg.texts[0].set_color(p1.get_color())\n",
    "\n",
    "    par.xaxis.get_label().set_color(p2.get_color())\n",
    "    leg.texts[1].set_color(p2.get_color())\n",
    "\n",
    "    plt.ylabel(tensor_name)\n",
    "\n",
    "    plt.show()"
   ]
  },
  {
   "cell_type": "code",
   "execution_count": 15,
   "id": "f724d3f4",
   "metadata": {
    "papermill": {
     "duration": null,
     "end_time": null,
     "exception": null,
     "start_time": null,
     "status": "pending"
    },
    "tags": []
   },
   "outputs": [
    {
     "name": "stdout",
     "output_type": "stream",
     "text": [
      "loaded TRAIN data\n",
      "loaded EVAL data\n",
      "completed TRAIN plot\n",
      "completed EVAL plot\n"
     ]
    },
    {
     "data": {
      "image/png": "[encoded data removed]",
      "text/plain": [
       "<Figure size 720x504 with 1 Axes>"
      ]
     },
     "metadata": {
      "needs_background": "light"
     },
     "output_type": "display_data"
    }
   ],
   "source": [
    "plot_tensor(trial, \"nll_loss_output_0\")"
   ]
  },
  {
   "cell_type": "markdown",
   "id": "33c84e32",
   "metadata": {
    "papermill": {
     "duration": null,
     "end_time": null,
     "exception": null,
     "start_time": null,
     "status": "pending"
    },
    "tags": []
   },
   "source": [
    "## Display the Profiler Report\n",
    "The profiler report will be saved in an S3 bucket. Below we can see how to get the path of the report, fetch it and display it. The profiler report may not display in the notebook, but you can take a look at it from the ProfilerReport folder."
   ]
  },
  {
   "cell_type": "code",
   "execution_count": 16,
   "id": "a2e97e50",
   "metadata": {
    "papermill": {
     "duration": null,
     "end_time": null,
     "exception": null,
     "start_time": null,
     "status": "pending"
    },
    "tags": []
   },
   "outputs": [],
   "source": [
    "rule_output_path = estimator.output_path + estimator.latest_training_job.job_name + \"/rule-output\""
   ]
  },
  {
   "cell_type": "code",
   "execution_count": 17,
   "id": "2c619c6f",
   "metadata": {
    "papermill": {
     "duration": null,
     "end_time": null,
     "exception": null,
     "start_time": null,
     "status": "pending"
    },
    "tags": []
   },
   "outputs": [
    {
     "name": "stdout",
     "output_type": "stream",
     "text": [
      "2023-01-07 00:07:41     329700 smdebugger-mnist-pytorch-2023-01-07-00-00-24-468/rule-output/ProfilerReport/profiler-output/profiler-report.html\r\n",
      "2023-01-07 00:07:41     171058 smdebugger-mnist-pytorch-2023-01-07-00-00-24-468/rule-output/ProfilerReport/profiler-output/profiler-report.ipynb\r\n",
      "2023-01-07 00:07:37        191 smdebugger-mnist-pytorch-2023-01-07-00-00-24-468/rule-output/ProfilerReport/profiler-output/profiler-reports/BatchSize.json\r\n",
      "2023-01-07 00:07:37        199 smdebugger-mnist-pytorch-2023-01-07-00-00-24-468/rule-output/ProfilerReport/profiler-output/profiler-reports/CPUBottleneck.json\r\n",
      "2023-01-07 00:07:37        126 smdebugger-mnist-pytorch-2023-01-07-00-00-24-468/rule-output/ProfilerReport/profiler-output/profiler-reports/Dataloader.json\r\n",
      "2023-01-07 00:07:37        127 smdebugger-mnist-pytorch-2023-01-07-00-00-24-468/rule-output/ProfilerReport/profiler-output/profiler-reports/GPUMemoryIncrease.json\r\n",
      "2023-01-07 00:07:37        198 smdebugger-mnist-pytorch-2023-01-07-00-00-24-468/rule-output/ProfilerReport/profiler-output/profiler-reports/IOBottleneck.json\r\n",
      "2023-01-07 00:07:37        119 smdebugger-mnist-pytorch-2023-01-07-00-00-24-468/rule-output/ProfilerReport/profiler-output/profiler-reports/LoadBalancing.json\r\n",
      "2023-01-07 00:07:37        151 smdebugger-mnist-pytorch-2023-01-07-00-00-24-468/rule-output/ProfilerReport/profiler-output/profiler-reports/LowGPUUtilization.json\r\n",
      "2023-01-07 00:07:37        179 smdebugger-mnist-pytorch-2023-01-07-00-00-24-468/rule-output/ProfilerReport/profiler-output/profiler-reports/MaxInitializationTime.json\r\n",
      "2023-01-07 00:07:37        133 smdebugger-mnist-pytorch-2023-01-07-00-00-24-468/rule-output/ProfilerReport/profiler-output/profiler-reports/OverallFrameworkMetrics.json\r\n",
      "2023-01-07 00:07:37        476 smdebugger-mnist-pytorch-2023-01-07-00-00-24-468/rule-output/ProfilerReport/profiler-output/profiler-reports/OverallSystemUsage.json\r\n",
      "2023-01-07 00:07:37        156 smdebugger-mnist-pytorch-2023-01-07-00-00-24-468/rule-output/ProfilerReport/profiler-output/profiler-reports/StepOutlier.json\r\n"
     ]
    }
   ],
   "source": [
    "! aws s3 ls {rule_output_path} --recursive"
   ]
  },
  {
   "cell_type": "code",
   "execution_count": 18,
   "id": "3acaddf2",
   "metadata": {
    "papermill": {
     "duration": null,
     "end_time": null,
     "exception": null,
     "start_time": null,
     "status": "pending"
    },
    "tags": []
   },
   "outputs": [
    {
     "name": "stdout",
     "output_type": "stream",
     "text": [
      "download: s3://sagemaker-us-east-1-135918503976/smdebugger-mnist-pytorch-2023-01-07-00-00-24-468/rule-output/ProfilerReport/profiler-output/profiler-reports/BatchSize.json to ProfilerReport/profiler-output/profiler-reports/BatchSize.json\n",
      "download: s3://sagemaker-us-east-1-135918503976/smdebugger-mnist-pytorch-2023-01-07-00-00-24-468/rule-output/ProfilerReport/profiler-output/profiler-reports/IOBottleneck.json to ProfilerReport/profiler-output/profiler-reports/IOBottleneck.json\n",
      "download: s3://sagemaker-us-east-1-135918503976/smdebugger-mnist-pytorch-2023-01-07-00-00-24-468/rule-output/ProfilerReport/profiler-output/profiler-reports/OverallFrameworkMetrics.json to ProfilerReport/profiler-output/profiler-reports/OverallFrameworkMetrics.json\n",
      "download: s3://sagemaker-us-east-1-135918503976/smdebugger-mnist-pytorch-2023-01-07-00-00-24-468/rule-output/ProfilerReport/profiler-output/profiler-reports/MaxInitializationTime.json to ProfilerReport/profiler-output/profiler-reports/MaxInitializationTime.json\n",
      "download: s3://sagemaker-us-east-1-135918503976/smdebugger-mnist-pytorch-2023-01-07-00-00-24-468/rule-output/ProfilerReport/profiler-output/profiler-reports/Dataloader.json to ProfilerReport/profiler-output/profiler-reports/Dataloader.json\n",
      "download: s3://sagemaker-us-east-1-135918503976/smdebugger-mnist-pytorch-2023-01-07-00-00-24-468/rule-output/ProfilerReport/profiler-output/profiler-report.ipynb to ProfilerReport/profiler-output/profiler-report.ipynb\n",
      "download: s3://sagemaker-us-east-1-135918503976/smdebugger-mnist-pytorch-2023-01-07-00-00-24-468/rule-output/ProfilerReport/profiler-output/profiler-reports/GPUMemoryIncrease.json to ProfilerReport/profiler-output/profiler-reports/GPUMemoryIncrease.json\n",
      "download: s3://sagemaker-us-east-1-135918503976/smdebugger-mnist-pytorch-2023-01-07-00-00-24-468/rule-output/ProfilerReport/profiler-output/profiler-reports/StepOutlier.json to ProfilerReport/profiler-output/profiler-reports/StepOutlier.json\n",
      "download: s3://sagemaker-us-east-1-135918503976/smdebugger-mnist-pytorch-2023-01-07-00-00-24-468/rule-output/ProfilerReport/profiler-output/profiler-reports/LowGPUUtilization.json to ProfilerReport/profiler-output/profiler-reports/LowGPUUtilization.json\n",
      "download: s3://sagemaker-us-east-1-135918503976/smdebugger-mnist-pytorch-2023-01-07-00-00-24-468/rule-output/ProfilerReport/profiler-output/profiler-reports/CPUBottleneck.json to ProfilerReport/profiler-output/profiler-reports/CPUBottleneck.json\n",
      "download: s3://sagemaker-us-east-1-135918503976/smdebugger-mnist-pytorch-2023-01-07-00-00-24-468/rule-output/ProfilerReport/profiler-output/profiler-reports/LoadBalancing.json to ProfilerReport/profiler-output/profiler-reports/LoadBalancing.json\n",
      "download: s3://sagemaker-us-east-1-135918503976/smdebugger-mnist-pytorch-2023-01-07-00-00-24-468/rule-output/ProfilerReport/profiler-output/profiler-reports/OverallSystemUsage.json to ProfilerReport/profiler-output/profiler-reports/OverallSystemUsage.json\n",
      "download: s3://sagemaker-us-east-1-135918503976/smdebugger-mnist-pytorch-2023-01-07-00-00-24-468/rule-output/ProfilerReport/profiler-output/profiler-report.html to ProfilerReport/profiler-output/profiler-report.html\n"
     ]
    }
   ],
   "source": [
    "! aws s3 cp {rule_output_path} ./ --recursive"
   ]
  },
  {
   "cell_type": "code",
   "execution_count": 19,
   "id": "5ff159f0",
   "metadata": {
    "papermill": {
     "duration": null,
     "end_time": null,
     "exception": null,
     "start_time": null,
     "status": "pending"
    },
    "tags": []
   },
   "outputs": [],
   "source": [
    "import os\n",
    "\n",
    "# get the autogenerated folder name of profiler report\n",
    "profiler_report_name = [\n",
    "    rule[\"RuleConfigurationName\"]\n",
    "    for rule in estimator.latest_training_job.rule_job_summary()\n",
    "    if \"Profiler\" in rule[\"RuleConfigurationName\"]\n",
    "][0]"
   ]
  },
  {
   "cell_type": "code",
   "execution_count": 4,
   "id": "18d79227",
   "metadata": {
    "papermill": {
     "duration": null,
     "end_time": null,
     "exception": null,
     "start_time": null,
     "status": "pending"
    },
    "tags": []
   },
   "outputs": [
    {
     "data": {
      "text/html": [],
      "text/plain": [
       "<IPython.core.display.HTML object>"
      ]
     },
     "execution_count": 4,
     "metadata": {},
     "output_type": "execute_result"
    }
   ],
   "source": [
    "import IPython\n",
    "# IPython.display.HTML(filename=profiler_report_name + \"/profiler-output/profiler-report.html\")\n",
    "IPython.display.HTML('')"
   ]
  }
 ],
 "metadata": {
  "instance_type": "ml.t3.medium",
  "kernelspec": {
   "display_name": "conda_pytorch_p38",
   "language": "python",
   "name": "conda_pytorch_p38"
  },
  "language_info": {
   "codemirror_mode": {
    "name": "ipython",
    "version": 3
   },
   "file_extension": ".py",
   "mimetype": "text/x-python",
   "name": "python",
   "nbconvert_exporter": "python",
   "pygments_lexer": "ipython3",
   "version": "3.8.12"
  },
  "papermill": {
   "default_parameters": {},
   "duration": 239.460793,
   "end_time": "2021-06-01T00:16:48.734820",
   "environment_variables": {},
   "exception": true,
   "input_path": "pytorch_script_change_smdebug.ipynb",
   "output_path": "/opt/ml/processing/output/pytorch_script_change_smdebug-2021-06-01-00-08-41.ipynb",
   "parameters": {
    "kms_key": "arn:aws:kms:us-west-2:521695447989:key/6e9984db-50cf-4c7e-926c-877ec47a8b25"
   },
   "start_time": "2021-06-01T00:12:49.274027",
   "version": "2.3.3"
  }
 },
 "nbformat": 4,
 "nbformat_minor": 5
}
