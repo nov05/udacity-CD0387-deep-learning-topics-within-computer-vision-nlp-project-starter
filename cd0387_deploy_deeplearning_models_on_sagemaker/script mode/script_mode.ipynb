{
 "cells": [
  {
   "cell_type": "markdown",
   "metadata": {},
   "source": [
    "* notebook created by nov05 on 2024-11-30  \n",
    "* local conda env `awsmle_py310`  "
   ]
  },
  {
   "cell_type": "code",
   "execution_count": 1,
   "metadata": {},
   "outputs": [
    {
     "name": "stderr",
     "output_type": "stream",
     "text": [
      "d:\\Users\\guido\\miniconda3\\envs\\awsmle_py310\\lib\\site-packages\\pydantic\\_internal\\_fields.py:192: UserWarning: Field name \"json\" in \"MonitoringDatasetFormat\" shadows an attribute in parent \"Base\"\n",
      "  warnings.warn(\n"
     ]
    },
    {
     "data": {
      "text/html": [
       "<pre style=\"white-space:pre;overflow-x:auto;line-height:normal;font-family:Menlo,'DejaVu Sans Mono',consolas,'Courier New',monospace\"><span style=\"color: #7fbfbf; text-decoration-color: #7fbfbf\">[11/30/24 11:46:39] </span><span style=\"color: #0069ff; text-decoration-color: #0069ff; font-weight: bold\">INFO    </span> Found credentials in shared credentials file: ~<span style=\"color: #e100e1; text-decoration-color: #e100e1\">/.aws/credentials</span>   <a href=\"file://d:\\Users\\guido\\miniconda3\\envs\\awsmle_py310\\lib\\site-packages\\botocore\\credentials.py\" target=\"_blank\"><span style=\"color: #7f7f7f; text-decoration-color: #7f7f7f\">credentials.py</span></a><span style=\"color: #7f7f7f; text-decoration-color: #7f7f7f\">:</span><a href=\"file://d:\\Users\\guido\\miniconda3\\envs\\awsmle_py310\\lib\\site-packages\\botocore\\credentials.py#1278\" target=\"_blank\"><span style=\"color: #7f7f7f; text-decoration-color: #7f7f7f\">1278</span></a>\n",
       "</pre>\n"
      ],
      "text/plain": [
       "\u001b[2;36m[11/30/24 11:46:39]\u001b[0m\u001b[2;36m \u001b[0m\u001b[1;38;2;0;105;255mINFO    \u001b[0m Found credentials in shared credentials file: ~\u001b[38;2;225;0;225m/.aws/\u001b[0m\u001b[38;2;225;0;225mcredentials\u001b[0m   \u001b]8;id=290325;file://d:\\Users\\guido\\miniconda3\\envs\\awsmle_py310\\lib\\site-packages\\botocore\\credentials.py\u001b\\\u001b[2mcredentials.py\u001b[0m\u001b]8;;\u001b\\\u001b[2m:\u001b[0m\u001b]8;id=473376;file://d:\\Users\\guido\\miniconda3\\envs\\awsmle_py310\\lib\\site-packages\\botocore\\credentials.py#1278\u001b\\\u001b[2m1278\u001b[0m\u001b]8;;\u001b\\\n"
      ]
     },
     "metadata": {},
     "output_type": "display_data"
    },
    {
     "name": "stdout",
     "output_type": "stream",
     "text": [
      "sagemaker.config INFO - Not applying SDK defaults from location: C:\\ProgramData\\sagemaker\\sagemaker\\config.yaml\n",
      "sagemaker.config INFO - Not applying SDK defaults from location: C:\\Users\\guido\\AppData\\Local\\sagemaker\\sagemaker\\config.yaml\n"
     ]
    },
    {
     "data": {
      "text/html": [
       "<pre style=\"white-space:pre;overflow-x:auto;line-height:normal;font-family:Menlo,'DejaVu Sans Mono',consolas,'Courier New',monospace\"><span style=\"color: #7fbfbf; text-decoration-color: #7fbfbf\">[11/30/24 11:46:41] </span><span style=\"color: #0069ff; text-decoration-color: #0069ff; font-weight: bold\">INFO    </span> Found credentials in shared credentials file: ~<span style=\"color: #e100e1; text-decoration-color: #e100e1\">/.aws/credentials</span>   <a href=\"file://d:\\Users\\guido\\miniconda3\\envs\\awsmle_py310\\lib\\site-packages\\botocore\\credentials.py\" target=\"_blank\"><span style=\"color: #7f7f7f; text-decoration-color: #7f7f7f\">credentials.py</span></a><span style=\"color: #7f7f7f; text-decoration-color: #7f7f7f\">:</span><a href=\"file://d:\\Users\\guido\\miniconda3\\envs\\awsmle_py310\\lib\\site-packages\\botocore\\credentials.py#1278\" target=\"_blank\"><span style=\"color: #7f7f7f; text-decoration-color: #7f7f7f\">1278</span></a>\n",
       "</pre>\n"
      ],
      "text/plain": [
       "\u001b[2;36m[11/30/24 11:46:41]\u001b[0m\u001b[2;36m \u001b[0m\u001b[1;38;2;0;105;255mINFO    \u001b[0m Found credentials in shared credentials file: ~\u001b[38;2;225;0;225m/.aws/\u001b[0m\u001b[38;2;225;0;225mcredentials\u001b[0m   \u001b]8;id=373809;file://d:\\Users\\guido\\miniconda3\\envs\\awsmle_py310\\lib\\site-packages\\botocore\\credentials.py\u001b\\\u001b[2mcredentials.py\u001b[0m\u001b]8;;\u001b\\\u001b[2m:\u001b[0m\u001b]8;id=941429;file://d:\\Users\\guido\\miniconda3\\envs\\awsmle_py310\\lib\\site-packages\\botocore\\credentials.py#1278\u001b\\\u001b[2m1278\u001b[0m\u001b]8;;\u001b\\\n"
      ]
     },
     "metadata": {},
     "output_type": "display_data"
    },
    {
     "data": {
      "text/html": [
       "<pre style=\"white-space:pre;overflow-x:auto;line-height:normal;font-family:Menlo,'DejaVu Sans Mono',consolas,'Courier New',monospace\"><span style=\"color: #7fbfbf; text-decoration-color: #7fbfbf\">[11/30/24 11:46:43] </span><span style=\"color: #d7af00; text-decoration-color: #d7af00; font-weight: bold\">WARNING </span> Couldn't call <span style=\"color: #008700; text-decoration-color: #008700\">'get_role'</span> to get Role ARN from role name voclabs to get <a href=\"file://d:\\Users\\guido\\miniconda3\\envs\\awsmle_py310\\lib\\site-packages\\sagemaker\\session.py\" target=\"_blank\"><span style=\"color: #7f7f7f; text-decoration-color: #7f7f7f\">session.py</span></a><span style=\"color: #7f7f7f; text-decoration-color: #7f7f7f\">:</span><a href=\"file://d:\\Users\\guido\\miniconda3\\envs\\awsmle_py310\\lib\\site-packages\\sagemaker\\session.py#5902\" target=\"_blank\"><span style=\"color: #7f7f7f; text-decoration-color: #7f7f7f\">5902</span></a>\n",
       "<span style=\"color: #7fbfbf; text-decoration-color: #7fbfbf\">                    </span>         Role path.                                                             <span style=\"color: #7f7f7f; text-decoration-color: #7f7f7f\">               </span>\n",
       "</pre>\n"
      ],
      "text/plain": [
       "\u001b[2;36m[11/30/24 11:46:43]\u001b[0m\u001b[2;36m \u001b[0m\u001b[1;38;2;215;175;0mWARNING \u001b[0m Couldn't call \u001b[38;2;0;135;0m'get_role'\u001b[0m to get Role ARN from role name voclabs to get \u001b]8;id=891087;file://d:\\Users\\guido\\miniconda3\\envs\\awsmle_py310\\lib\\site-packages\\sagemaker\\session.py\u001b\\\u001b[2msession.py\u001b[0m\u001b]8;;\u001b\\\u001b[2m:\u001b[0m\u001b]8;id=626663;file://d:\\Users\\guido\\miniconda3\\envs\\awsmle_py310\\lib\\site-packages\\sagemaker\\session.py#5902\u001b\\\u001b[2m5902\u001b[0m\u001b]8;;\u001b\\\n",
       "\u001b[2;36m                    \u001b[0m         Role path.                                                             \u001b[2m               \u001b[0m\n"
      ]
     },
     "metadata": {},
     "output_type": "display_data"
    },
    {
     "name": "stdout",
     "output_type": "stream",
     "text": [
      "👉 Role ARN: arn:aws:iam::061096721307:role/service-role/AmazonSageMaker-ExecutionRole-20241128T055392\n"
     ]
    }
   ],
   "source": [
    "from sagemaker.pytorch import PyTorch\n",
    "from sagemaker import get_execution_role\n",
    "\n",
    "role_arn = get_execution_role()  ## get role ARN\n",
    "if 'AmazonSageMaker-ExecutionRole' not in role_arn:\n",
    "    ## your own role here\n",
    "    role_arn = \"arn:aws:iam::061096721307:role/service-role/AmazonSageMaker-ExecutionRole-20241128T055392\"\n",
    "print(\"👉 Role ARN:\", role_arn) ## If local, Role ARN: arn:aws:iam::807711953667:role/voclabs"
   ]
  },
  {
   "cell_type": "code",
   "execution_count": null,
   "metadata": {},
   "outputs": [
    {
     "data": {
      "text/html": [
       "<pre style=\"white-space:pre;overflow-x:auto;line-height:normal;font-family:Menlo,'DejaVu Sans Mono',consolas,'Courier New',monospace\"><span style=\"color: #7fbfbf; text-decoration-color: #7fbfbf\">[11/30/24 12:11:11] </span><span style=\"color: #0069ff; text-decoration-color: #0069ff; font-weight: bold\">INFO    </span> image_uri is not presented, retrieving image_uri based on            <a href=\"file://d:\\Users\\guido\\miniconda3\\envs\\awsmle_py310\\lib\\site-packages\\sagemaker\\image_uris.py\" target=\"_blank\"><span style=\"color: #7f7f7f; text-decoration-color: #7f7f7f\">image_uris.py</span></a><span style=\"color: #7f7f7f; text-decoration-color: #7f7f7f\">:</span><a href=\"file://d:\\Users\\guido\\miniconda3\\envs\\awsmle_py310\\lib\\site-packages\\sagemaker\\image_uris.py#674\" target=\"_blank\"><span style=\"color: #7f7f7f; text-decoration-color: #7f7f7f\">674</span></a>\n",
       "<span style=\"color: #7fbfbf; text-decoration-color: #7fbfbf\">                    </span>         instance_type, framework etc.                                        <span style=\"color: #7f7f7f; text-decoration-color: #7f7f7f\">                 </span>\n",
       "</pre>\n"
      ],
      "text/plain": [
       "\u001b[2;36m[11/30/24 12:11:11]\u001b[0m\u001b[2;36m \u001b[0m\u001b[1;38;2;0;105;255mINFO    \u001b[0m image_uri is not presented, retrieving image_uri based on            \u001b]8;id=495136;file://d:\\Users\\guido\\miniconda3\\envs\\awsmle_py310\\lib\\site-packages\\sagemaker\\image_uris.py\u001b\\\u001b[2mimage_uris.py\u001b[0m\u001b]8;;\u001b\\\u001b[2m:\u001b[0m\u001b]8;id=445470;file://d:\\Users\\guido\\miniconda3\\envs\\awsmle_py310\\lib\\site-packages\\sagemaker\\image_uris.py#674\u001b\\\u001b[2m674\u001b[0m\u001b]8;;\u001b\\\n",
       "\u001b[2;36m                    \u001b[0m         instance_type, framework etc.                                        \u001b[2m                 \u001b[0m\n"
      ]
     },
     "metadata": {},
     "output_type": "display_data"
    },
    {
     "data": {
      "text/html": [
       "<pre style=\"white-space:pre;overflow-x:auto;line-height:normal;font-family:Menlo,'DejaVu Sans Mono',consolas,'Courier New',monospace\"><span style=\"color: #7fbfbf; text-decoration-color: #7fbfbf\">                    </span><span style=\"color: #0069ff; text-decoration-color: #0069ff; font-weight: bold\">INFO    </span> Creating training-job with name:                                       <a href=\"file://d:\\Users\\guido\\miniconda3\\envs\\awsmle_py310\\lib\\site-packages\\sagemaker\\session.py\" target=\"_blank\"><span style=\"color: #7f7f7f; text-decoration-color: #7f7f7f\">session.py</span></a><span style=\"color: #7f7f7f; text-decoration-color: #7f7f7f\">:</span><a href=\"file://d:\\Users\\guido\\miniconda3\\envs\\awsmle_py310\\lib\\site-packages\\sagemaker\\session.py#1042\" target=\"_blank\"><span style=\"color: #7f7f7f; text-decoration-color: #7f7f7f\">1042</span></a>\n",
       "<span style=\"color: #7fbfbf; text-decoration-color: #7fbfbf\">                    </span>         sagemaker-script-mode-<span style=\"color: #008080; text-decoration-color: #008080; font-weight: bold\">2024</span>-11-30-18-11-08-282                          <span style=\"color: #7f7f7f; text-decoration-color: #7f7f7f\">               </span>\n",
       "</pre>\n"
      ],
      "text/plain": [
       "\u001b[2;36m                   \u001b[0m\u001b[2;36m \u001b[0m\u001b[1;38;2;0;105;255mINFO    \u001b[0m Creating training-job with name:                                       \u001b]8;id=451209;file://d:\\Users\\guido\\miniconda3\\envs\\awsmle_py310\\lib\\site-packages\\sagemaker\\session.py\u001b\\\u001b[2msession.py\u001b[0m\u001b]8;;\u001b\\\u001b[2m:\u001b[0m\u001b]8;id=34373;file://d:\\Users\\guido\\miniconda3\\envs\\awsmle_py310\\lib\\site-packages\\sagemaker\\session.py#1042\u001b\\\u001b[2m1042\u001b[0m\u001b]8;;\u001b\\\n",
       "\u001b[2;36m                    \u001b[0m         sagemaker-script-mode-\u001b[1;36m2024\u001b[0m-11-30-18-11-08-282                          \u001b[2m               \u001b[0m\n"
      ]
     },
     "metadata": {},
     "output_type": "display_data"
    },
    {
     "name": "stdout",
     "output_type": "stream",
     "text": [
      "2024-11-30 18:11:15 Starting - Starting the training job...\n",
      "2024-11-30 18:11:29 Starting - Preparing the instances for training...\n",
      "2024-11-30 18:11:56 Downloading - Downloading input data...\n",
      "2024-11-30 18:12:31 Downloading - Downloading the training image.....bash: cannot set terminal process group (-1): Inappropriate ioctl for device\n",
      "bash: no job control in this shell\n",
      "2024-11-30 18:13:36,265 sagemaker-training-toolkit INFO     Imported framework sagemaker_pytorch_container.training\n",
      "2024-11-30 18:13:36,268 sagemaker-training-toolkit INFO     No GPUs detected (normal if no gpus installed)\n",
      "2024-11-30 18:13:36,277 sagemaker_pytorch_container.training INFO     Block until all host DNS lookups succeed.\n",
      "2024-11-30 18:13:36,279 sagemaker_pytorch_container.training INFO     Invoking user training script.\n",
      "2024-11-30 18:13:36,448 sagemaker-training-toolkit INFO     No GPUs detected (normal if no gpus installed)\n",
      "2024-11-30 18:13:36,463 sagemaker-training-toolkit INFO     No GPUs detected (normal if no gpus installed)\n",
      "2024-11-30 18:13:36,474 sagemaker-training-toolkit INFO     No GPUs detected (normal if no gpus installed)\n",
      "2024-11-30 18:13:36,484 sagemaker-training-toolkit INFO     Invoking user script\n",
      "Training Env:\n",
      "{\n",
      "    \"additional_framework_parameters\": {},\n",
      "    \"channel_input_dirs\": {},\n",
      "    \"current_host\": \"algo-1\",\n",
      "    \"framework_module\": \"sagemaker_pytorch_container.training:main\",\n",
      "    \"hosts\": [\n",
      "        \"algo-1\"\n",
      "    ],\n",
      "    \"hyperparameters\": {\n",
      "        \"batch-size\": \"32\",\n",
      "        \"epochs\": \"2\",\n",
      "        \"lr\": \"0.001\",\n",
      "        \"test-batch-size\": \"100\"\n",
      "    },\n",
      "    \"input_config_dir\": \"/opt/ml/input/config\",\n",
      "    \"input_data_config\": {},\n",
      "    \"input_dir\": \"/opt/ml/input\",\n",
      "    \"is_master\": true,\n",
      "    \"job_name\": \"sagemaker-script-mode-2024-11-30-18-11-08-282\",\n",
      "    \"log_level\": 20,\n",
      "    \"master_hostname\": \"algo-1\",\n",
      "    \"model_dir\": \"/opt/ml/model\",\n",
      "    \"module_dir\": \"s3://sagemaker-us-east-1-061096721307/sagemaker-script-mode-2024-11-30-18-11-08-282/source/sourcedir.tar.gz\",\n",
      "    \"module_name\": \"pytorch_cifar\",\n",
      "    \"network_interface_name\": \"eth0\",\n",
      "    \"num_cpus\": 2,\n",
      "    \"num_gpus\": 0,\n",
      "    \"output_data_dir\": \"/opt/ml/output/data\",\n",
      "    \"output_dir\": \"/opt/ml/output\",\n",
      "    \"output_intermediate_dir\": \"/opt/ml/output/intermediate\",\n",
      "    \"resource_config\": {\n",
      "        \"current_host\": \"algo-1\",\n",
      "        \"current_instance_type\": \"ml.m5.large\",\n",
      "        \"current_group_name\": \"homogeneousCluster\",\n",
      "        \"hosts\": [\n",
      "            \"algo-1\"\n",
      "        ],\n",
      "        \"instance_groups\": [\n",
      "            {\n",
      "                \"instance_group_name\": \"homogeneousCluster\",\n",
      "                \"instance_type\": \"ml.m5.large\",\n",
      "                \"hosts\": [\n",
      "                    \"algo-1\"\n",
      "                ]\n",
      "            }\n",
      "        ],\n",
      "        \"network_interface_name\": \"eth0\"\n",
      "    },\n",
      "    \"user_entry_point\": \"pytorch_cifar.py\"\n",
      "}\n",
      "Environment variables:\n",
      "SM_HOSTS=[\"algo-1\"]\n",
      "SM_NETWORK_INTERFACE_NAME=eth0\n",
      "SM_HPS={\"batch-size\":\"32\",\"epochs\":\"2\",\"lr\":\"0.001\",\"test-batch-size\":\"100\"}\n",
      "SM_USER_ENTRY_POINT=pytorch_cifar.py\n",
      "SM_FRAMEWORK_PARAMS={}\n",
      "SM_RESOURCE_CONFIG={\"current_group_name\":\"homogeneousCluster\",\"current_host\":\"algo-1\",\"current_instance_type\":\"ml.m5.large\",\"hosts\":[\"algo-1\"],\"instance_groups\":[{\"hosts\":[\"algo-1\"],\"instance_group_name\":\"homogeneousCluster\",\"instance_type\":\"ml.m5.large\"}],\"network_interface_name\":\"eth0\"}\n",
      "SM_INPUT_DATA_CONFIG={}\n",
      "SM_OUTPUT_DATA_DIR=/opt/ml/output/data\n",
      "SM_CHANNELS=[]\n",
      "SM_CURRENT_HOST=algo-1\n",
      "SM_MODULE_NAME=pytorch_cifar\n",
      "SM_LOG_LEVEL=20\n",
      "SM_FRAMEWORK_MODULE=sagemaker_pytorch_container.training:main\n",
      "SM_INPUT_DIR=/opt/ml/input\n",
      "SM_INPUT_CONFIG_DIR=/opt/ml/input/config\n",
      "SM_OUTPUT_DIR=/opt/ml/output\n",
      "SM_NUM_CPUS=2\n",
      "SM_NUM_GPUS=0\n",
      "SM_MODEL_DIR=/opt/ml/model\n",
      "SM_MODULE_DIR=s3://sagemaker-us-east-1-061096721307/sagemaker-script-mode-2024-11-30-18-11-08-282/source/sourcedir.tar.gz\n",
      "SM_TRAINING_ENV={\"additional_framework_parameters\":{},\"channel_input_dirs\":{},\"current_host\":\"algo-1\",\"framework_module\":\"sagemaker_pytorch_container.training:main\",\"hosts\":[\"algo-1\"],\"hyperparameters\":{\"batch-size\":\"32\",\"epochs\":\"2\",\"lr\":\"0.001\",\"test-batch-size\":\"100\"},\"input_config_dir\":\"/opt/ml/input/config\",\"input_data_config\":{},\"input_dir\":\"/opt/ml/input\",\"is_master\":true,\"job_name\":\"sagemaker-script-mode-2024-11-30-18-11-08-282\",\"log_level\":20,\"master_hostname\":\"algo-1\",\"model_dir\":\"/opt/ml/model\",\"module_dir\":\"s3://sagemaker-us-east-1-061096721307/sagemaker-script-mode-2024-11-30-18-11-08-282/source/sourcedir.tar.gz\",\"module_name\":\"pytorch_cifar\",\"network_interface_name\":\"eth0\",\"num_cpus\":2,\"num_gpus\":0,\"output_data_dir\":\"/opt/ml/output/data\",\"output_dir\":\"/opt/ml/output\",\"output_intermediate_dir\":\"/opt/ml/output/intermediate\",\"resource_config\":{\"current_group_name\":\"homogeneousCluster\",\"current_host\":\"algo-1\",\"current_instance_type\":\"ml.m5.large\",\"hosts\":[\"algo-1\"],\"instance_groups\":[{\"hosts\":[\"algo-1\"],\"instance_group_name\":\"homogeneousCluster\",\"instance_type\":\"ml.m5.large\"}],\"network_interface_name\":\"eth0\"},\"user_entry_point\":\"pytorch_cifar.py\"}\n",
      "SM_USER_ARGS=[\"--batch-size\",\"32\",\"--epochs\",\"2\",\"--lr\",\"0.001\",\"--test-batch-size\",\"100\"]\n",
      "SM_OUTPUT_INTERMEDIATE_DIR=/opt/ml/output/intermediate\n",
      "SM_HP_BATCH-SIZE=32\n",
      "SM_HP_EPOCHS=2\n",
      "SM_HP_LR=0.001\n",
      "SM_HP_TEST-BATCH-SIZE=100\n",
      "PYTHONPATH=/opt/ml/code:/opt/conda/bin:/opt/conda/lib/python36.zip:/opt/conda/lib/python3.6:/opt/conda/lib/python3.6/lib-dynload:/opt/conda/lib/python3.6/site-packages\n",
      "Invoking script with the following command:\n",
      "/opt/conda/bin/python3.6 pytorch_cifar.py --batch-size 32 --epochs 2 --lr 0.001 --test-batch-size 100\n",
      "Downloading http://yann.lecun.com/exdb/mnist/train-images-idx3-ubyte.gz\n",
      "Failed to download (trying next):\n",
      "HTTP Error 403: Forbidden\n",
      "Downloading https://ossci-datasets.s3.amazonaws.com/mnist/train-images-idx3-ubyte.gz\n",
      "Downloading https://ossci-datasets.s3.amazonaws.com/mnist/train-images-idx3-ubyte.gz to ./data/MNIST/raw/train-images-idx3-ubyte.gz\n",
      "Extracting ./data/MNIST/raw/train-images-idx3-ubyte.gz to ./data/MNIST/raw\n",
      "Downloading http://yann.lecun.com/exdb/mnist/train-labels-idx1-ubyte.gz\n",
      "Failed to download (trying next):\n",
      "HTTP Error 403: Forbidden\n",
      "Downloading https://ossci-datasets.s3.amazonaws.com/mnist/train-labels-idx1-ubyte.gz\n",
      "Downloading https://ossci-datasets.s3.amazonaws.com/mnist/train-labels-idx1-ubyte.gz to ./data/MNIST/raw/train-labels-idx1-ubyte.gz\n",
      "Extracting ./data/MNIST/raw/train-labels-idx1-ubyte.gz to ./data/MNIST/raw\n",
      "Downloading http://yann.lecun.com/exdb/mnist/t10k-images-idx3-ubyte.gz\n",
      "Failed to download (trying next):\n",
      "HTTP Error 403: Forbidden\n",
      "Downloading https://ossci-datasets.s3.amazonaws.com/mnist/t10k-images-idx3-ubyte.gz\n",
      "Downloading https://ossci-datasets.s3.amazonaws.com/mnist/t10k-images-idx3-ubyte.gz to ./data/MNIST/raw/t10k-images-idx3-ubyte.gz\n",
      "Extracting ./data/MNIST/raw/t10k-images-idx3-ubyte.gz to ./data/MNIST/raw\n",
      "Downloading http://yann.lecun.com/exdb/mnist/t10k-labels-idx1-ubyte.gz\n",
      "Failed to download (trying next):\n",
      "HTTP Error 403: Forbidden\n",
      "Downloading https://ossci-datasets.s3.amazonaws.com/mnist/t10k-labels-idx1-ubyte.gz\n",
      "Downloading https://ossci-datasets.s3.amazonaws.com/mnist/t10k-labels-idx1-ubyte.gz to ./data/MNIST/raw/t10k-labels-idx1-ubyte.gz\n",
      "Extracting ./data/MNIST/raw/t10k-labels-idx1-ubyte.gz to ./data/MNIST/raw\n",
      "Processing...\n",
      "Done!\n",
      "[2024-11-30 18:13:38.702 algo-1:27 INFO utils.py:27] RULE_JOB_STOP_SIGNAL_FILENAME: None\n",
      "[2024-11-30 18:13:38.884 algo-1:27 INFO profiler_config_parser.py:102] User has disabled profiler.\n",
      "[2024-11-30 18:13:38.885 algo-1:27 INFO json_config.py:91] Creating hook from json_config at /opt/ml/input/config/debughookconfig.json.\n",
      "[2024-11-30 18:13:38.886 algo-1:27 INFO hook.py:201] tensorboard_dir has not been set for the hook. SMDebug will not be exporting tensorboard summaries.\n",
      "[2024-11-30 18:13:38.887 algo-1:27 INFO hook.py:255] Saving to /opt/ml/output/tensors\n",
      "[2024-11-30 18:13:38.887 algo-1:27 INFO state_store.py:77] The checkpoint config file /opt/ml/input/config/checkpointconfig.json does not exist.\n",
      "[2024-11-30 18:13:38.897 algo-1:27 INFO hook.py:591] name:model.0.weight count_params:144\n",
      "[2024-11-30 18:13:38.897 algo-1:27 INFO hook.py:591] name:model.0.bias count_params:16\n",
      "[2024-11-30 18:13:38.897 algo-1:27 INFO hook.py:591] name:model.2.weight count_params:4608\n",
      "[2024-11-30 18:13:38.898 algo-1:27 INFO hook.py:591] name:model.2.bias count_params:32\n",
      "[2024-11-30 18:13:38.898 algo-1:27 INFO hook.py:591] name:model.7.weight count_params:802816\n",
      "[2024-11-30 18:13:38.898 algo-1:27 INFO hook.py:591] name:model.7.bias count_params:128\n",
      "[2024-11-30 18:13:38.898 algo-1:27 INFO hook.py:591] name:model.10.weight count_params:1280\n",
      "[2024-11-30 18:13:38.898 algo-1:27 INFO hook.py:591] name:model.10.bias count_params:10\n",
      "[2024-11-30 18:13:38.898 algo-1:27 INFO hook.py:593] Total Trainable Params: 809034\n",
      "[2024-11-30 18:13:38.898 algo-1:27 INFO hook.py:425] Monitoring the collections: losses\n",
      "[2024-11-30 18:13:38.901 algo-1:27 INFO hook.py:488] Hook is writing from the hook with pid: 27\n",
      "👉 Train Epoch: 0 [0/60000 (0%)]#011Loss: 2.269663\n",
      "👉 Train Epoch: 0 [3200/60000 (5%)]#011Loss: 1.769743\n",
      "👉 Train Epoch: 0 [6400/60000 (11%)]#011Loss: 0.862143\n",
      "\n",
      "2024-11-30 18:13:32 Training - Training image download completed. Training in progress.👉 Train Epoch: 0 [9600/60000 (16%)]#011Loss: 0.659610\n",
      "👉 Train Epoch: 0 [12800/60000 (21%)]#011Loss: 0.744159\n",
      "👉 Train Epoch: 0 [16000/60000 (27%)]#011Loss: 0.531790\n",
      "👉 Train Epoch: 0 [19200/60000 (32%)]#011Loss: 0.792947\n",
      "👉 Train Epoch: 0 [22400/60000 (37%)]#011Loss: 0.562067\n",
      "👉 Train Epoch: 0 [25600/60000 (43%)]#011Loss: 0.741576\n",
      "👉 Train Epoch: 0 [28800/60000 (48%)]#011Loss: 0.360553\n",
      "👉 Train Epoch: 0 [32000/60000 (53%)]#011Loss: 0.291820\n",
      "👉 Train Epoch: 0 [35200/60000 (59%)]#011Loss: 0.652253\n",
      "👉 Train Epoch: 0 [38400/60000 (64%)]#011Loss: 0.571499\n",
      "👉 Train Epoch: 0 [41600/60000 (69%)]#011Loss: 0.558376\n",
      "👉 Train Epoch: 0 [44800/60000 (75%)]#011Loss: 0.113821\n",
      "👉 Train Epoch: 0 [48000/60000 (80%)]#011Loss: 0.456101\n",
      "👉 Train Epoch: 0 [51200/60000 (85%)]#011Loss: 0.089589\n",
      "👉 Train Epoch: 0 [54400/60000 (91%)]#011Loss: 0.546724\n",
      "👉 Train Epoch: 0 [57600/60000 (96%)]#011Loss: 0.430521\n",
      "Test set: Average loss: 0.2833, Accuracy: 9146/10000 (91%)\n",
      "👉 Train Epoch: 1 [0/60000 (0%)]#011Loss: 0.300125\n",
      "👉 Train Epoch: 1 [3200/60000 (5%)]#011Loss: 0.521964\n",
      "👉 Train Epoch: 1 [6400/60000 (11%)]#011Loss: 0.457353\n",
      "👉 Train Epoch: 1 [9600/60000 (16%)]#011Loss: 0.209972\n",
      "👉 Train Epoch: 1 [12800/60000 (21%)]#011Loss: 0.327222\n",
      "👉 Train Epoch: 1 [16000/60000 (27%)]#011Loss: 0.126849\n",
      "👉 Train Epoch: 1 [19200/60000 (32%)]#011Loss: 0.308241\n",
      "👉 Train Epoch: 1 [22400/60000 (37%)]#011Loss: 0.288543\n",
      "👉 Train Epoch: 1 [25600/60000 (43%)]#011Loss: 0.171200\n",
      "👉 Train Epoch: 1 [28800/60000 (48%)]#011Loss: 0.462099\n",
      "👉 Train Epoch: 1 [32000/60000 (53%)]#011Loss: 0.150810\n",
      "👉 Train Epoch: 1 [35200/60000 (59%)]#011Loss: 0.297749\n",
      "👉 Train Epoch: 1 [38400/60000 (64%)]#011Loss: 0.216364\n",
      "👉 Train Epoch: 1 [41600/60000 (69%)]#011Loss: 0.208319\n",
      "👉 Train Epoch: 1 [44800/60000 (75%)]#011Loss: 0.162003\n",
      "👉 Train Epoch: 1 [48000/60000 (80%)]#011Loss: 0.069657\n",
      "👉 Train Epoch: 1 [51200/60000 (85%)]#011Loss: 0.150282\n",
      "👉 Train Epoch: 1 [54400/60000 (91%)]#011Loss: 0.163462\n",
      "\n",
      "2024-11-30 18:15:43 Uploading - Uploading generated training model👉 Train Epoch: 1 [57600/60000 (96%)]#011Loss: 0.099330\n",
      "Test set: Average loss: 0.1844, Accuracy: 9421/10000 (94%)\n",
      "#015  0%|          | 0/9912422 [00:00<?, ?it/s]#0159913344it [00:00, 123927628.85it/s]        \n",
      "#015  0%|          | 0/28881 [00:00<?, ?it/s]#01529696it [00:00, 17189352.96it/s]         \n",
      "#015  0%|          | 0/1648877 [00:00<?, ?it/s]#0151649664it [00:00, 135822238.85it/s]        \n",
      "#015  0%|          | 0/4542 [00:00<?, ?it/s]#0155120it [00:00, 5467117.23it/s]          \n",
      "/opt/conda/lib/python3.6/site-packages/torchvision/datasets/mnist.py:502: UserWarning: The given NumPy array is not writeable, and PyTorch does not support non-writeable tensors. This means you can write to the underlying (supposedly non-writeable) NumPy array using the tensor. You may want to copy the array to protect its data or make it writeable before converting it to a tensor. This type of warning will be suppressed for the rest of this program. (Triggered internally at  ../torch/csrc/utils/tensor_numpy.cpp:143.)\n",
      "  return torch.from_numpy(parsed.astype(m[2], copy=False)).view(*s)\n",
      "2024-11-30 18:15:38,679 sagemaker-training-toolkit INFO     Reporting training SUCCESS\n",
      "\n",
      "2024-11-30 18:15:56 Completed - Training job completed\n",
      "Training seconds: 239\n",
      "Billable seconds: 239\n"
     ]
    }
   ],
   "source": [
    "# TODO: Include the hyperparameters your script will need over here.\n",
    "hyperparameters = {\"epochs\": \"2\", \n",
    "                   \"batch-size\": \"32\", \n",
    "                   \"test-batch-size\": \"100\", \n",
    "                   \"lr\": \"0.001\"}\n",
    "# TODO: Create your estimator here. You can use Pytorch or any other framework.\n",
    "estimator = PyTorch(\n",
    "    entry_point=\"scripts/pytorch_mnist.py\",\n",
    "    base_job_name=\"sagemaker-script-mode\",\n",
    "    role=role_arn,  #get_execution_role(),\n",
    "    instance_count=1,\n",
    "    instance_type=\"ml.m5.large\",\n",
    "    hyperparameters=hyperparameters,\n",
    "    framework_version=\"1.8\",\n",
    "    py_version=\"py36\",\n",
    ")\n",
    "# TODO: Start Training\n",
    "estimator.fit(wait=True)\n",
    "## check the job in \"SageMaker - Training - Training jobs\""
   ]
  },
  {
   "cell_type": "markdown",
   "metadata": {},
   "source": [
    "---  \n",
    "\n",
    "* example run error message:  \n",
    "\n",
    "  ```\n",
    "  [11/30/24 12:08:16] INFO     Creating training-job with name:                                       session.py:1042\n",
    "                               sagemaker-script-mode-2024-11-30-18-08-12-512    \n",
    "  [11/30/24 12:08:17] ERROR    Please check the troubleshooting guide for common errors:              session.py:1050\n",
    "                               https://docs.aws.amazon.com/sagemaker/latest/dg/sagemaker-python-sdk-t                \n",
    "                               roubleshooting.html#sagemaker-python-sdk-troubleshooting-create-traini                \n",
    "                               ng-job  \n",
    "  ```\n",
    "  ```\n",
    "  ClientError: An error occurred (ValidationException) when calling the CreateTrainingJob operation: Could not assume\n",
    "  role arn:aws:iam::061096721307:role/voclabs. Please ensure that the role exists and allows principal \n",
    "  'sagemaker.amazonaws.com' to assume the role.\n",
    "  ```"
   ]
  },
  {
   "cell_type": "markdown",
   "metadata": {},
   "source": []
  }
 ],
 "metadata": {
  "kernelspec": {
   "display_name": "awsmle_py310",
   "language": "python",
   "name": "python3"
  },
  "language_info": {
   "codemirror_mode": {
    "name": "ipython",
    "version": 3
   },
   "file_extension": ".py",
   "mimetype": "text/x-python",
   "name": "python",
   "nbconvert_exporter": "python",
   "pygments_lexer": "ipython3",
   "version": "3.10.15"
  }
 },
 "nbformat": 4,
 "nbformat_minor": 2
}
