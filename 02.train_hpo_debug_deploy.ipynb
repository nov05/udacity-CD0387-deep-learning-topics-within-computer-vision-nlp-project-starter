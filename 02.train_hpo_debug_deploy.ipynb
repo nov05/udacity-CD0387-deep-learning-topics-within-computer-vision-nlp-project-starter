{
 "cells": [
  {
   "cell_type": "markdown",
   "metadata": {},
   "source": [
    "* notebook created by nov05 on 2024-12-01  \n",
    "* local conda env [`awsmle_py310`](https://gist.github.com/nov05/d9c3be6c2ab9f6c050e3d988830db08b) (no cuda)    \n",
    "\n",
    "---   \n",
    "\n",
    "* https://sagemaker.readthedocs.io/en/v2.34.0/frameworks/pytorch/sagemaker.pytorch.html   \n",
    "* https://docs.wandb.ai/guides/integrations/sagemaker/  "
   ]
  },
  {
   "cell_type": "code",
   "execution_count": null,
   "metadata": {},
   "outputs": [],
   "source": [
    "# TODO: Install any packages that you might need\n",
    "# !pip install smdebug"
   ]
  },
  {
   "cell_type": "code",
   "execution_count": 13,
   "metadata": {},
   "outputs": [],
   "source": [
    "## windows cmd to launch notepad to edit aws credential file\n",
    "!notepad C:\\Users\\guido\\.aws\\credentials"
   ]
  },
  {
   "cell_type": "code",
   "execution_count": null,
   "metadata": {},
   "outputs": [
    {
     "name": "stderr",
     "output_type": "stream",
     "text": [
      "d:\\Users\\guido\\miniconda3\\envs\\awsmle_py310\\lib\\site-packages\\pydantic\\_internal\\_fields.py:192: UserWarning: Field name \"json\" in \"MonitoringDatasetFormat\" shadows an attribute in parent \"Base\"\n",
      "  warnings.warn(\n"
     ]
    },
    {
     "data": {
      "text/html": [
       "<pre style=\"white-space:pre;overflow-x:auto;line-height:normal;font-family:Menlo,'DejaVu Sans Mono',consolas,'Courier New',monospace\"><span style=\"color: #7fbfbf; text-decoration-color: #7fbfbf\">[12/03/24 23:42:23] </span><span style=\"color: #0069ff; text-decoration-color: #0069ff; font-weight: bold\">INFO    </span> Found credentials in shared credentials file: ~<span style=\"color: #e100e1; text-decoration-color: #e100e1\">/.aws/credentials</span>   <a href=\"file://d:\\Users\\guido\\miniconda3\\envs\\awsmle_py310\\lib\\site-packages\\botocore\\credentials.py\" target=\"_blank\"><span style=\"color: #7f7f7f; text-decoration-color: #7f7f7f\">credentials.py</span></a><span style=\"color: #7f7f7f; text-decoration-color: #7f7f7f\">:</span><a href=\"file://d:\\Users\\guido\\miniconda3\\envs\\awsmle_py310\\lib\\site-packages\\botocore\\credentials.py#1278\" target=\"_blank\"><span style=\"color: #7f7f7f; text-decoration-color: #7f7f7f\">1278</span></a>\n",
       "</pre>\n"
      ],
      "text/plain": [
       "\u001b[2;36m[12/03/24 23:42:23]\u001b[0m\u001b[2;36m \u001b[0m\u001b[1;38;2;0;105;255mINFO    \u001b[0m Found credentials in shared credentials file: ~\u001b[38;2;225;0;225m/.aws/\u001b[0m\u001b[38;2;225;0;225mcredentials\u001b[0m   \u001b]8;id=452823;file://d:\\Users\\guido\\miniconda3\\envs\\awsmle_py310\\lib\\site-packages\\botocore\\credentials.py\u001b\\\u001b[2mcredentials.py\u001b[0m\u001b]8;;\u001b\\\u001b[2m:\u001b[0m\u001b]8;id=21726;file://d:\\Users\\guido\\miniconda3\\envs\\awsmle_py310\\lib\\site-packages\\botocore\\credentials.py#1278\u001b\\\u001b[2m1278\u001b[0m\u001b]8;;\u001b\\\n"
      ]
     },
     "metadata": {},
     "output_type": "display_data"
    },
    {
     "name": "stdout",
     "output_type": "stream",
     "text": [
      "sagemaker.config INFO - Not applying SDK defaults from location: C:\\ProgramData\\sagemaker\\sagemaker\\config.yaml\n",
      "sagemaker.config INFO - Not applying SDK defaults from location: C:\\Users\\guido\\AppData\\Local\\sagemaker\\sagemaker\\config.yaml\n"
     ]
    },
    {
     "data": {
      "text/html": [
       "<pre style=\"white-space:pre;overflow-x:auto;line-height:normal;font-family:Menlo,'DejaVu Sans Mono',consolas,'Courier New',monospace\"><span style=\"color: #7fbfbf; text-decoration-color: #7fbfbf\">[12/03/24 23:42:24] </span><span style=\"color: #0069ff; text-decoration-color: #0069ff; font-weight: bold\">INFO    </span> Found credentials in shared credentials file: ~<span style=\"color: #e100e1; text-decoration-color: #e100e1\">/.aws/credentials</span>   <a href=\"file://d:\\Users\\guido\\miniconda3\\envs\\awsmle_py310\\lib\\site-packages\\botocore\\credentials.py\" target=\"_blank\"><span style=\"color: #7f7f7f; text-decoration-color: #7f7f7f\">credentials.py</span></a><span style=\"color: #7f7f7f; text-decoration-color: #7f7f7f\">:</span><a href=\"file://d:\\Users\\guido\\miniconda3\\envs\\awsmle_py310\\lib\\site-packages\\botocore\\credentials.py#1278\" target=\"_blank\"><span style=\"color: #7f7f7f; text-decoration-color: #7f7f7f\">1278</span></a>\n",
       "</pre>\n"
      ],
      "text/plain": [
       "\u001b[2;36m[12/03/24 23:42:24]\u001b[0m\u001b[2;36m \u001b[0m\u001b[1;38;2;0;105;255mINFO    \u001b[0m Found credentials in shared credentials file: ~\u001b[38;2;225;0;225m/.aws/\u001b[0m\u001b[38;2;225;0;225mcredentials\u001b[0m   \u001b]8;id=901267;file://d:\\Users\\guido\\miniconda3\\envs\\awsmle_py310\\lib\\site-packages\\botocore\\credentials.py\u001b\\\u001b[2mcredentials.py\u001b[0m\u001b]8;;\u001b\\\u001b[2m:\u001b[0m\u001b]8;id=954889;file://d:\\Users\\guido\\miniconda3\\envs\\awsmle_py310\\lib\\site-packages\\botocore\\credentials.py#1278\u001b\\\u001b[2m1278\u001b[0m\u001b]8;;\u001b\\\n"
      ]
     },
     "metadata": {},
     "output_type": "display_data"
    },
    {
     "data": {
      "text/html": [
       "<pre style=\"white-space:pre;overflow-x:auto;line-height:normal;font-family:Menlo,'DejaVu Sans Mono',consolas,'Courier New',monospace\"><span style=\"color: #7fbfbf; text-decoration-color: #7fbfbf\">[12/03/24 23:42:26] </span><span style=\"color: #d7af00; text-decoration-color: #d7af00; font-weight: bold\">WARNING </span> Couldn't call <span style=\"color: #008700; text-decoration-color: #008700\">'get_role'</span> to get Role ARN from role name voclabs to get <a href=\"file://d:\\Users\\guido\\miniconda3\\envs\\awsmle_py310\\lib\\site-packages\\sagemaker\\session.py\" target=\"_blank\"><span style=\"color: #7f7f7f; text-decoration-color: #7f7f7f\">session.py</span></a><span style=\"color: #7f7f7f; text-decoration-color: #7f7f7f\">:</span><a href=\"file://d:\\Users\\guido\\miniconda3\\envs\\awsmle_py310\\lib\\site-packages\\sagemaker\\session.py#5902\" target=\"_blank\"><span style=\"color: #7f7f7f; text-decoration-color: #7f7f7f\">5902</span></a>\n",
       "<span style=\"color: #7fbfbf; text-decoration-color: #7fbfbf\">                    </span>         Role path.                                                             <span style=\"color: #7f7f7f; text-decoration-color: #7f7f7f\">               </span>\n",
       "</pre>\n"
      ],
      "text/plain": [
       "\u001b[2;36m[12/03/24 23:42:26]\u001b[0m\u001b[2;36m \u001b[0m\u001b[1;38;2;215;175;0mWARNING \u001b[0m Couldn't call \u001b[38;2;0;135;0m'get_role'\u001b[0m to get Role ARN from role name voclabs to get \u001b]8;id=503707;file://d:\\Users\\guido\\miniconda3\\envs\\awsmle_py310\\lib\\site-packages\\sagemaker\\session.py\u001b\\\u001b[2msession.py\u001b[0m\u001b]8;;\u001b\\\u001b[2m:\u001b[0m\u001b]8;id=611482;file://d:\\Users\\guido\\miniconda3\\envs\\awsmle_py310\\lib\\site-packages\\sagemaker\\session.py#5902\u001b\\\u001b[2m5902\u001b[0m\u001b]8;;\u001b\\\n",
       "\u001b[2;36m                    \u001b[0m         Role path.                                                             \u001b[2m               \u001b[0m\n"
      ]
     },
     "metadata": {},
     "output_type": "display_data"
    },
    {
     "name": "stdout",
     "output_type": "stream",
     "text": [
      "Role ARN: arn:aws:iam::061096721307:role/service-role/AmazonSageMaker-ExecutionRole-20241128T055392\n"
     ]
    },
    {
     "data": {
      "text/html": [
       "<pre style=\"white-space:pre;overflow-x:auto;line-height:normal;font-family:Menlo,'DejaVu Sans Mono',consolas,'Courier New',monospace\"><span style=\"color: #7fbfbf; text-decoration-color: #7fbfbf\">                    </span><span style=\"color: #0069ff; text-decoration-color: #0069ff; font-weight: bold\">INFO    </span> Found credentials in shared credentials file: ~<span style=\"color: #e100e1; text-decoration-color: #e100e1\">/.aws/credentials</span>   <a href=\"file://d:\\Users\\guido\\miniconda3\\envs\\awsmle_py310\\lib\\site-packages\\botocore\\credentials.py\" target=\"_blank\"><span style=\"color: #7f7f7f; text-decoration-color: #7f7f7f\">credentials.py</span></a><span style=\"color: #7f7f7f; text-decoration-color: #7f7f7f\">:</span><a href=\"file://d:\\Users\\guido\\miniconda3\\envs\\awsmle_py310\\lib\\site-packages\\botocore\\credentials.py#1278\" target=\"_blank\"><span style=\"color: #7f7f7f; text-decoration-color: #7f7f7f\">1278</span></a>\n",
       "</pre>\n"
      ],
      "text/plain": [
       "\u001b[2;36m                   \u001b[0m\u001b[2;36m \u001b[0m\u001b[1;38;2;0;105;255mINFO    \u001b[0m Found credentials in shared credentials file: ~\u001b[38;2;225;0;225m/.aws/\u001b[0m\u001b[38;2;225;0;225mcredentials\u001b[0m   \u001b]8;id=9540;file://d:\\Users\\guido\\miniconda3\\envs\\awsmle_py310\\lib\\site-packages\\botocore\\credentials.py\u001b\\\u001b[2mcredentials.py\u001b[0m\u001b]8;;\u001b\\\u001b[2m:\u001b[0m\u001b]8;id=471836;file://d:\\Users\\guido\\miniconda3\\envs\\awsmle_py310\\lib\\site-packages\\botocore\\credentials.py#1278\u001b\\\u001b[2m1278\u001b[0m\u001b]8;;\u001b\\\n"
      ]
     },
     "metadata": {},
     "output_type": "display_data"
    },
    {
     "name": "stdout",
     "output_type": "stream",
     "text": [
      "AWS Region: us-east-1\n",
      "Default Bucket: sagemaker-us-east-1-061096721307\n",
      "Role Arn: arn:aws:iam::061096721307:role/service-role/AmazonSageMaker-ExecutionRole-20241128T055392\n"
     ]
    },
    {
     "name": "stderr",
     "output_type": "stream",
     "text": [
      "\u001b[34m\u001b[1mwandb\u001b[0m: Using wandb-core as the SDK backend.  Please refer to https://wandb.me/wandb-core for more information.\n"
     ]
    }
   ],
   "source": [
    "## reset the session after updating credentials\n",
    "import boto3 # type: ignore\n",
    "boto3.DEFAULT_SESSION = None\n",
    "import sagemaker # type: ignore\n",
    "from sagemaker import get_execution_role # type: ignore\n",
    "\n",
    "role_arn = get_execution_role()  ## get role ARN\n",
    "if 'AmazonSageMaker-ExecutionRole' not in role_arn:\n",
    "    ## Go to \"IAM - Roles\", search for \"SageMaker\", find the execution role.\n",
    "    role_arn = \"arn:aws:iam::852125600954:role/service-role/AmazonSageMaker-ExecutionRole-20241119T203081\"\n",
    "print(\"Role ARN:\", role_arn) ## If local, Role ARN: arn:aws:iam::807711953667:role/voclabs\n",
    "session = sagemaker.Session()\n",
    "region = session.boto_region_name\n",
    "bucket = session.default_bucket()\n",
    "print(\"AWS Region: {}\".format(region))\n",
    "print(\"Default Bucket: {}\".format(bucket))\n",
    "print(\"Role Arn: {}\".format(role_arn))\n",
    "\n",
    "import wandb\n",
    "## generate secrets.env. remember add it to .gitignore  \n",
    "wandb.sagemaker_auth(path=\"scripts\")  "
   ]
  },
  {
   "cell_type": "code",
   "execution_count": null,
   "metadata": {},
   "outputs": [],
   "source": [
    "from sagemaker.pytorch import PyTorch\n",
    "from sagemaker.inputs import TrainingInput\n",
    "from datetime import datetime\n",
    "## Moving the 1.1GB data from one bucket to another takes 1 hours.\n",
    "## This is roughly the same amount of time as uploading the data from a local machine to S3.\n",
    "data_base_path = \"s3://p3-dog-breed-image-classification/dogImages/\"\n",
    "train_data = TrainingInput(data_base_path+\"train/\", content_type=\"image/jpeg\")\n",
    "val_data = TrainingInput(data_base_path+\"valid/\", content_type=\"image/jpeg\")\n",
    "test_data = TrainingInput(data_base_path+\"test/\", content_type=\"image/jpeg\")\n",
    "output_path = \"s3://p3-dog-breed-image-classification/jobs/\""
   ]
  },
  {
   "cell_type": "code",
   "execution_count": null,
   "metadata": {},
   "outputs": [],
   "source": [
    "# hyperparameters = {\n",
    "#     'epochs': 40,  # Define how many epochs you want to train for\n",
    "#     'batch-size': 64,  ## ⚠️ this probably needs to be small for smaller training dataset?\n",
    "#     'opt-learning-rate': 1e-5,  ## optimizer lr. ⚠️ keep it small for pre-trained model\n",
    "#     'opt-weight-decay': 1e-4, ## optimizer weight decay\n",
    "#     'model-name': 'resnet50',  # Specify the ResNet model you want to use\n",
    "# }\n",
    "# Define the PyTorch estimator\n",
    "# estimator = PyTorch(\n",
    "#     entry_point='train.py',  # Your training script that defines the ResNet50 model and training loop\n",
    "#     source_dir='scripts',  # Directory where your script and dependencies are stored\n",
    "#     role=role_arn,\n",
    "#     framework_version='1.13.1',  # Use the PyTorch version you need\n",
    "#     py_version='py39',\n",
    "#     instance_count=1,  # Adjust based on the number of instances you want to use\n",
    "#     # instance_type='ml.p3.2xlarge',  # 16GB, Use GPU instances for deep learning\n",
    "#     instance_type='ml.g4dn.xlarge',  ## 16GB\n",
    "#     output_path=output_path,\n",
    "#     hyperparameters=hyperparameters,\n",
    "#     # use_spot_instances=True,\n",
    "# )"
   ]
  },
  {
   "cell_type": "code",
   "execution_count": 16,
   "metadata": {},
   "outputs": [],
   "source": [
    "# %%time\n",
    "# # Fit the estimator with the input channels (train, val)\n",
    "# estimator.fit(\n",
    "#     wait=True,  \n",
    "#     job_name=f\"p3-dog-breeds-job-{datetime.now().strftime('%Y%m%d-%H%M%S')}\",  \n",
    "#     inputs={\n",
    "#         \"train\": train_data, \n",
    "#         \"validation\": val_data, \n",
    "#         \"test\": test_data,\n",
    "#     },  \n",
    "# )"
   ]
  },
  {
   "cell_type": "markdown",
   "metadata": {},
   "source": [
    "## Dataset\n",
    "TODO: Explain what dataset you are using for this project. Maybe even give a small overview of the classes, class distributions etc that can help anyone not familiar with the dataset get a better understand of it.  \n",
    "* Refer to the `00.EDA.ipynb` file.  "
   ]
  },
  {
   "cell_type": "code",
   "execution_count": 17,
   "metadata": {},
   "outputs": [],
   "source": [
    "#TODO: Fetch and upload the data to AWS S3\n",
    "# Command to download and unzip data\n",
    "# !wget https://s3-us-west-1.amazonaws.com/udacity-aind/dog-project/dogImages.zip\n",
    "# !unzip dogImages.zip"
   ]
  },
  {
   "cell_type": "markdown",
   "metadata": {},
   "source": [
    "## Hyperparameter Tuning\n",
    "**TODO:** This is the part where you will finetune a pretrained model with hyperparameter tuning. Remember that you have to tune a minimum of two hyperparameters. However you are encouraged to tune more. You are also encouraged to explain why you chose to tune those particular hyperparameters and the ranges.\n",
    "\n",
    "**Note:** You will need to use the `hpo.py` script to perform hyperparameter tuning."
   ]
  },
  {
   "cell_type": "code",
   "execution_count": null,
   "metadata": {},
   "outputs": [],
   "source": [
    "## TODO: Declare your HP ranges, metrics etc.\n",
    "from sagemaker.tuner import (\n",
    "    IntegerParameter,\n",
    "    CategoricalParameter,\n",
    "    ContinuousParameter,\n",
    "    HyperparameterTuner,\n",
    ")\n",
    "hyperparameters = {\n",
    "    'model-name': 'resnet50',  # Specify the ResNet model you want to use\n",
    "}\n",
    "hyperparameter_ranges = {\n",
    "    'epochs': IntegerParameter(20, 40, scaling_type=\"Auto\"),\n",
    "    'batch-size': CategoricalParameter([16, 32, 64]),\n",
    "    'opt-learning-rate': ContinuousParameter(1e-6, 1e-4),\n",
    "    'opt-weight-decay': ContinuousParameter(1e-5, 1e-3),\n",
    "}\n",
    "objective_metric_name = \"eval_loss_epoch\"\n",
    "objective_type = \"Minimize\"\n",
    "metric_definitions = [{\n",
    "    # \"Name\": \"eval_loss_epoch\", \n",
    "    \"Regex\": \"EVAL: Average loss: ([0-9\\\\.]+)\"}]\n",
    "## TODO: Create estimators for your HPs\n",
    "estimator = PyTorch(\n",
    "    entry_point='train.py',  # Your training script that defines the ResNet50 model and training loop\n",
    "    source_dir='scripts',  # Directory where your script and dependencies are stored\n",
    "    role=role_arn,\n",
    "    framework_version='1.13.1',  # Use the PyTorch version you need\n",
    "    py_version='py39',\n",
    "    instance_count=1,  # Adjust based on the number of instances you want to use\n",
    "    ## Running 5 ml.g4dn.xlarge instances concurrently would cost around $3.76 per hour in total.\n",
    "    instance_type='ml.g4dn.xlarge',  ## 16GB $0.752/hr, Use GPU instances for deep learning\n",
    "    # instance_type='ml.p3.2xlarge',  # 16GB $3.825/hr\n",
    "    # instance_type='ml.p4d.24xlarge, ## 40*8GB $32.77/hr\n",
    "    output_path=output_path,\n",
    "    hyperparameters=hyperparameters,\n",
    "    # use_spot_instances=True,\n",
    ")\n",
    "## TODO: Your HP tuner here\n",
    "tuner = HyperparameterTuner(\n",
    "    estimator,\n",
    "    objective_metric_name,\n",
    "    hyperparameter_ranges,\n",
    "    metric_definitions,\n",
    "    max_jobs=40,\n",
    "    max_parallel_jobs=2,  ## this account limits gpu instance concurrent usage\n",
    "    objective_type=objective_type,\n",
    "    base_tuning_job_name='p3-dog-breeds-hpo',\n",
    "    early_stopping_type='Auto',\n",
    ")"
   ]
  },
  {
   "cell_type": "code",
   "execution_count": null,
   "metadata": {},
   "outputs": [
    {
     "data": {
      "text/html": [
       "<pre style=\"white-space:pre;overflow-x:auto;line-height:normal;font-family:Menlo,'DejaVu Sans Mono',consolas,'Courier New',monospace\"><span style=\"color: #7fbfbf; text-decoration-color: #7fbfbf\">[12/03/24 03:21:25] </span><span style=\"color: #0069ff; text-decoration-color: #0069ff; font-weight: bold\">INFO    </span> image_uri is not presented, retrieving image_uri based on            <a href=\"file://d:\\Users\\guido\\miniconda3\\envs\\awsmle_py310\\lib\\site-packages\\sagemaker\\image_uris.py\" target=\"_blank\"><span style=\"color: #7f7f7f; text-decoration-color: #7f7f7f\">image_uris.py</span></a><span style=\"color: #7f7f7f; text-decoration-color: #7f7f7f\">:</span><a href=\"file://d:\\Users\\guido\\miniconda3\\envs\\awsmle_py310\\lib\\site-packages\\sagemaker\\image_uris.py#674\" target=\"_blank\"><span style=\"color: #7f7f7f; text-decoration-color: #7f7f7f\">674</span></a>\n",
       "<span style=\"color: #7fbfbf; text-decoration-color: #7fbfbf\">                    </span>         instance_type, framework etc.                                        <span style=\"color: #7f7f7f; text-decoration-color: #7f7f7f\">                 </span>\n",
       "</pre>\n"
      ],
      "text/plain": [
       "\u001b[2;36m[12/03/24 03:21:25]\u001b[0m\u001b[2;36m \u001b[0m\u001b[1;38;2;0;105;255mINFO    \u001b[0m image_uri is not presented, retrieving image_uri based on            \u001b]8;id=810079;file://d:\\Users\\guido\\miniconda3\\envs\\awsmle_py310\\lib\\site-packages\\sagemaker\\image_uris.py\u001b\\\u001b[2mimage_uris.py\u001b[0m\u001b]8;;\u001b\\\u001b[2m:\u001b[0m\u001b]8;id=935931;file://d:\\Users\\guido\\miniconda3\\envs\\awsmle_py310\\lib\\site-packages\\sagemaker\\image_uris.py#674\u001b\\\u001b[2m674\u001b[0m\u001b]8;;\u001b\\\n",
       "\u001b[2;36m                    \u001b[0m         instance_type, framework etc.                                        \u001b[2m                 \u001b[0m\n"
      ]
     },
     "metadata": {},
     "output_type": "display_data"
    },
    {
     "data": {
      "text/html": [
       "<pre style=\"white-space:pre;overflow-x:auto;line-height:normal;font-family:Menlo,'DejaVu Sans Mono',consolas,'Courier New',monospace\"><span style=\"color: #7fbfbf; text-decoration-color: #7fbfbf\">                    </span><span style=\"color: #d7af00; text-decoration-color: #d7af00; font-weight: bold\">WARNING </span> No finished training job found associated with this estimator.       <a href=\"file://d:\\Users\\guido\\miniconda3\\envs\\awsmle_py310\\lib\\site-packages\\sagemaker\\estimator.py\" target=\"_blank\"><span style=\"color: #7f7f7f; text-decoration-color: #7f7f7f\">estimator.py</span></a><span style=\"color: #7f7f7f; text-decoration-color: #7f7f7f\">:</span><a href=\"file://d:\\Users\\guido\\miniconda3\\envs\\awsmle_py310\\lib\\site-packages\\sagemaker\\estimator.py#1909\" target=\"_blank\"><span style=\"color: #7f7f7f; text-decoration-color: #7f7f7f\">1909</span></a>\n",
       "<span style=\"color: #7fbfbf; text-decoration-color: #7fbfbf\">                    </span>         Please make sure this estimator is only used for building workflow   <span style=\"color: #7f7f7f; text-decoration-color: #7f7f7f\">                 </span>\n",
       "<span style=\"color: #7fbfbf; text-decoration-color: #7fbfbf\">                    </span>         config                                                               <span style=\"color: #7f7f7f; text-decoration-color: #7f7f7f\">                 </span>\n",
       "</pre>\n"
      ],
      "text/plain": [
       "\u001b[2;36m                   \u001b[0m\u001b[2;36m \u001b[0m\u001b[1;38;2;215;175;0mWARNING \u001b[0m No finished training job found associated with this estimator.       \u001b]8;id=301934;file://d:\\Users\\guido\\miniconda3\\envs\\awsmle_py310\\lib\\site-packages\\sagemaker\\estimator.py\u001b\\\u001b[2mestimator.py\u001b[0m\u001b]8;;\u001b\\\u001b[2m:\u001b[0m\u001b]8;id=579184;file://d:\\Users\\guido\\miniconda3\\envs\\awsmle_py310\\lib\\site-packages\\sagemaker\\estimator.py#1909\u001b\\\u001b[2m1909\u001b[0m\u001b]8;;\u001b\\\n",
       "\u001b[2;36m                    \u001b[0m         Please make sure this estimator is only used for building workflow   \u001b[2m                 \u001b[0m\n",
       "\u001b[2;36m                    \u001b[0m         config                                                               \u001b[2m                 \u001b[0m\n"
      ]
     },
     "metadata": {},
     "output_type": "display_data"
    },
    {
     "data": {
      "text/html": [
       "<pre style=\"white-space:pre;overflow-x:auto;line-height:normal;font-family:Menlo,'DejaVu Sans Mono',consolas,'Courier New',monospace\"><span style=\"color: #7fbfbf; text-decoration-color: #7fbfbf\">                    </span><span style=\"color: #0069ff; text-decoration-color: #0069ff; font-weight: bold\">INFO    </span> image_uri is not presented, retrieving image_uri based on            <a href=\"file://d:\\Users\\guido\\miniconda3\\envs\\awsmle_py310\\lib\\site-packages\\sagemaker\\image_uris.py\" target=\"_blank\"><span style=\"color: #7f7f7f; text-decoration-color: #7f7f7f\">image_uris.py</span></a><span style=\"color: #7f7f7f; text-decoration-color: #7f7f7f\">:</span><a href=\"file://d:\\Users\\guido\\miniconda3\\envs\\awsmle_py310\\lib\\site-packages\\sagemaker\\image_uris.py#674\" target=\"_blank\"><span style=\"color: #7f7f7f; text-decoration-color: #7f7f7f\">674</span></a>\n",
       "<span style=\"color: #7fbfbf; text-decoration-color: #7fbfbf\">                    </span>         instance_type, framework etc.                                        <span style=\"color: #7f7f7f; text-decoration-color: #7f7f7f\">                 </span>\n",
       "</pre>\n"
      ],
      "text/plain": [
       "\u001b[2;36m                   \u001b[0m\u001b[2;36m \u001b[0m\u001b[1;38;2;0;105;255mINFO    \u001b[0m image_uri is not presented, retrieving image_uri based on            \u001b]8;id=567713;file://d:\\Users\\guido\\miniconda3\\envs\\awsmle_py310\\lib\\site-packages\\sagemaker\\image_uris.py\u001b\\\u001b[2mimage_uris.py\u001b[0m\u001b]8;;\u001b\\\u001b[2m:\u001b[0m\u001b]8;id=289993;file://d:\\Users\\guido\\miniconda3\\envs\\awsmle_py310\\lib\\site-packages\\sagemaker\\image_uris.py#674\u001b\\\u001b[2m674\u001b[0m\u001b]8;;\u001b\\\n",
       "\u001b[2;36m                    \u001b[0m         instance_type, framework etc.                                        \u001b[2m                 \u001b[0m\n"
      ]
     },
     "metadata": {},
     "output_type": "display_data"
    },
    {
     "data": {
      "text/html": [
       "<pre style=\"white-space:pre;overflow-x:auto;line-height:normal;font-family:Menlo,'DejaVu Sans Mono',consolas,'Courier New',monospace\"><span style=\"color: #7fbfbf; text-decoration-color: #7fbfbf\">                    </span><span style=\"color: #0069ff; text-decoration-color: #0069ff; font-weight: bold\">INFO    </span> Creating hyperparameter tuning job with name:                          <a href=\"file://d:\\Users\\guido\\miniconda3\\envs\\awsmle_py310\\lib\\site-packages\\sagemaker\\session.py\" target=\"_blank\"><span style=\"color: #7f7f7f; text-decoration-color: #7f7f7f\">session.py</span></a><span style=\"color: #7f7f7f; text-decoration-color: #7f7f7f\">:</span><a href=\"file://d:\\Users\\guido\\miniconda3\\envs\\awsmle_py310\\lib\\site-packages\\sagemaker\\session.py#3314\" target=\"_blank\"><span style=\"color: #7f7f7f; text-decoration-color: #7f7f7f\">3314</span></a>\n",
       "<span style=\"color: #7fbfbf; text-decoration-color: #7fbfbf\">                    </span>         p3-dog-breeds-hpo-<span style=\"color: #008080; text-decoration-color: #008080; font-weight: bold\">241203</span>-<span style=\"color: #008080; text-decoration-color: #008080; font-weight: bold\">0321</span>                                          <span style=\"color: #7f7f7f; text-decoration-color: #7f7f7f\">               </span>\n",
       "</pre>\n"
      ],
      "text/plain": [
       "\u001b[2;36m                   \u001b[0m\u001b[2;36m \u001b[0m\u001b[1;38;2;0;105;255mINFO    \u001b[0m Creating hyperparameter tuning job with name:                          \u001b]8;id=270797;file://d:\\Users\\guido\\miniconda3\\envs\\awsmle_py310\\lib\\site-packages\\sagemaker\\session.py\u001b\\\u001b[2msession.py\u001b[0m\u001b]8;;\u001b\\\u001b[2m:\u001b[0m\u001b]8;id=548618;file://d:\\Users\\guido\\miniconda3\\envs\\awsmle_py310\\lib\\site-packages\\sagemaker\\session.py#3314\u001b\\\u001b[2m3314\u001b[0m\u001b]8;;\u001b\\\n",
       "\u001b[2;36m                    \u001b[0m         p3-dog-breeds-hpo-\u001b[1;36m241203\u001b[0m-\u001b[1;36m0321\u001b[0m                                          \u001b[2m               \u001b[0m\n"
      ]
     },
     "metadata": {},
     "output_type": "display_data"
    },
    {
     "name": "stdout",
     "output_type": "stream",
     "text": [
      "👉 p3-dog-breeds-hpo-241203-0321\n",
      "CPU times: total: 469 ms\n",
      "Wall time: 4.21 s\n"
     ]
    }
   ],
   "source": [
    "%%time\n",
    "## TODO: Fit your HP Tuner\n",
    "## TODO: Remember to include your data channels\n",
    "tuner.fit(\n",
    "    wait=False,  \n",
    "    # job_name=f\"p3-dog-breeds-hpo-{datetime.now().strftime('%Y%m%d-%H%M%S')}\",  \n",
    "    inputs={\n",
    "        \"train\": train_data, \n",
    "        \"validation\": val_data, \n",
    "        \"test\": test_data,\n",
    "    }, \n",
    ") \n",
    "print(\"👉\", tuner.latest_tuning_job.name)\n",
    "## check hpo jobs in \"SageMaker - Traning - Hyperparameter tuning jobs\"\n",
    "## e.g. p3-dog-breeds-hpo-241203-0321"
   ]
  },
  {
   "cell_type": "code",
   "execution_count": null,
   "metadata": {},
   "outputs": [],
   "source": [
    "## if the tuning job doesn't take long time...\n",
    "# print(tuner.best_training_job())\n",
    "# print(tuner.best_estimator().hyperparameters())\n",
    "# predictor = tuner.deploy(\n",
    "#     initial_instance_count=1, \n",
    "#     instance_type=\"ml.t2.medium\")"
   ]
  },
  {
   "cell_type": "markdown",
   "metadata": {},
   "source": [
    "## **👉 W&B Sweep** \n",
    "\n",
    "[Check the Sweep workspace](https://wandb.ai/nov05/udacity-awsmle-resnet50-dog-breeds/sweeps/tkeo613o)    \n",
    "\n",
    "<img src=\"https://raw.githubusercontent.com/nov05/pictures/refs/heads/master/Udacity/20241119_aws-mle-nanodegree/2024-12-03%2019_24_26-sagemaker-hpo%20_%20udacity-awsmle-resnet50-dog-breeds%20Workspace%20%E2%80%93%20Weights%20%26%20Biases.jpg\" width=600>  \n",
    "\n",
    "<img src=\"https://raw.githubusercontent.com/nov05/pictures/refs/heads/master/Udacity/20241119_aws-mle-nanodegree/2024-12-03%2019_51_24-sagemaker-hpo%20_%20udacity-awsmle-resnet50-dog-breeds%20Workspace%20%E2%80%93%20Weights%20%26%20Biases.jpg\" width=600>  "
   ]
  },
  {
   "cell_type": "code",
   "execution_count": null,
   "metadata": {},
   "outputs": [],
   "source": [
    "## launch wandb sweep job\n",
    "# !wandb agent nov05/udacity-awsmle-resnet50-dog-breeds/tkeo613o"
   ]
  },
  {
   "cell_type": "markdown",
   "metadata": {},
   "source": [
    "## Model Profiling and Debugging\n",
    "TODO: Using the best hyperparameters, create and finetune a new model  \n",
    "**Note:** You will need to use the `train.py` script to perform model profiling and debugging."
   ]
  },
  {
   "cell_type": "code",
   "execution_count": 3,
   "metadata": {},
   "outputs": [
    {
     "name": "stdout",
     "output_type": "stream",
     "text": [
      "👉 Best training job hyperparameters:\n"
     ]
    },
    {
     "data": {
      "text/plain": [
       "batch-size                                                          \"32\"\n",
       "epochs                                                              20.0\n",
       "opt-learning-rate                                                0.00008\n",
       "opt-weight-decay                                                0.000025\n",
       "TrainingJobName               p3-dog-breeds-hpo-241203-0321-018-c70921b4\n",
       "TrainingJobStatus                                              Completed\n",
       "FinalObjectiveValue                                               0.8678\n",
       "TrainingStartTime                              2024-12-03 10:04:43-06:00\n",
       "TrainingEndTime                                2024-12-03 10:50:50-06:00\n",
       "TrainingElapsedTimeSeconds                                        2767.0\n",
       "Name: 18, dtype: object"
      ]
     },
     "execution_count": 3,
     "metadata": {},
     "output_type": "execute_result"
    }
   ],
   "source": [
    "## instanticate an estimator from the hpo job name\n",
    "from sagemaker.estimator import Estimator\n",
    "from sagemaker.tuner import HyperparameterTuningJobAnalytics\n",
    "from pprint import pprint\n",
    "tuning_job_name = \"p3-dog-breeds-hpo-241203-0321\"\n",
    "hpo_analytics = HyperparameterTuningJobAnalytics(tuning_job_name, session)\n",
    "df_tuning_results = hpo_analytics.dataframe()\n",
    "best_training_job = df_tuning_results.sort_values('FinalObjectiveValue', ascending=True).iloc[0]\n",
    "# TODO: Get the best HPs\n",
    "print(\"👉 Best training job hyperparameters:\")\n",
    "best_training_job"
   ]
  },
  {
   "cell_type": "code",
   "execution_count": null,
   "metadata": {},
   "outputs": [],
   "source": [
    "# hyperparameters = {\n",
    "#     'epochs': int(best_training_job['epochs'].item()),   ## numpy.float -> int\n",
    "#     'batch-size': int(best_training_job['batch-size'][1:-2]),   ## str -> int\n",
    "#     'opt-learning-rate': best_training_job['opt-learning-rate'].item(),  ## numpy.float -> float\n",
    "#     'opt-weight-decay': best_training_job['opt-weight-decay'].item(),  ## ## numpy.float -> float\n",
    "#     'model-name': 'resnet50',  \n",
    "#     'debug': True\n",
    "# }\n",
    "hyperparameters = {\n",
    "    'epochs': 40,   \n",
    "    'batch-size': 32,   \n",
    "    'opt-learning-rate': 8e-5,  \n",
    "    'opt-weight-decay': 1e-3, \n",
    "    'model-name': 'resnet50',  \n",
    "    'debug': True\n",
    "}\n",
    "# TODO: Set up debugging and profiling rules and hooks\n",
    "from sagemaker.debugger import (\n",
    "    DebuggerHookConfig,\n",
    "    Rule,\n",
    "    rule_configs,\n",
    "    ProfilerRule,\n",
    ")\n",
    "rules = [\n",
    "    Rule.sagemaker(rule_configs.vanishing_gradient()),\n",
    "    Rule.sagemaker(rule_configs.overfit()),\n",
    "    Rule.sagemaker(rule_configs.overtraining()),\n",
    "    Rule.sagemaker(rule_configs.poor_weight_initialization()),\n",
    "    ProfilerRule.sagemaker(rule_configs.ProfilerReport()),\n",
    "]\n",
    "hook_config = DebuggerHookConfig(\n",
    "    hook_parameters={\n",
    "        \"train.save_interval\": \"100\", \n",
    "        \"eval.save_interval\": \"10\"\n",
    "    }\n",
    ")\n",
    "# TODO: Create and fit an estimator\n",
    "estimator = PyTorch(\n",
    "    entry_point='train.py',  # Your training script that defines the ResNet50 model and training loop\n",
    "    source_dir='scripts',  # Directory where your script and dependencies are stored\n",
    "    role=role_arn,\n",
    "    framework_version='1.13.1',  # Use the PyTorch version you need\n",
    "    py_version='py39',\n",
    "    instance_count=1,  # Adjust based on the number of instances you want to use\n",
    "    # instance_type='ml.p3.2xlarge',  # 16GB, Use GPU instances for deep learning\n",
    "    instance_type='ml.g4dn.xlarge',  ## 16GB\n",
    "    output_path=output_path,\n",
    "    hyperparameters=hyperparameters,\n",
    "    # use_spot_instances=True,\n",
    "    ## Debugger parameters\n",
    "    rules=rules,\n",
    "    debugger_hook_config=hook_config,    \n",
    ")"
   ]
  },
  {
   "cell_type": "code",
   "execution_count": 10,
   "metadata": {},
   "outputs": [
    {
     "data": {
      "text/html": [
       "<pre style=\"white-space:pre;overflow-x:auto;line-height:normal;font-family:Menlo,'DejaVu Sans Mono',consolas,'Courier New',monospace\"><span style=\"color: #7fbfbf; text-decoration-color: #7fbfbf\">[12/04/24 02:01:13] </span><span style=\"color: #0069ff; text-decoration-color: #0069ff; font-weight: bold\">INFO    </span> Defaulting to the only supported framework/algorithm version:        <a href=\"file://d:\\Users\\guido\\miniconda3\\envs\\awsmle_py310\\lib\\site-packages\\sagemaker\\image_uris.py\" target=\"_blank\"><span style=\"color: #7f7f7f; text-decoration-color: #7f7f7f\">image_uris.py</span></a><span style=\"color: #7f7f7f; text-decoration-color: #7f7f7f\">:</span><a href=\"file://d:\\Users\\guido\\miniconda3\\envs\\awsmle_py310\\lib\\site-packages\\sagemaker\\image_uris.py#487\" target=\"_blank\"><span style=\"color: #7f7f7f; text-decoration-color: #7f7f7f\">487</span></a>\n",
       "<span style=\"color: #7fbfbf; text-decoration-color: #7fbfbf\">                    </span>         latest.                                                              <span style=\"color: #7f7f7f; text-decoration-color: #7f7f7f\">                 </span>\n",
       "</pre>\n"
      ],
      "text/plain": [
       "\u001b[2;36m[12/04/24 02:01:13]\u001b[0m\u001b[2;36m \u001b[0m\u001b[1;38;2;0;105;255mINFO    \u001b[0m Defaulting to the only supported framework/algorithm version:        \u001b]8;id=673573;file://d:\\Users\\guido\\miniconda3\\envs\\awsmle_py310\\lib\\site-packages\\sagemaker\\image_uris.py\u001b\\\u001b[2mimage_uris.py\u001b[0m\u001b]8;;\u001b\\\u001b[2m:\u001b[0m\u001b]8;id=351931;file://d:\\Users\\guido\\miniconda3\\envs\\awsmle_py310\\lib\\site-packages\\sagemaker\\image_uris.py#487\u001b\\\u001b[2m487\u001b[0m\u001b]8;;\u001b\\\n",
       "\u001b[2;36m                    \u001b[0m         latest.                                                              \u001b[2m                 \u001b[0m\n"
      ]
     },
     "metadata": {},
     "output_type": "display_data"
    },
    {
     "data": {
      "text/html": [
       "<pre style=\"white-space:pre;overflow-x:auto;line-height:normal;font-family:Menlo,'DejaVu Sans Mono',consolas,'Courier New',monospace\"><span style=\"color: #7fbfbf; text-decoration-color: #7fbfbf\">                    </span><span style=\"color: #0069ff; text-decoration-color: #0069ff; font-weight: bold\">INFO    </span> Ignoring unnecessary instance type: <span style=\"color: #e100e1; text-decoration-color: #e100e1; font-style: italic\">None</span>.                            <a href=\"file://d:\\Users\\guido\\miniconda3\\envs\\awsmle_py310\\lib\\site-packages\\sagemaker\\image_uris.py\" target=\"_blank\"><span style=\"color: #7f7f7f; text-decoration-color: #7f7f7f\">image_uris.py</span></a><span style=\"color: #7f7f7f; text-decoration-color: #7f7f7f\">:</span><a href=\"file://d:\\Users\\guido\\miniconda3\\envs\\awsmle_py310\\lib\\site-packages\\sagemaker\\image_uris.py#523\" target=\"_blank\"><span style=\"color: #7f7f7f; text-decoration-color: #7f7f7f\">523</span></a>\n",
       "</pre>\n"
      ],
      "text/plain": [
       "\u001b[2;36m                   \u001b[0m\u001b[2;36m \u001b[0m\u001b[1;38;2;0;105;255mINFO    \u001b[0m Ignoring unnecessary instance type: \u001b[3;38;2;225;0;225mNone\u001b[0m.                            \u001b]8;id=502717;file://d:\\Users\\guido\\miniconda3\\envs\\awsmle_py310\\lib\\site-packages\\sagemaker\\image_uris.py\u001b\\\u001b[2mimage_uris.py\u001b[0m\u001b]8;;\u001b\\\u001b[2m:\u001b[0m\u001b]8;id=707893;file://d:\\Users\\guido\\miniconda3\\envs\\awsmle_py310\\lib\\site-packages\\sagemaker\\image_uris.py#523\u001b\\\u001b[2m523\u001b[0m\u001b]8;;\u001b\\\n"
      ]
     },
     "metadata": {},
     "output_type": "display_data"
    },
    {
     "data": {
      "text/html": [
       "<pre style=\"white-space:pre;overflow-x:auto;line-height:normal;font-family:Menlo,'DejaVu Sans Mono',consolas,'Courier New',monospace\"><span style=\"color: #7fbfbf; text-decoration-color: #7fbfbf\">                    </span><span style=\"color: #0069ff; text-decoration-color: #0069ff; font-weight: bold\">INFO    </span> Defaulting to the only supported framework/algorithm version:        <a href=\"file://d:\\Users\\guido\\miniconda3\\envs\\awsmle_py310\\lib\\site-packages\\sagemaker\\image_uris.py\" target=\"_blank\"><span style=\"color: #7f7f7f; text-decoration-color: #7f7f7f\">image_uris.py</span></a><span style=\"color: #7f7f7f; text-decoration-color: #7f7f7f\">:</span><a href=\"file://d:\\Users\\guido\\miniconda3\\envs\\awsmle_py310\\lib\\site-packages\\sagemaker\\image_uris.py#487\" target=\"_blank\"><span style=\"color: #7f7f7f; text-decoration-color: #7f7f7f\">487</span></a>\n",
       "<span style=\"color: #7fbfbf; text-decoration-color: #7fbfbf\">                    </span>         latest.                                                              <span style=\"color: #7f7f7f; text-decoration-color: #7f7f7f\">                 </span>\n",
       "</pre>\n"
      ],
      "text/plain": [
       "\u001b[2;36m                   \u001b[0m\u001b[2;36m \u001b[0m\u001b[1;38;2;0;105;255mINFO    \u001b[0m Defaulting to the only supported framework/algorithm version:        \u001b]8;id=621677;file://d:\\Users\\guido\\miniconda3\\envs\\awsmle_py310\\lib\\site-packages\\sagemaker\\image_uris.py\u001b\\\u001b[2mimage_uris.py\u001b[0m\u001b]8;;\u001b\\\u001b[2m:\u001b[0m\u001b]8;id=665550;file://d:\\Users\\guido\\miniconda3\\envs\\awsmle_py310\\lib\\site-packages\\sagemaker\\image_uris.py#487\u001b\\\u001b[2m487\u001b[0m\u001b]8;;\u001b\\\n",
       "\u001b[2;36m                    \u001b[0m         latest.                                                              \u001b[2m                 \u001b[0m\n"
      ]
     },
     "metadata": {},
     "output_type": "display_data"
    },
    {
     "data": {
      "text/html": [
       "<pre style=\"white-space:pre;overflow-x:auto;line-height:normal;font-family:Menlo,'DejaVu Sans Mono',consolas,'Courier New',monospace\"><span style=\"color: #7fbfbf; text-decoration-color: #7fbfbf\">                    </span><span style=\"color: #0069ff; text-decoration-color: #0069ff; font-weight: bold\">INFO    </span> Ignoring unnecessary instance type: <span style=\"color: #e100e1; text-decoration-color: #e100e1; font-style: italic\">None</span>.                            <a href=\"file://d:\\Users\\guido\\miniconda3\\envs\\awsmle_py310\\lib\\site-packages\\sagemaker\\image_uris.py\" target=\"_blank\"><span style=\"color: #7f7f7f; text-decoration-color: #7f7f7f\">image_uris.py</span></a><span style=\"color: #7f7f7f; text-decoration-color: #7f7f7f\">:</span><a href=\"file://d:\\Users\\guido\\miniconda3\\envs\\awsmle_py310\\lib\\site-packages\\sagemaker\\image_uris.py#523\" target=\"_blank\"><span style=\"color: #7f7f7f; text-decoration-color: #7f7f7f\">523</span></a>\n",
       "</pre>\n"
      ],
      "text/plain": [
       "\u001b[2;36m                   \u001b[0m\u001b[2;36m \u001b[0m\u001b[1;38;2;0;105;255mINFO    \u001b[0m Ignoring unnecessary instance type: \u001b[3;38;2;225;0;225mNone\u001b[0m.                            \u001b]8;id=771669;file://d:\\Users\\guido\\miniconda3\\envs\\awsmle_py310\\lib\\site-packages\\sagemaker\\image_uris.py\u001b\\\u001b[2mimage_uris.py\u001b[0m\u001b]8;;\u001b\\\u001b[2m:\u001b[0m\u001b]8;id=465482;file://d:\\Users\\guido\\miniconda3\\envs\\awsmle_py310\\lib\\site-packages\\sagemaker\\image_uris.py#523\u001b\\\u001b[2m523\u001b[0m\u001b]8;;\u001b\\\n"
      ]
     },
     "metadata": {},
     "output_type": "display_data"
    },
    {
     "data": {
      "text/html": [
       "<pre style=\"white-space:pre;overflow-x:auto;line-height:normal;font-family:Menlo,'DejaVu Sans Mono',consolas,'Courier New',monospace\"><span style=\"color: #7fbfbf; text-decoration-color: #7fbfbf\">                    </span><span style=\"color: #0069ff; text-decoration-color: #0069ff; font-weight: bold\">INFO    </span> Defaulting to the only supported framework/algorithm version:        <a href=\"file://d:\\Users\\guido\\miniconda3\\envs\\awsmle_py310\\lib\\site-packages\\sagemaker\\image_uris.py\" target=\"_blank\"><span style=\"color: #7f7f7f; text-decoration-color: #7f7f7f\">image_uris.py</span></a><span style=\"color: #7f7f7f; text-decoration-color: #7f7f7f\">:</span><a href=\"file://d:\\Users\\guido\\miniconda3\\envs\\awsmle_py310\\lib\\site-packages\\sagemaker\\image_uris.py#487\" target=\"_blank\"><span style=\"color: #7f7f7f; text-decoration-color: #7f7f7f\">487</span></a>\n",
       "<span style=\"color: #7fbfbf; text-decoration-color: #7fbfbf\">                    </span>         latest.                                                              <span style=\"color: #7f7f7f; text-decoration-color: #7f7f7f\">                 </span>\n",
       "</pre>\n"
      ],
      "text/plain": [
       "\u001b[2;36m                   \u001b[0m\u001b[2;36m \u001b[0m\u001b[1;38;2;0;105;255mINFO    \u001b[0m Defaulting to the only supported framework/algorithm version:        \u001b]8;id=509711;file://d:\\Users\\guido\\miniconda3\\envs\\awsmle_py310\\lib\\site-packages\\sagemaker\\image_uris.py\u001b\\\u001b[2mimage_uris.py\u001b[0m\u001b]8;;\u001b\\\u001b[2m:\u001b[0m\u001b]8;id=216313;file://d:\\Users\\guido\\miniconda3\\envs\\awsmle_py310\\lib\\site-packages\\sagemaker\\image_uris.py#487\u001b\\\u001b[2m487\u001b[0m\u001b]8;;\u001b\\\n",
       "\u001b[2;36m                    \u001b[0m         latest.                                                              \u001b[2m                 \u001b[0m\n"
      ]
     },
     "metadata": {},
     "output_type": "display_data"
    },
    {
     "data": {
      "text/html": [
       "<pre style=\"white-space:pre;overflow-x:auto;line-height:normal;font-family:Menlo,'DejaVu Sans Mono',consolas,'Courier New',monospace\"><span style=\"color: #7fbfbf; text-decoration-color: #7fbfbf\">[12/04/24 02:01:14] </span><span style=\"color: #0069ff; text-decoration-color: #0069ff; font-weight: bold\">INFO    </span> Ignoring unnecessary instance type: <span style=\"color: #e100e1; text-decoration-color: #e100e1; font-style: italic\">None</span>.                            <a href=\"file://d:\\Users\\guido\\miniconda3\\envs\\awsmle_py310\\lib\\site-packages\\sagemaker\\image_uris.py\" target=\"_blank\"><span style=\"color: #7f7f7f; text-decoration-color: #7f7f7f\">image_uris.py</span></a><span style=\"color: #7f7f7f; text-decoration-color: #7f7f7f\">:</span><a href=\"file://d:\\Users\\guido\\miniconda3\\envs\\awsmle_py310\\lib\\site-packages\\sagemaker\\image_uris.py#523\" target=\"_blank\"><span style=\"color: #7f7f7f; text-decoration-color: #7f7f7f\">523</span></a>\n",
       "</pre>\n"
      ],
      "text/plain": [
       "\u001b[2;36m[12/04/24 02:01:14]\u001b[0m\u001b[2;36m \u001b[0m\u001b[1;38;2;0;105;255mINFO    \u001b[0m Ignoring unnecessary instance type: \u001b[3;38;2;225;0;225mNone\u001b[0m.                            \u001b]8;id=118989;file://d:\\Users\\guido\\miniconda3\\envs\\awsmle_py310\\lib\\site-packages\\sagemaker\\image_uris.py\u001b\\\u001b[2mimage_uris.py\u001b[0m\u001b]8;;\u001b\\\u001b[2m:\u001b[0m\u001b]8;id=42079;file://d:\\Users\\guido\\miniconda3\\envs\\awsmle_py310\\lib\\site-packages\\sagemaker\\image_uris.py#523\u001b\\\u001b[2m523\u001b[0m\u001b]8;;\u001b\\\n"
      ]
     },
     "metadata": {},
     "output_type": "display_data"
    },
    {
     "data": {
      "text/html": [
       "<pre style=\"white-space:pre;overflow-x:auto;line-height:normal;font-family:Menlo,'DejaVu Sans Mono',consolas,'Courier New',monospace\"><span style=\"color: #7fbfbf; text-decoration-color: #7fbfbf\">                    </span><span style=\"color: #0069ff; text-decoration-color: #0069ff; font-weight: bold\">INFO    </span> Defaulting to the only supported framework/algorithm version:        <a href=\"file://d:\\Users\\guido\\miniconda3\\envs\\awsmle_py310\\lib\\site-packages\\sagemaker\\image_uris.py\" target=\"_blank\"><span style=\"color: #7f7f7f; text-decoration-color: #7f7f7f\">image_uris.py</span></a><span style=\"color: #7f7f7f; text-decoration-color: #7f7f7f\">:</span><a href=\"file://d:\\Users\\guido\\miniconda3\\envs\\awsmle_py310\\lib\\site-packages\\sagemaker\\image_uris.py#487\" target=\"_blank\"><span style=\"color: #7f7f7f; text-decoration-color: #7f7f7f\">487</span></a>\n",
       "<span style=\"color: #7fbfbf; text-decoration-color: #7fbfbf\">                    </span>         latest.                                                              <span style=\"color: #7f7f7f; text-decoration-color: #7f7f7f\">                 </span>\n",
       "</pre>\n"
      ],
      "text/plain": [
       "\u001b[2;36m                   \u001b[0m\u001b[2;36m \u001b[0m\u001b[1;38;2;0;105;255mINFO    \u001b[0m Defaulting to the only supported framework/algorithm version:        \u001b]8;id=551816;file://d:\\Users\\guido\\miniconda3\\envs\\awsmle_py310\\lib\\site-packages\\sagemaker\\image_uris.py\u001b\\\u001b[2mimage_uris.py\u001b[0m\u001b]8;;\u001b\\\u001b[2m:\u001b[0m\u001b]8;id=687344;file://d:\\Users\\guido\\miniconda3\\envs\\awsmle_py310\\lib\\site-packages\\sagemaker\\image_uris.py#487\u001b\\\u001b[2m487\u001b[0m\u001b]8;;\u001b\\\n",
       "\u001b[2;36m                    \u001b[0m         latest.                                                              \u001b[2m                 \u001b[0m\n"
      ]
     },
     "metadata": {},
     "output_type": "display_data"
    },
    {
     "data": {
      "text/html": [
       "<pre style=\"white-space:pre;overflow-x:auto;line-height:normal;font-family:Menlo,'DejaVu Sans Mono',consolas,'Courier New',monospace\"><span style=\"color: #7fbfbf; text-decoration-color: #7fbfbf\">                    </span><span style=\"color: #0069ff; text-decoration-color: #0069ff; font-weight: bold\">INFO    </span> Ignoring unnecessary instance type: <span style=\"color: #e100e1; text-decoration-color: #e100e1; font-style: italic\">None</span>.                            <a href=\"file://d:\\Users\\guido\\miniconda3\\envs\\awsmle_py310\\lib\\site-packages\\sagemaker\\image_uris.py\" target=\"_blank\"><span style=\"color: #7f7f7f; text-decoration-color: #7f7f7f\">image_uris.py</span></a><span style=\"color: #7f7f7f; text-decoration-color: #7f7f7f\">:</span><a href=\"file://d:\\Users\\guido\\miniconda3\\envs\\awsmle_py310\\lib\\site-packages\\sagemaker\\image_uris.py#523\" target=\"_blank\"><span style=\"color: #7f7f7f; text-decoration-color: #7f7f7f\">523</span></a>\n",
       "</pre>\n"
      ],
      "text/plain": [
       "\u001b[2;36m                   \u001b[0m\u001b[2;36m \u001b[0m\u001b[1;38;2;0;105;255mINFO    \u001b[0m Ignoring unnecessary instance type: \u001b[3;38;2;225;0;225mNone\u001b[0m.                            \u001b]8;id=722258;file://d:\\Users\\guido\\miniconda3\\envs\\awsmle_py310\\lib\\site-packages\\sagemaker\\image_uris.py\u001b\\\u001b[2mimage_uris.py\u001b[0m\u001b]8;;\u001b\\\u001b[2m:\u001b[0m\u001b]8;id=655472;file://d:\\Users\\guido\\miniconda3\\envs\\awsmle_py310\\lib\\site-packages\\sagemaker\\image_uris.py#523\u001b\\\u001b[2m523\u001b[0m\u001b]8;;\u001b\\\n"
      ]
     },
     "metadata": {},
     "output_type": "display_data"
    },
    {
     "data": {
      "text/html": [
       "<pre style=\"white-space:pre;overflow-x:auto;line-height:normal;font-family:Menlo,'DejaVu Sans Mono',consolas,'Courier New',monospace\"><span style=\"color: #7fbfbf; text-decoration-color: #7fbfbf\">                    </span><span style=\"color: #0069ff; text-decoration-color: #0069ff; font-weight: bold\">INFO    </span> Defaulting to the only supported framework/algorithm version:        <a href=\"file://d:\\Users\\guido\\miniconda3\\envs\\awsmle_py310\\lib\\site-packages\\sagemaker\\image_uris.py\" target=\"_blank\"><span style=\"color: #7f7f7f; text-decoration-color: #7f7f7f\">image_uris.py</span></a><span style=\"color: #7f7f7f; text-decoration-color: #7f7f7f\">:</span><a href=\"file://d:\\Users\\guido\\miniconda3\\envs\\awsmle_py310\\lib\\site-packages\\sagemaker\\image_uris.py#487\" target=\"_blank\"><span style=\"color: #7f7f7f; text-decoration-color: #7f7f7f\">487</span></a>\n",
       "<span style=\"color: #7fbfbf; text-decoration-color: #7fbfbf\">                    </span>         latest.                                                              <span style=\"color: #7f7f7f; text-decoration-color: #7f7f7f\">                 </span>\n",
       "</pre>\n"
      ],
      "text/plain": [
       "\u001b[2;36m                   \u001b[0m\u001b[2;36m \u001b[0m\u001b[1;38;2;0;105;255mINFO    \u001b[0m Defaulting to the only supported framework/algorithm version:        \u001b]8;id=937134;file://d:\\Users\\guido\\miniconda3\\envs\\awsmle_py310\\lib\\site-packages\\sagemaker\\image_uris.py\u001b\\\u001b[2mimage_uris.py\u001b[0m\u001b]8;;\u001b\\\u001b[2m:\u001b[0m\u001b]8;id=92745;file://d:\\Users\\guido\\miniconda3\\envs\\awsmle_py310\\lib\\site-packages\\sagemaker\\image_uris.py#487\u001b\\\u001b[2m487\u001b[0m\u001b]8;;\u001b\\\n",
       "\u001b[2;36m                    \u001b[0m         latest.                                                              \u001b[2m                 \u001b[0m\n"
      ]
     },
     "metadata": {},
     "output_type": "display_data"
    },
    {
     "data": {
      "text/html": [
       "<pre style=\"white-space:pre;overflow-x:auto;line-height:normal;font-family:Menlo,'DejaVu Sans Mono',consolas,'Courier New',monospace\"><span style=\"color: #7fbfbf; text-decoration-color: #7fbfbf\">                    </span><span style=\"color: #0069ff; text-decoration-color: #0069ff; font-weight: bold\">INFO    </span> Ignoring unnecessary instance type: <span style=\"color: #e100e1; text-decoration-color: #e100e1; font-style: italic\">None</span>.                            <a href=\"file://d:\\Users\\guido\\miniconda3\\envs\\awsmle_py310\\lib\\site-packages\\sagemaker\\image_uris.py\" target=\"_blank\"><span style=\"color: #7f7f7f; text-decoration-color: #7f7f7f\">image_uris.py</span></a><span style=\"color: #7f7f7f; text-decoration-color: #7f7f7f\">:</span><a href=\"file://d:\\Users\\guido\\miniconda3\\envs\\awsmle_py310\\lib\\site-packages\\sagemaker\\image_uris.py#523\" target=\"_blank\"><span style=\"color: #7f7f7f; text-decoration-color: #7f7f7f\">523</span></a>\n",
       "</pre>\n"
      ],
      "text/plain": [
       "\u001b[2;36m                   \u001b[0m\u001b[2;36m \u001b[0m\u001b[1;38;2;0;105;255mINFO    \u001b[0m Ignoring unnecessary instance type: \u001b[3;38;2;225;0;225mNone\u001b[0m.                            \u001b]8;id=910150;file://d:\\Users\\guido\\miniconda3\\envs\\awsmle_py310\\lib\\site-packages\\sagemaker\\image_uris.py\u001b\\\u001b[2mimage_uris.py\u001b[0m\u001b]8;;\u001b\\\u001b[2m:\u001b[0m\u001b]8;id=624071;file://d:\\Users\\guido\\miniconda3\\envs\\awsmle_py310\\lib\\site-packages\\sagemaker\\image_uris.py#523\u001b\\\u001b[2m523\u001b[0m\u001b]8;;\u001b\\\n"
      ]
     },
     "metadata": {},
     "output_type": "display_data"
    },
    {
     "data": {
      "text/html": [
       "<pre style=\"white-space:pre;overflow-x:auto;line-height:normal;font-family:Menlo,'DejaVu Sans Mono',consolas,'Courier New',monospace\"><span style=\"color: #7fbfbf; text-decoration-color: #7fbfbf\">                    </span><span style=\"color: #0069ff; text-decoration-color: #0069ff; font-weight: bold\">INFO    </span> image_uri is not presented, retrieving image_uri based on            <a href=\"file://d:\\Users\\guido\\miniconda3\\envs\\awsmle_py310\\lib\\site-packages\\sagemaker\\image_uris.py\" target=\"_blank\"><span style=\"color: #7f7f7f; text-decoration-color: #7f7f7f\">image_uris.py</span></a><span style=\"color: #7f7f7f; text-decoration-color: #7f7f7f\">:</span><a href=\"file://d:\\Users\\guido\\miniconda3\\envs\\awsmle_py310\\lib\\site-packages\\sagemaker\\image_uris.py#674\" target=\"_blank\"><span style=\"color: #7f7f7f; text-decoration-color: #7f7f7f\">674</span></a>\n",
       "<span style=\"color: #7fbfbf; text-decoration-color: #7fbfbf\">                    </span>         instance_type, framework etc.                                        <span style=\"color: #7f7f7f; text-decoration-color: #7f7f7f\">                 </span>\n",
       "</pre>\n"
      ],
      "text/plain": [
       "\u001b[2;36m                   \u001b[0m\u001b[2;36m \u001b[0m\u001b[1;38;2;0;105;255mINFO    \u001b[0m image_uri is not presented, retrieving image_uri based on            \u001b]8;id=347781;file://d:\\Users\\guido\\miniconda3\\envs\\awsmle_py310\\lib\\site-packages\\sagemaker\\image_uris.py\u001b\\\u001b[2mimage_uris.py\u001b[0m\u001b]8;;\u001b\\\u001b[2m:\u001b[0m\u001b]8;id=422613;file://d:\\Users\\guido\\miniconda3\\envs\\awsmle_py310\\lib\\site-packages\\sagemaker\\image_uris.py#674\u001b\\\u001b[2m674\u001b[0m\u001b]8;;\u001b\\\n",
       "\u001b[2;36m                    \u001b[0m         instance_type, framework etc.                                        \u001b[2m                 \u001b[0m\n"
      ]
     },
     "metadata": {},
     "output_type": "display_data"
    },
    {
     "data": {
      "text/html": [
       "<pre style=\"white-space:pre;overflow-x:auto;line-height:normal;font-family:Menlo,'DejaVu Sans Mono',consolas,'Courier New',monospace\"><span style=\"color: #7fbfbf; text-decoration-color: #7fbfbf\">                    </span><span style=\"color: #0069ff; text-decoration-color: #0069ff; font-weight: bold\">INFO    </span> Creating training-job with name: p3-dog-breeds-debug-<span style=\"color: #008080; text-decoration-color: #008080; font-weight: bold\">20241204</span>-<span style=\"color: #008080; text-decoration-color: #008080; font-weight: bold\">020112</span>   <a href=\"file://d:\\Users\\guido\\miniconda3\\envs\\awsmle_py310\\lib\\site-packages\\sagemaker\\session.py\" target=\"_blank\"><span style=\"color: #7f7f7f; text-decoration-color: #7f7f7f\">session.py</span></a><span style=\"color: #7f7f7f; text-decoration-color: #7f7f7f\">:</span><a href=\"file://d:\\Users\\guido\\miniconda3\\envs\\awsmle_py310\\lib\\site-packages\\sagemaker\\session.py#1042\" target=\"_blank\"><span style=\"color: #7f7f7f; text-decoration-color: #7f7f7f\">1042</span></a>\n",
       "</pre>\n"
      ],
      "text/plain": [
       "\u001b[2;36m                   \u001b[0m\u001b[2;36m \u001b[0m\u001b[1;38;2;0;105;255mINFO    \u001b[0m Creating training-job with name: p3-dog-breeds-debug-\u001b[1;36m20241204\u001b[0m-\u001b[1;36m020112\u001b[0m   \u001b]8;id=720972;file://d:\\Users\\guido\\miniconda3\\envs\\awsmle_py310\\lib\\site-packages\\sagemaker\\session.py\u001b\\\u001b[2msession.py\u001b[0m\u001b]8;;\u001b\\\u001b[2m:\u001b[0m\u001b]8;id=592173;file://d:\\Users\\guido\\miniconda3\\envs\\awsmle_py310\\lib\\site-packages\\sagemaker\\session.py#1042\u001b\\\u001b[2m1042\u001b[0m\u001b]8;;\u001b\\\n"
      ]
     },
     "metadata": {},
     "output_type": "display_data"
    },
    {
     "name": "stdout",
     "output_type": "stream",
     "text": [
      "2024-12-04 08:01:15 Starting - Starting the training job...\n",
      "2024-12-04 08:01:52 Starting - Preparing the instances for trainingVanishingGradient: InProgress\n",
      "Overfit: InProgress\n",
      "Overtraining: InProgress\n",
      "PoorWeightInitialization: InProgress\n",
      "ProfilerReport: InProgress\n",
      "...\n",
      "2024-12-04 08:02:17 Downloading - Downloading input data......\n",
      "2024-12-04 08:03:22 Downloading - Downloading the training image.................bash: cannot set terminal process group (-1): Inappropriate ioctl for device\n",
      "bash: no job control in this shell\n",
      "/opt/conda/lib/python3.9/site-packages/paramiko/pkey.py:100: CryptographyDeprecationWarning: TripleDES has been moved to cryptography.hazmat.decrepit.ciphers.algorithms.TripleDES and will be removed from this module in 48.0.0.\n",
      "  \"cipher\": algorithms.TripleDES,\n",
      "/opt/conda/lib/python3.9/site-packages/paramiko/transport.py:259: CryptographyDeprecationWarning: TripleDES has been moved to cryptography.hazmat.decrepit.ciphers.algorithms.TripleDES and will be removed from this module in 48.0.0.\n",
      "  \"class\": algorithms.TripleDES,\n",
      "2024-12-04 08:06:26,084 sagemaker-training-toolkit INFO     Imported framework sagemaker_pytorch_container.training\n",
      "2024-12-04 08:06:26,106 sagemaker-training-toolkit INFO     No Neurons detected (normal if no neurons installed)\n",
      "2024-12-04 08:06:26,119 sagemaker_pytorch_container.training INFO     Block until all host DNS lookups succeed.\n",
      "2024-12-04 08:06:26,123 sagemaker_pytorch_container.training INFO     Invoking user training script.\n",
      "2024-12-04 08:06:27,342 sagemaker-training-toolkit INFO     Installing dependencies from requirements.txt\n",
      "Collecting wandb (from -r requirements.txt (line 1))\n",
      "Downloading wandb-0.18.7-py3-none-manylinux_2_17_x86_64.manylinux2014_x86_64.whl.metadata (9.7 kB)\n",
      "Requirement already satisfied: click!=8.0.0,>=7.1 in /opt/conda/lib/python3.9/site-packages (from wandb->-r requirements.txt (line 1)) (8.1.7)\n",
      "Collecting docker-pycreds>=0.4.0 (from wandb->-r requirements.txt (line 1))\n",
      "Downloading docker_pycreds-0.4.0-py2.py3-none-any.whl.metadata (1.8 kB)\n",
      "Collecting gitpython!=3.1.29,>=1.0.0 (from wandb->-r requirements.txt (line 1))\n",
      "Downloading GitPython-3.1.43-py3-none-any.whl.metadata (13 kB)\n",
      "Requirement already satisfied: platformdirs in /opt/conda/lib/python3.9/site-packages (from wandb->-r requirements.txt (line 1)) (4.2.2)\n",
      "Requirement already satisfied: protobuf!=4.21.0,!=5.28.0,<6,>=3.15.0 in /opt/conda/lib/python3.9/site-packages (from wandb->-r requirements.txt (line 1)) (3.20.3)\n",
      "Requirement already satisfied: psutil>=5.0.0 in /opt/conda/lib/python3.9/site-packages (from wandb->-r requirements.txt (line 1)) (5.9.8)\n",
      "Requirement already satisfied: pyyaml in /opt/conda/lib/python3.9/site-packages (from wandb->-r requirements.txt (line 1)) (6.0.1)\n",
      "Requirement already satisfied: requests<3,>=2.0.0 in /opt/conda/lib/python3.9/site-packages (from wandb->-r requirements.txt (line 1)) (2.32.3)\n",
      "Collecting sentry-sdk>=2.0.0 (from wandb->-r requirements.txt (line 1))\n",
      "Downloading sentry_sdk-2.19.0-py2.py3-none-any.whl.metadata (9.9 kB)\n",
      "Collecting setproctitle (from wandb->-r requirements.txt (line 1))\n",
      "Downloading setproctitle-1.3.4-cp39-cp39-manylinux_2_5_x86_64.manylinux1_x86_64.manylinux_2_17_x86_64.manylinux2014_x86_64.whl.metadata (10 kB)\n",
      "Requirement already satisfied: setuptools in /opt/conda/lib/python3.9/site-packages (from wandb->-r requirements.txt (line 1)) (71.0.4)\n",
      "Requirement already satisfied: typing-extensions<5,>=4.4 in /opt/conda/lib/python3.9/site-packages (from wandb->-r requirements.txt (line 1)) (4.12.2)\n",
      "Requirement already satisfied: six>=1.4.0 in /opt/conda/lib/python3.9/site-packages (from docker-pycreds>=0.4.0->wandb->-r requirements.txt (line 1)) (1.16.0)\n",
      "Collecting gitdb<5,>=4.0.1 (from gitpython!=3.1.29,>=1.0.0->wandb->-r requirements.txt (line 1))\n",
      "Downloading gitdb-4.0.11-py3-none-any.whl.metadata (1.2 kB)\n",
      "Requirement already satisfied: charset-normalizer<4,>=2 in /opt/conda/lib/python3.9/site-packages (from requests<3,>=2.0.0->wandb->-r requirements.txt (line 1)) (2.1.1)\n",
      "Requirement already satisfied: idna<4,>=2.5 in /opt/conda/lib/python3.9/site-packages (from requests<3,>=2.0.0->wandb->-r requirements.txt (line 1)) (3.7)\n",
      "Requirement already satisfied: urllib3<3,>=1.21.1 in /opt/conda/lib/python3.9/site-packages (from requests<3,>=2.0.0->wandb->-r requirements.txt (line 1)) (1.26.19)\n",
      "Requirement already satisfied: certifi>=2017.4.17 in /opt/conda/lib/python3.9/site-packages (from requests<3,>=2.0.0->wandb->-r requirements.txt (line 1)) (2024.7.4)\n",
      "Collecting smmap<6,>=3.0.1 (from gitdb<5,>=4.0.1->gitpython!=3.1.29,>=1.0.0->wandb->-r requirements.txt (line 1))\n",
      "Downloading smmap-5.0.1-py3-none-any.whl.metadata (4.3 kB)\n",
      "Downloading wandb-0.18.7-py3-none-manylinux_2_17_x86_64.manylinux2014_x86_64.whl (16.1 MB)\n",
      "━━━━━━━━━━━━━━━━━━━━━━━━━━━━━━━━━━━━━━━━ 16.1/16.1 MB 99.8 MB/s eta 0:00:00\n",
      "Downloading docker_pycreds-0.4.0-py2.py3-none-any.whl (9.0 kB)\n",
      "Downloading GitPython-3.1.43-py3-none-any.whl (207 kB)\n",
      "━━━━━━━━━━━━━━━━━━━━━━━━━━━━━━━━━━━━━━━━ 207.3/207.3 kB 31.5 MB/s eta 0:00:00\n",
      "Downloading sentry_sdk-2.19.0-py2.py3-none-any.whl (322 kB)\n",
      "━━━━━━━━━━━━━━━━━━━━━━━━━━━━━━━━━━━━━━━━ 322.2/322.2 kB 34.4 MB/s eta 0:00:00\n",
      "Downloading setproctitle-1.3.4-cp39-cp39-manylinux_2_5_x86_64.manylinux1_x86_64.manylinux_2_17_x86_64.manylinux2014_x86_64.whl (30 kB)\n",
      "Downloading gitdb-4.0.11-py3-none-any.whl (62 kB)\n",
      "━━━━━━━━━━━━━━━━━━━━━━━━━━━━━━━━━━━━━━━━ 62.7/62.7 kB 10.9 MB/s eta 0:00:00\n",
      "Downloading smmap-5.0.1-py3-none-any.whl (24 kB)\n",
      "Installing collected packages: smmap, setproctitle, sentry-sdk, docker-pycreds, gitdb, gitpython, wandb\n",
      "Successfully installed docker-pycreds-0.4.0 gitdb-4.0.11 gitpython-3.1.43 sentry-sdk-2.19.0 setproctitle-1.3.4 smmap-5.0.1 wandb-0.18.7\n",
      "WARNING: Running pip as the 'root' user can result in broken permissions and conflicting behaviour with the system package manager, possibly rendering your system unusable.It is recommended to use a virtual environment instead: https://pip.pypa.io/warnings/venv. Use the --root-user-action option if you know what you are doing and want to suppress this warning.\n",
      "[notice] A new release of pip is available: 24.1.2 -> 24.3.1\n",
      "[notice] To update, run: pip install --upgrade pip\n",
      "2024-12-04 08:06:31,187 sagemaker-training-toolkit INFO     Waiting for the process to finish and give a return code.\n",
      "2024-12-04 08:06:31,187 sagemaker-training-toolkit INFO     Done waiting for a return code. Received 0 from exiting process.\n",
      "2024-12-04 08:06:31,238 sagemaker-training-toolkit INFO     No Neurons detected (normal if no neurons installed)\n",
      "2024-12-04 08:06:31,289 sagemaker-training-toolkit INFO     No Neurons detected (normal if no neurons installed)\n",
      "2024-12-04 08:06:31,341 sagemaker-training-toolkit INFO     No Neurons detected (normal if no neurons installed)\n",
      "2024-12-04 08:06:31,361 sagemaker-training-toolkit INFO     Invoking user script\n",
      "Training Env:\n",
      "{\n",
      "    \"additional_framework_parameters\": {},\n",
      "    \"channel_input_dirs\": {\n",
      "        \"test\": \"/opt/ml/input/data/test\",\n",
      "        \"train\": \"/opt/ml/input/data/train\",\n",
      "        \"validation\": \"/opt/ml/input/data/validation\"\n",
      "    },\n",
      "    \"current_host\": \"algo-1\",\n",
      "    \"current_instance_group\": \"homogeneousCluster\",\n",
      "    \"current_instance_group_hosts\": [\n",
      "        \"algo-1\"\n",
      "    ],\n",
      "    \"current_instance_type\": \"ml.g4dn.xlarge\",\n",
      "    \"distribution_hosts\": [],\n",
      "    \"distribution_instance_groups\": [],\n",
      "    \"framework_module\": \"sagemaker_pytorch_container.training:main\",\n",
      "    \"hosts\": [\n",
      "        \"algo-1\"\n",
      "    ],\n",
      "    \"hyperparameters\": {\n",
      "        \"batch-size\": 32,\n",
      "        \"debug\": true,\n",
      "        \"epochs\": 40,\n",
      "        \"model-name\": \"resnet50\",\n",
      "        \"opt-learning-rate\": 8e-05,\n",
      "        \"opt-weight-decay\": 0.001\n",
      "    },\n",
      "    \"input_config_dir\": \"/opt/ml/input/config\",\n",
      "    \"input_data_config\": {\n",
      "        \"test\": {\n",
      "            \"ContentType\": \"image/jpeg\",\n",
      "            \"TrainingInputMode\": \"File\",\n",
      "            \"S3DistributionType\": \"FullyReplicated\",\n",
      "            \"RecordWrapperType\": \"None\"\n",
      "        },\n",
      "        \"train\": {\n",
      "            \"ContentType\": \"image/jpeg\",\n",
      "            \"TrainingInputMode\": \"File\",\n",
      "            \"S3DistributionType\": \"FullyReplicated\",\n",
      "            \"RecordWrapperType\": \"None\"\n",
      "        },\n",
      "        \"validation\": {\n",
      "            \"ContentType\": \"image/jpeg\",\n",
      "            \"TrainingInputMode\": \"File\",\n",
      "            \"S3DistributionType\": \"FullyReplicated\",\n",
      "            \"RecordWrapperType\": \"None\"\n",
      "        }\n",
      "    },\n",
      "    \"input_dir\": \"/opt/ml/input\",\n",
      "    \"instance_groups\": [\n",
      "        \"homogeneousCluster\"\n",
      "    ],\n",
      "    \"instance_groups_dict\": {\n",
      "        \"homogeneousCluster\": {\n",
      "            \"instance_group_name\": \"homogeneousCluster\",\n",
      "            \"instance_type\": \"ml.g4dn.xlarge\",\n",
      "            \"hosts\": [\n",
      "                \"algo-1\"\n",
      "            ]\n",
      "        }\n",
      "    },\n",
      "    \"is_hetero\": false,\n",
      "    \"is_master\": true,\n",
      "    \"is_modelparallel_enabled\": null,\n",
      "    \"is_smddpmprun_installed\": true,\n",
      "    \"is_smddprun_installed\": true,\n",
      "    \"job_name\": \"p3-dog-breeds-debug-20241204-020112\",\n",
      "    \"log_level\": 20,\n",
      "    \"master_hostname\": \"algo-1\",\n",
      "    \"model_dir\": \"/opt/ml/model\",\n",
      "    \"module_dir\": \"s3://p3-dog-breed-classification/p3-dog-breeds-debug-20241204-020112/source/sourcedir.tar.gz\",\n",
      "    \"module_name\": \"train\",\n",
      "    \"network_interface_name\": \"eth0\",\n",
      "    \"num_cpus\": 4,\n",
      "    \"num_gpus\": 1,\n",
      "    \"num_neurons\": 0,\n",
      "    \"output_data_dir\": \"/opt/ml/output/data\",\n",
      "    \"output_dir\": \"/opt/ml/output\",\n",
      "    \"output_intermediate_dir\": \"/opt/ml/output/intermediate\",\n",
      "    \"resource_config\": {\n",
      "        \"current_host\": \"algo-1\",\n",
      "        \"current_instance_type\": \"ml.g4dn.xlarge\",\n",
      "        \"current_group_name\": \"homogeneousCluster\",\n",
      "        \"hosts\": [\n",
      "            \"algo-1\"\n",
      "        ],\n",
      "        \"instance_groups\": [\n",
      "            {\n",
      "                \"instance_group_name\": \"homogeneousCluster\",\n",
      "                \"instance_type\": \"ml.g4dn.xlarge\",\n",
      "                \"hosts\": [\n",
      "                    \"algo-1\"\n",
      "                ]\n",
      "            }\n",
      "        ],\n",
      "        \"network_interface_name\": \"eth0\"\n",
      "    },\n",
      "    \"user_entry_point\": \"train.py\"\n",
      "}\n",
      "Environment variables:\n",
      "SM_HOSTS=[\"algo-1\"]\n",
      "SM_NETWORK_INTERFACE_NAME=eth0\n",
      "SM_HPS={\"batch-size\":32,\"debug\":true,\"epochs\":40,\"model-name\":\"resnet50\",\"opt-learning-rate\":8e-05,\"opt-weight-decay\":0.001}\n",
      "SM_USER_ENTRY_POINT=train.py\n",
      "SM_FRAMEWORK_PARAMS={}\n",
      "SM_RESOURCE_CONFIG={\"current_group_name\":\"homogeneousCluster\",\"current_host\":\"algo-1\",\"current_instance_type\":\"ml.g4dn.xlarge\",\"hosts\":[\"algo-1\"],\"instance_groups\":[{\"hosts\":[\"algo-1\"],\"instance_group_name\":\"homogeneousCluster\",\"instance_type\":\"ml.g4dn.xlarge\"}],\"network_interface_name\":\"eth0\"}\n",
      "SM_INPUT_DATA_CONFIG={\"test\":{\"ContentType\":\"image/jpeg\",\"RecordWrapperType\":\"None\",\"S3DistributionType\":\"FullyReplicated\",\"TrainingInputMode\":\"File\"},\"train\":{\"ContentType\":\"image/jpeg\",\"RecordWrapperType\":\"None\",\"S3DistributionType\":\"FullyReplicated\",\"TrainingInputMode\":\"File\"},\"validation\":{\"ContentType\":\"image/jpeg\",\"RecordWrapperType\":\"None\",\"S3DistributionType\":\"FullyReplicated\",\"TrainingInputMode\":\"File\"}}\n",
      "SM_OUTPUT_DATA_DIR=/opt/ml/output/data\n",
      "SM_CHANNELS=[\"test\",\"train\",\"validation\"]\n",
      "SM_CURRENT_HOST=algo-1\n",
      "SM_CURRENT_INSTANCE_TYPE=ml.g4dn.xlarge\n",
      "SM_CURRENT_INSTANCE_GROUP=homogeneousCluster\n",
      "SM_CURRENT_INSTANCE_GROUP_HOSTS=[\"algo-1\"]\n",
      "SM_INSTANCE_GROUPS=[\"homogeneousCluster\"]\n",
      "SM_INSTANCE_GROUPS_DICT={\"homogeneousCluster\":{\"hosts\":[\"algo-1\"],\"instance_group_name\":\"homogeneousCluster\",\"instance_type\":\"ml.g4dn.xlarge\"}}\n",
      "SM_DISTRIBUTION_INSTANCE_GROUPS=[]\n",
      "SM_IS_HETERO=false\n",
      "SM_MODULE_NAME=train\n",
      "SM_LOG_LEVEL=20\n",
      "SM_FRAMEWORK_MODULE=sagemaker_pytorch_container.training:main\n",
      "SM_INPUT_DIR=/opt/ml/input\n",
      "SM_INPUT_CONFIG_DIR=/opt/ml/input/config\n",
      "SM_OUTPUT_DIR=/opt/ml/output\n",
      "SM_NUM_CPUS=4\n",
      "SM_NUM_GPUS=1\n",
      "SM_NUM_NEURONS=0\n",
      "SM_MODEL_DIR=/opt/ml/model\n",
      "SM_MODULE_DIR=s3://p3-dog-breed-classification/p3-dog-breeds-debug-20241204-020112/source/sourcedir.tar.gz\n",
      "SM_TRAINING_ENV={\"additional_framework_parameters\":{},\"channel_input_dirs\":{\"test\":\"/opt/ml/input/data/test\",\"train\":\"/opt/ml/input/data/train\",\"validation\":\"/opt/ml/input/data/validation\"},\"current_host\":\"algo-1\",\"current_instance_group\":\"homogeneousCluster\",\"current_instance_group_hosts\":[\"algo-1\"],\"current_instance_type\":\"ml.g4dn.xlarge\",\"distribution_hosts\":[],\"distribution_instance_groups\":[],\"framework_module\":\"sagemaker_pytorch_container.training:main\",\"hosts\":[\"algo-1\"],\"hyperparameters\":{\"batch-size\":32,\"debug\":true,\"epochs\":40,\"model-name\":\"resnet50\",\"opt-learning-rate\":8e-05,\"opt-weight-decay\":0.001},\"input_config_dir\":\"/opt/ml/input/config\",\"input_data_config\":{\"test\":{\"ContentType\":\"image/jpeg\",\"RecordWrapperType\":\"None\",\"S3DistributionType\":\"FullyReplicated\",\"TrainingInputMode\":\"File\"},\"train\":{\"ContentType\":\"image/jpeg\",\"RecordWrapperType\":\"None\",\"S3DistributionType\":\"FullyReplicated\",\"TrainingInputMode\":\"File\"},\"validation\":{\"ContentType\":\"image/jpeg\",\"RecordWrapperType\":\"None\",\"S3DistributionType\":\"FullyReplicated\",\"TrainingInputMode\":\"File\"}},\"input_dir\":\"/opt/ml/input\",\"instance_groups\":[\"homogeneousCluster\"],\"instance_groups_dict\":{\"homogeneousCluster\":{\"hosts\":[\"algo-1\"],\"instance_group_name\":\"homogeneousCluster\",\"instance_type\":\"ml.g4dn.xlarge\"}},\"is_hetero\":false,\"is_master\":true,\"is_modelparallel_enabled\":null,\"is_smddpmprun_installed\":true,\"is_smddprun_installed\":true,\"job_name\":\"p3-dog-breeds-debug-20241204-020112\",\"log_level\":20,\"master_hostname\":\"algo-1\",\"model_dir\":\"/opt/ml/model\",\"module_dir\":\"s3://p3-dog-breed-classification/p3-dog-breeds-debug-20241204-020112/source/sourcedir.tar.gz\",\"module_name\":\"train\",\"network_interface_name\":\"eth0\",\"num_cpus\":4,\"num_gpus\":1,\"num_neurons\":0,\"output_data_dir\":\"/opt/ml/output/data\",\"output_dir\":\"/opt/ml/output\",\"output_intermediate_dir\":\"/opt/ml/output/intermediate\",\"resource_config\":{\"current_group_name\":\"homogeneousCluster\",\"current_host\":\"algo-1\",\"current_instance_type\":\"ml.g4dn.xlarge\",\"hosts\":[\"algo-1\"],\"instance_groups\":[{\"hosts\":[\"algo-1\"],\"instance_group_name\":\"homogeneousCluster\",\"instance_type\":\"ml.g4dn.xlarge\"}],\"network_interface_name\":\"eth0\"},\"user_entry_point\":\"train.py\"}\n",
      "SM_USER_ARGS=[\"--batch-size\",\"32\",\"--debug\",\"True\",\"--epochs\",\"40\",\"--model-name\",\"resnet50\",\"--opt-learning-rate\",\"8e-05\",\"--opt-weight-decay\",\"0.001\"]\n",
      "SM_OUTPUT_INTERMEDIATE_DIR=/opt/ml/output/intermediate\n",
      "SM_CHANNEL_TEST=/opt/ml/input/data/test\n",
      "SM_CHANNEL_TRAIN=/opt/ml/input/data/train\n",
      "SM_CHANNEL_VALIDATION=/opt/ml/input/data/validation\n",
      "SM_HP_BATCH-SIZE=32\n",
      "SM_HP_DEBUG=true\n",
      "SM_HP_EPOCHS=40\n",
      "SM_HP_MODEL-NAME=resnet50\n",
      "SM_HP_OPT-LEARNING-RATE=8e-05\n",
      "SM_HP_OPT-WEIGHT-DECAY=0.001\n",
      "PYTHONPATH=/opt/ml/code:/opt/conda/bin:/opt/conda/lib/python39.zip:/opt/conda/lib/python3.9:/opt/conda/lib/python3.9/lib-dynload:/opt/conda/lib/python3.9/site-packages\n",
      "Invoking script with the following command:\n",
      "/opt/conda/bin/python3.9 train.py --batch-size 32 --debug True --epochs 40 --model-name resnet50 --opt-learning-rate 8e-05 --opt-weight-decay 0.001\n",
      "2024-12-04 08:06:31,404 sagemaker-training-toolkit INFO     Exceptions not imported for SageMaker TF as Tensorflow is not installed.\n",
      "\n",
      "2024-12-04 08:06:39 Training - Training image download completed. Training in progress.[2024-12-04 08:06:33.653 algo-1:64 INFO utils.py:28] RULE_JOB_STOP_SIGNAL_FILENAME: None\n",
      "[2024-12-04 08:06:34.000 algo-1:64 INFO profiler_config_parser.py:111] User has disabled profiler.\n",
      "wandb: Using wandb-core as the SDK backend.  Please refer to https://wandb.me/wandb-core for more information.\n",
      "wandb: Currently logged in as: nov05. Use `wandb login --relogin` to force relogin\n",
      "wandb: Tracking run with wandb version 0.18.7\n",
      "wandb: Run data is saved locally in /opt/ml/code/wandb/run-20241204_080634-p3-dog-breeds-debug-20241204-020112-tvkmnv-algo-1\n",
      "wandb: Run `wandb offline` to turn off syncing.\n",
      "wandb: Syncing run p3-dog-breeds-debug-20241204-020112-tvkmnv-algo-1\n",
      "wandb: ⭐️ View project at https://wandb.ai/nov05/udacity-awsmle-resnet50-dog-breeds\n",
      "wandb: 🚀 View run at https://wandb.ai/nov05/udacity-awsmle-resnet50-dog-breeds/runs/p3-dog-breeds-debug-20241204-020112-tvkmnv-algo-1\n",
      "👉 Device: cuda\n",
      "/opt/conda/lib/python3.9/site-packages/torchvision/models/_utils.py:208: UserWarning: The parameter 'pretrained' is deprecated since 0.13 and may be removed in the future, please use 'weights' instead.\n",
      "  warnings.warn(\n",
      "/opt/conda/lib/python3.9/site-packages/torchvision/models/_utils.py:223: UserWarning: Arguments other than a weight enum or `None` for 'weights' are deprecated since 0.13 and may be removed in the future. The current behavior is equivalent to passing `weights=ResNet50_Weights.IMAGENET1K_V1`. You can also use `weights=ResNet50_Weights.DEFAULT` to get the most up-to-date weights.\n",
      "  warnings.warn(msg)\n",
      "Downloading: \"https://download.pytorch.org/models/resnet50-0676ba61.pth\" to /root/.cache/torch/hub/checkpoints/resnet50-0676ba61.pth\n",
      "0%|          | 0.00/97.8M [00:00<?, ?B/s]\n",
      "41%|████      | 40.0M/97.8M [00:00<00:00, 419MB/s]\n",
      "82%|████████▏ | 79.9M/97.8M [00:00<00:00, 372MB/s]\n",
      "100%|██████████| 97.8M/97.8M [00:00<00:00, 383MB/s]\n",
      "[2024-12-04 08:06:36.911 algo-1:64 INFO json_config.py:92] Creating hook from json_config at /opt/ml/input/config/debughookconfig.json.\n",
      "[2024-12-04 08:06:36.911 algo-1:64 INFO hook.py:206] tensorboard_dir has not been set for the hook. SMDebug will not be exporting tensorboard summaries.\n",
      "[2024-12-04 08:06:36.912 algo-1:64 INFO hook.py:259] Saving to /opt/ml/output/tensors\n",
      "[2024-12-04 08:06:36.912 algo-1:64 INFO state_store.py:77] The checkpoint config file /opt/ml/input/config/checkpointconfig.json does not exist.\n",
      "[2024-12-04 08:06:36.926 algo-1:64 INFO hook.py:561] name:conv1.weight count_params:9408\n",
      "[2024-12-04 08:06:36.926 algo-1:64 INFO hook.py:561] name:bn1.weight count_params:64\n",
      "[2024-12-04 08:06:36.926 algo-1:64 INFO hook.py:561] name:bn1.bias count_params:64\n",
      "[2024-12-04 08:06:36.927 algo-1:64 INFO hook.py:561] name:layer1.0.conv1.weight count_params:4096\n",
      "[2024-12-04 08:06:36.927 algo-1:64 INFO hook.py:561] name:layer1.0.bn1.weight count_params:64\n",
      "[2024-12-04 08:06:36.927 algo-1:64 INFO hook.py:561] name:layer1.0.bn1.bias count_params:64\n",
      "[2024-12-04 08:06:36.927 algo-1:64 INFO hook.py:561] name:layer1.0.conv2.weight count_params:36864\n",
      "[2024-12-04 08:06:36.927 algo-1:64 INFO hook.py:561] name:layer1.0.bn2.weight count_params:64\n",
      "[2024-12-04 08:06:36.927 algo-1:64 INFO hook.py:561] name:layer1.0.bn2.bias count_params:64\n",
      "[2024-12-04 08:06:36.928 algo-1:64 INFO hook.py:561] name:layer1.0.conv3.weight count_params:16384\n",
      "[2024-12-04 08:06:36.928 algo-1:64 INFO hook.py:561] name:layer1.0.bn3.weight count_params:256\n",
      "[2024-12-04 08:06:36.928 algo-1:64 INFO hook.py:561] name:layer1.0.bn3.bias count_params:256\n",
      "[2024-12-04 08:06:36.928 algo-1:64 INFO hook.py:561] name:layer1.0.downsample.0.weight count_params:16384\n",
      "[2024-12-04 08:06:36.928 algo-1:64 INFO hook.py:561] name:layer1.0.downsample.1.weight count_params:256\n",
      "[2024-12-04 08:06:36.928 algo-1:64 INFO hook.py:561] name:layer1.0.downsample.1.bias count_params:256\n",
      "[2024-12-04 08:06:36.928 algo-1:64 INFO hook.py:561] name:layer1.1.conv1.weight count_params:16384\n",
      "[2024-12-04 08:06:36.929 algo-1:64 INFO hook.py:561] name:layer1.1.bn1.weight count_params:64\n",
      "[2024-12-04 08:06:36.929 algo-1:64 INFO hook.py:561] name:layer1.1.bn1.bias count_params:64\n",
      "[2024-12-04 08:06:36.929 algo-1:64 INFO hook.py:561] name:layer1.1.conv2.weight count_params:36864\n",
      "[2024-12-04 08:06:36.929 algo-1:64 INFO hook.py:561] name:layer1.1.bn2.weight count_params:64\n",
      "[2024-12-04 08:06:36.929 algo-1:64 INFO hook.py:561] name:layer1.1.bn2.bias count_params:64\n",
      "[2024-12-04 08:06:36.929 algo-1:64 INFO hook.py:561] name:layer1.1.conv3.weight count_params:16384\n",
      "[2024-12-04 08:06:36.930 algo-1:64 INFO hook.py:561] name:layer1.1.bn3.weight count_params:256\n",
      "[2024-12-04 08:06:36.930 algo-1:64 INFO hook.py:561] name:layer1.1.bn3.bias count_params:256\n",
      "[2024-12-04 08:06:36.930 algo-1:64 INFO hook.py:561] name:layer1.2.conv1.weight count_params:16384\n",
      "[2024-12-04 08:06:36.930 algo-1:64 INFO hook.py:561] name:layer1.2.bn1.weight count_params:64\n",
      "[2024-12-04 08:06:36.930 algo-1:64 INFO hook.py:561] name:layer1.2.bn1.bias count_params:64\n",
      "[2024-12-04 08:06:36.930 algo-1:64 INFO hook.py:561] name:layer1.2.conv2.weight count_params:36864\n",
      "[2024-12-04 08:06:36.931 algo-1:64 INFO hook.py:561] name:layer1.2.bn2.weight count_params:64\n",
      "[2024-12-04 08:06:36.931 algo-1:64 INFO hook.py:561] name:layer1.2.bn2.bias count_params:64\n",
      "[2024-12-04 08:06:36.931 algo-1:64 INFO hook.py:561] name:layer1.2.conv3.weight count_params:16384\n",
      "[2024-12-04 08:06:36.931 algo-1:64 INFO hook.py:561] name:layer1.2.bn3.weight count_params:256\n",
      "[2024-12-04 08:06:36.931 algo-1:64 INFO hook.py:561] name:layer1.2.bn3.bias count_params:256\n",
      "[2024-12-04 08:06:36.931 algo-1:64 INFO hook.py:561] name:layer2.0.conv1.weight count_params:32768\n",
      "[2024-12-04 08:06:36.931 algo-1:64 INFO hook.py:561] name:layer2.0.bn1.weight count_params:128\n",
      "[2024-12-04 08:06:36.932 algo-1:64 INFO hook.py:561] name:layer2.0.bn1.bias count_params:128\n",
      "[2024-12-04 08:06:36.932 algo-1:64 INFO hook.py:561] name:layer2.0.conv2.weight count_params:147456\n",
      "[2024-12-04 08:06:36.932 algo-1:64 INFO hook.py:561] name:layer2.0.bn2.weight count_params:128\n",
      "[2024-12-04 08:06:36.932 algo-1:64 INFO hook.py:561] name:layer2.0.bn2.bias count_params:128\n",
      "[2024-12-04 08:06:36.932 algo-1:64 INFO hook.py:561] name:layer2.0.conv3.weight count_params:65536\n",
      "[2024-12-04 08:06:36.932 algo-1:64 INFO hook.py:561] name:layer2.0.bn3.weight count_params:512\n",
      "[2024-12-04 08:06:36.933 algo-1:64 INFO hook.py:561] name:layer2.0.bn3.bias count_params:512\n",
      "[2024-12-04 08:06:36.933 algo-1:64 INFO hook.py:561] name:layer2.0.downsample.0.weight count_params:131072\n",
      "[2024-12-04 08:06:36.933 algo-1:64 INFO hook.py:561] name:layer2.0.downsample.1.weight count_params:512\n",
      "[2024-12-04 08:06:36.933 algo-1:64 INFO hook.py:561] name:layer2.0.downsample.1.bias count_params:512\n",
      "[2024-12-04 08:06:36.933 algo-1:64 INFO hook.py:561] name:layer2.1.conv1.weight count_params:65536\n",
      "[2024-12-04 08:06:36.933 algo-1:64 INFO hook.py:561] name:layer2.1.bn1.weight count_params:128\n",
      "[2024-12-04 08:06:36.933 algo-1:64 INFO hook.py:561] name:layer2.1.bn1.bias count_params:128\n",
      "[2024-12-04 08:06:36.934 algo-1:64 INFO hook.py:561] name:layer2.1.conv2.weight count_params:147456\n",
      "[2024-12-04 08:06:36.934 algo-1:64 INFO hook.py:561] name:layer2.1.bn2.weight count_params:128\n",
      "[2024-12-04 08:06:36.934 algo-1:64 INFO hook.py:561] name:layer2.1.bn2.bias count_params:128\n",
      "[2024-12-04 08:06:36.934 algo-1:64 INFO hook.py:561] name:layer2.1.conv3.weight count_params:65536\n",
      "[2024-12-04 08:06:36.934 algo-1:64 INFO hook.py:561] name:layer2.1.bn3.weight count_params:512\n",
      "[2024-12-04 08:06:36.934 algo-1:64 INFO hook.py:561] name:layer2.1.bn3.bias count_params:512\n",
      "[2024-12-04 08:06:36.935 algo-1:64 INFO hook.py:561] name:layer2.2.conv1.weight count_params:65536\n",
      "[2024-12-04 08:06:36.935 algo-1:64 INFO hook.py:561] name:layer2.2.bn1.weight count_params:128\n",
      "[2024-12-04 08:06:36.935 algo-1:64 INFO hook.py:561] name:layer2.2.bn1.bias count_params:128\n",
      "[2024-12-04 08:06:36.935 algo-1:64 INFO hook.py:561] name:layer2.2.conv2.weight count_params:147456\n",
      "[2024-12-04 08:06:36.935 algo-1:64 INFO hook.py:561] name:layer2.2.bn2.weight count_params:128\n",
      "[2024-12-04 08:06:36.935 algo-1:64 INFO hook.py:561] name:layer2.2.bn2.bias count_params:128\n",
      "[2024-12-04 08:06:36.936 algo-1:64 INFO hook.py:561] name:layer2.2.conv3.weight count_params:65536\n",
      "[2024-12-04 08:06:36.936 algo-1:64 INFO hook.py:561] name:layer2.2.bn3.weight count_params:512\n",
      "[2024-12-04 08:06:36.936 algo-1:64 INFO hook.py:561] name:layer2.2.bn3.bias count_params:512\n",
      "[2024-12-04 08:06:36.936 algo-1:64 INFO hook.py:561] name:layer2.3.conv1.weight count_params:65536\n",
      "[2024-12-04 08:06:36.936 algo-1:64 INFO hook.py:561] name:layer2.3.bn1.weight count_params:128\n",
      "[2024-12-04 08:06:36.936 algo-1:64 INFO hook.py:561] name:layer2.3.bn1.bias count_params:128\n",
      "[2024-12-04 08:06:36.937 algo-1:64 INFO hook.py:561] name:layer2.3.conv2.weight count_params:147456\n",
      "[2024-12-04 08:06:36.937 algo-1:64 INFO hook.py:561] name:layer2.3.bn2.weight count_params:128\n",
      "[2024-12-04 08:06:36.937 algo-1:64 INFO hook.py:561] name:layer2.3.bn2.bias count_params:128\n",
      "[2024-12-04 08:06:36.937 algo-1:64 INFO hook.py:561] name:layer2.3.conv3.weight count_params:65536\n",
      "[2024-12-04 08:06:36.937 algo-1:64 INFO hook.py:561] name:layer2.3.bn3.weight count_params:512\n",
      "[2024-12-04 08:06:36.937 algo-1:64 INFO hook.py:561] name:layer2.3.bn3.bias count_params:512\n",
      "[2024-12-04 08:06:36.938 algo-1:64 INFO hook.py:561] name:layer3.0.conv1.weight count_params:131072\n",
      "[2024-12-04 08:06:36.938 algo-1:64 INFO hook.py:561] name:layer3.0.bn1.weight count_params:256\n",
      "[2024-12-04 08:06:36.938 algo-1:64 INFO hook.py:561] name:layer3.0.bn1.bias count_params:256\n",
      "[2024-12-04 08:06:36.938 algo-1:64 INFO hook.py:561] name:layer3.0.conv2.weight count_params:589824\n",
      "[2024-12-04 08:06:36.938 algo-1:64 INFO hook.py:561] name:layer3.0.bn2.weight count_params:256\n",
      "[2024-12-04 08:06:36.939 algo-1:64 INFO hook.py:561] name:layer3.0.bn2.bias count_params:256\n",
      "[2024-12-04 08:06:36.939 algo-1:64 INFO hook.py:561] name:layer3.0.conv3.weight count_params:262144\n",
      "[2024-12-04 08:06:36.939 algo-1:64 INFO hook.py:561] name:layer3.0.bn3.weight count_params:1024\n",
      "[2024-12-04 08:06:36.939 algo-1:64 INFO hook.py:561] name:layer3.0.bn3.bias count_params:1024\n",
      "[2024-12-04 08:06:36.939 algo-1:64 INFO hook.py:561] name:layer3.0.downsample.0.weight count_params:524288\n",
      "[2024-12-04 08:06:36.939 algo-1:64 INFO hook.py:561] name:layer3.0.downsample.1.weight count_params:1024\n",
      "[2024-12-04 08:06:36.940 algo-1:64 INFO hook.py:561] name:layer3.0.downsample.1.bias count_params:1024\n",
      "[2024-12-04 08:06:36.940 algo-1:64 INFO hook.py:561] name:layer3.1.conv1.weight count_params:262144\n",
      "[2024-12-04 08:06:36.940 algo-1:64 INFO hook.py:561] name:layer3.1.bn1.weight count_params:256\n",
      "[2024-12-04 08:06:36.940 algo-1:64 INFO hook.py:561] name:layer3.1.bn1.bias count_params:256\n",
      "[2024-12-04 08:06:36.940 algo-1:64 INFO hook.py:561] name:layer3.1.conv2.weight count_params:589824\n",
      "[2024-12-04 08:06:36.941 algo-1:64 INFO hook.py:561] name:layer3.1.bn2.weight count_params:256\n",
      "[2024-12-04 08:06:36.941 algo-1:64 INFO hook.py:561] name:layer3.1.bn2.bias count_params:256\n",
      "[2024-12-04 08:06:36.941 algo-1:64 INFO hook.py:561] name:layer3.1.conv3.weight count_params:262144\n",
      "[2024-12-04 08:06:36.941 algo-1:64 INFO hook.py:561] name:layer3.1.bn3.weight count_params:1024\n",
      "[2024-12-04 08:06:36.941 algo-1:64 INFO hook.py:561] name:layer3.1.bn3.bias count_params:1024\n",
      "[2024-12-04 08:06:36.941 algo-1:64 INFO hook.py:561] name:layer3.2.conv1.weight count_params:262144\n",
      "[2024-12-04 08:06:36.942 algo-1:64 INFO hook.py:561] name:layer3.2.bn1.weight count_params:256\n",
      "[2024-12-04 08:06:36.942 algo-1:64 INFO hook.py:561] name:layer3.2.bn1.bias count_params:256\n",
      "[2024-12-04 08:06:36.942 algo-1:64 INFO hook.py:561] name:layer3.2.conv2.weight count_params:589824\n",
      "[2024-12-04 08:06:36.942 algo-1:64 INFO hook.py:561] name:layer3.2.bn2.weight count_params:256\n",
      "[2024-12-04 08:06:36.942 algo-1:64 INFO hook.py:561] name:layer3.2.bn2.bias count_params:256\n",
      "[2024-12-04 08:06:36.942 algo-1:64 INFO hook.py:561] name:layer3.2.conv3.weight count_params:262144\n",
      "[2024-12-04 08:06:36.943 algo-1:64 INFO hook.py:561] name:layer3.2.bn3.weight count_params:1024\n",
      "[2024-12-04 08:06:36.943 algo-1:64 INFO hook.py:561] name:layer3.2.bn3.bias count_params:1024\n",
      "[2024-12-04 08:06:36.943 algo-1:64 INFO hook.py:561] name:layer3.3.conv1.weight count_params:262144\n",
      "[2024-12-04 08:06:36.943 algo-1:64 INFO hook.py:561] name:layer3.3.bn1.weight count_params:256\n",
      "[2024-12-04 08:06:36.943 algo-1:64 INFO hook.py:561] name:layer3.3.bn1.bias count_params:256\n",
      "[2024-12-04 08:06:36.943 algo-1:64 INFO hook.py:561] name:layer3.3.conv2.weight count_params:589824\n",
      "[2024-12-04 08:06:36.944 algo-1:64 INFO hook.py:561] name:layer3.3.bn2.weight count_params:256\n",
      "[2024-12-04 08:06:36.944 algo-1:64 INFO hook.py:561] name:layer3.3.bn2.bias count_params:256\n",
      "[2024-12-04 08:06:36.944 algo-1:64 INFO hook.py:561] name:layer3.3.conv3.weight count_params:262144\n",
      "[2024-12-04 08:06:36.944 algo-1:64 INFO hook.py:561] name:layer3.3.bn3.weight count_params:1024\n",
      "[2024-12-04 08:06:36.944 algo-1:64 INFO hook.py:561] name:layer3.3.bn3.bias count_params:1024\n",
      "[2024-12-04 08:06:36.945 algo-1:64 INFO hook.py:561] name:layer3.4.conv1.weight count_params:262144\n",
      "[2024-12-04 08:06:36.945 algo-1:64 INFO hook.py:561] name:layer3.4.bn1.weight count_params:256\n",
      "[2024-12-04 08:06:36.945 algo-1:64 INFO hook.py:561] name:layer3.4.bn1.bias count_params:256\n",
      "[2024-12-04 08:06:36.945 algo-1:64 INFO hook.py:561] name:layer3.4.conv2.weight count_params:589824\n",
      "[2024-12-04 08:06:36.945 algo-1:64 INFO hook.py:561] name:layer3.4.bn2.weight count_params:256\n",
      "[2024-12-04 08:06:36.945 algo-1:64 INFO hook.py:561] name:layer3.4.bn2.bias count_params:256\n",
      "[2024-12-04 08:06:36.946 algo-1:64 INFO hook.py:561] name:layer3.4.conv3.weight count_params:262144\n",
      "[2024-12-04 08:06:36.946 algo-1:64 INFO hook.py:561] name:layer3.4.bn3.weight count_params:1024\n",
      "[2024-12-04 08:06:36.946 algo-1:64 INFO hook.py:561] name:layer3.4.bn3.bias count_params:1024\n",
      "[2024-12-04 08:06:36.946 algo-1:64 INFO hook.py:561] name:layer3.5.conv1.weight count_params:262144\n",
      "[2024-12-04 08:06:36.946 algo-1:64 INFO hook.py:561] name:layer3.5.bn1.weight count_params:256\n",
      "[2024-12-04 08:06:36.947 algo-1:64 INFO hook.py:561] name:layer3.5.bn1.bias count_params:256\n",
      "[2024-12-04 08:06:36.947 algo-1:64 INFO hook.py:561] name:layer3.5.conv2.weight count_params:589824\n",
      "[2024-12-04 08:06:36.947 algo-1:64 INFO hook.py:561] name:layer3.5.bn2.weight count_params:256\n",
      "[2024-12-04 08:06:36.947 algo-1:64 INFO hook.py:561] name:layer3.5.bn2.bias count_params:256\n",
      "[2024-12-04 08:06:36.947 algo-1:64 INFO hook.py:561] name:layer3.5.conv3.weight count_params:262144\n",
      "[2024-12-04 08:06:36.947 algo-1:64 INFO hook.py:561] name:layer3.5.bn3.weight count_params:1024\n",
      "[2024-12-04 08:06:36.948 algo-1:64 INFO hook.py:561] name:layer3.5.bn3.bias count_params:1024\n",
      "[2024-12-04 08:06:36.948 algo-1:64 INFO hook.py:561] name:layer4.0.conv1.weight count_params:524288\n",
      "[2024-12-04 08:06:36.948 algo-1:64 INFO hook.py:561] name:layer4.0.bn1.weight count_params:512\n",
      "[2024-12-04 08:06:36.948 algo-1:64 INFO hook.py:561] name:layer4.0.bn1.bias count_params:512\n",
      "[2024-12-04 08:06:36.948 algo-1:64 INFO hook.py:561] name:layer4.0.conv2.weight count_params:2359296\n",
      "[2024-12-04 08:06:36.948 algo-1:64 INFO hook.py:561] name:layer4.0.bn2.weight count_params:512\n",
      "[2024-12-04 08:06:36.949 algo-1:64 INFO hook.py:561] name:layer4.0.bn2.bias count_params:512\n",
      "[2024-12-04 08:06:36.949 algo-1:64 INFO hook.py:561] name:layer4.0.conv3.weight count_params:1048576\n",
      "[2024-12-04 08:06:36.949 algo-1:64 INFO hook.py:561] name:layer4.0.bn3.weight count_params:2048\n",
      "[2024-12-04 08:06:36.949 algo-1:64 INFO hook.py:561] name:layer4.0.bn3.bias count_params:2048\n",
      "[2024-12-04 08:06:36.949 algo-1:64 INFO hook.py:561] name:layer4.0.downsample.0.weight count_params:2097152\n",
      "[2024-12-04 08:06:36.950 algo-1:64 INFO hook.py:561] name:layer4.0.downsample.1.weight count_params:2048\n",
      "[2024-12-04 08:06:36.950 algo-1:64 INFO hook.py:561] name:layer4.0.downsample.1.bias count_params:2048\n",
      "[2024-12-04 08:06:36.950 algo-1:64 INFO hook.py:561] name:layer4.1.conv1.weight count_params:1048576\n",
      "[2024-12-04 08:06:36.950 algo-1:64 INFO hook.py:561] name:layer4.1.bn1.weight count_params:512\n",
      "[2024-12-04 08:06:36.950 algo-1:64 INFO hook.py:561] name:layer4.1.bn1.bias count_params:512\n",
      "[2024-12-04 08:06:36.950 algo-1:64 INFO hook.py:561] name:layer4.1.conv2.weight count_params:2359296\n",
      "[2024-12-04 08:06:36.951 algo-1:64 INFO hook.py:561] name:layer4.1.bn2.weight count_params:512\n",
      "[2024-12-04 08:06:36.951 algo-1:64 INFO hook.py:561] name:layer4.1.bn2.bias count_params:512\n",
      "[2024-12-04 08:06:36.951 algo-1:64 INFO hook.py:561] name:layer4.1.conv3.weight count_params:1048576\n",
      "[2024-12-04 08:06:36.951 algo-1:64 INFO hook.py:561] name:layer4.1.bn3.weight count_params:2048\n",
      "[2024-12-04 08:06:36.951 algo-1:64 INFO hook.py:561] name:layer4.1.bn3.bias count_params:2048\n",
      "[2024-12-04 08:06:36.952 algo-1:64 INFO hook.py:561] name:layer4.2.conv1.weight count_params:1048576\n",
      "[2024-12-04 08:06:36.952 algo-1:64 INFO hook.py:561] name:layer4.2.bn1.weight count_params:512\n",
      "[2024-12-04 08:06:36.952 algo-1:64 INFO hook.py:561] name:layer4.2.bn1.bias count_params:512\n",
      "[2024-12-04 08:06:36.952 algo-1:64 INFO hook.py:561] name:layer4.2.conv2.weight count_params:2359296\n",
      "[2024-12-04 08:06:36.952 algo-1:64 INFO hook.py:561] name:layer4.2.bn2.weight count_params:512\n",
      "[2024-12-04 08:06:36.952 algo-1:64 INFO hook.py:561] name:layer4.2.bn2.bias count_params:512\n",
      "[2024-12-04 08:06:36.953 algo-1:64 INFO hook.py:561] name:layer4.2.conv3.weight count_params:1048576\n",
      "[2024-12-04 08:06:36.953 algo-1:64 INFO hook.py:561] name:layer4.2.bn3.weight count_params:2048\n",
      "[2024-12-04 08:06:36.953 algo-1:64 INFO hook.py:561] name:layer4.2.bn3.bias count_params:2048\n",
      "[2024-12-04 08:06:36.953 algo-1:64 INFO hook.py:561] name:fc.weight count_params:272384\n",
      "[2024-12-04 08:06:36.953 algo-1:64 INFO hook.py:561] name:fc.bias count_params:133\n",
      "[2024-12-04 08:06:36.953 algo-1:64 INFO hook.py:563] Total Trainable Params: 23780549\n",
      "👉 Train Epoch: 0\n",
      "[2024-12-04 08:06:37.451 algo-1:64 INFO hook.py:427] Monitoring the collections: gradients, relu_input, losses\n",
      "[2024-12-04 08:06:37.454 algo-1:64 INFO hook.py:491] Hook is writing from the hook with pid: 64\n",
      "Train Epoch: 0 [0/6680 (0%)], Loss: 5.031728\n",
      "Train Epoch: 0 [3200/6680 (48%)], Loss: 2.948658\n",
      "Train Epoch: 0 [6400/6680 (96%)], Loss: 1.955592\n",
      "👉 EVAL: Average loss: 1.6828, Accuracy: 525.0/835 (62.87%)\n",
      "👉 Train Epoch: 1\n",
      "Train Epoch: 1 [0/6680 (0%)], Loss: 1.967312\n",
      "VanishingGradient: InProgress\n",
      "Overfit: InProgress\n",
      "Overtraining: InProgress\n",
      "PoorWeightInitialization: IssuesFound\n",
      "\n",
      "2024-12-04 08:10:08 Stopping - Stopping the training job\n",
      "2024-12-04 08:10:08 Uploading - Uploading generated training model\n",
      "2024-12-04 08:10:08 Stopped - Training job stopped\n",
      "VanishingGradient: Stopping\n",
      "Overfit: Stopping\n",
      "Overtraining: Stopping\n",
      "PoorWeightInitialization: IssuesFound\n"
     ]
    },
    {
     "data": {
      "text/html": [
       "<pre style=\"white-space:pre;overflow-x:auto;line-height:normal;font-family:Menlo,'DejaVu Sans Mono',consolas,'Courier New',monospace\"><span style=\"color: #7fbfbf; text-decoration-color: #7fbfbf\">[12/04/24 02:10:21] </span><span style=\"color: #d7af00; text-decoration-color: #d7af00; font-weight: bold\">WARNING </span> Job ended with status <span style=\"color: #008700; text-decoration-color: #008700\">'Stopped'</span> rather than <span style=\"color: #008700; text-decoration-color: #008700\">'Completed'</span>. This could    <a href=\"file://d:\\Users\\guido\\miniconda3\\envs\\awsmle_py310\\lib\\site-packages\\sagemaker\\session.py\" target=\"_blank\"><span style=\"color: #7f7f7f; text-decoration-color: #7f7f7f\">session.py</span></a><span style=\"color: #7f7f7f; text-decoration-color: #7f7f7f\">:</span><a href=\"file://d:\\Users\\guido\\miniconda3\\envs\\awsmle_py310\\lib\\site-packages\\sagemaker\\session.py#8593\" target=\"_blank\"><span style=\"color: #7f7f7f; text-decoration-color: #7f7f7f\">8593</span></a>\n",
       "<span style=\"color: #7fbfbf; text-decoration-color: #7fbfbf\">                    </span>         mean the job timed out or stopped early for some other reason:         <span style=\"color: #7f7f7f; text-decoration-color: #7f7f7f\">               </span>\n",
       "<span style=\"color: #7fbfbf; text-decoration-color: #7fbfbf\">                    </span>         Consider checking whether it completed as you expect.                  <span style=\"color: #7f7f7f; text-decoration-color: #7f7f7f\">               </span>\n",
       "</pre>\n"
      ],
      "text/plain": [
       "\u001b[2;36m[12/04/24 02:10:21]\u001b[0m\u001b[2;36m \u001b[0m\u001b[1;38;2;215;175;0mWARNING \u001b[0m Job ended with status \u001b[38;2;0;135;0m'Stopped'\u001b[0m rather than \u001b[38;2;0;135;0m'Completed'\u001b[0m. This could    \u001b]8;id=539195;file://d:\\Users\\guido\\miniconda3\\envs\\awsmle_py310\\lib\\site-packages\\sagemaker\\session.py\u001b\\\u001b[2msession.py\u001b[0m\u001b]8;;\u001b\\\u001b[2m:\u001b[0m\u001b]8;id=199573;file://d:\\Users\\guido\\miniconda3\\envs\\awsmle_py310\\lib\\site-packages\\sagemaker\\session.py#8593\u001b\\\u001b[2m8593\u001b[0m\u001b]8;;\u001b\\\n",
       "\u001b[2;36m                    \u001b[0m         mean the job timed out or stopped early for some other reason:         \u001b[2m               \u001b[0m\n",
       "\u001b[2;36m                    \u001b[0m         Consider checking whether it completed as you expect.                  \u001b[2m               \u001b[0m\n"
      ]
     },
     "metadata": {},
     "output_type": "display_data"
    },
    {
     "name": "stdout",
     "output_type": "stream",
     "text": [
      "Training seconds: 462\n",
      "Billable seconds: 462\n",
      "CPU times: total: 11.2 s\n",
      "Wall time: 9min 9s\n"
     ]
    }
   ],
   "source": [
    "%%time\n",
    "estimator.fit(\n",
    "    wait=True,  \n",
    "    job_name=f\"p3-dog-breeds-debug-{datetime.now().strftime('%Y%m%d-%H%M%S')}\",  \n",
    "    inputs={\n",
    "        \"train\": train_data, \n",
    "        \"validation\": val_data, \n",
    "        \"test\": test_data,\n",
    "    },  \n",
    ")\n",
    "## e.g. p3-dog-breeds-debug-20241204-020112 "
   ]
  },
  {
   "cell_type": "code",
   "execution_count": 11,
   "metadata": {},
   "outputs": [
    {
     "name": "stdout",
     "output_type": "stream",
     "text": [
      "👉 s3://p3-dog-breed-classification/jobs/p3-dog-breeds-debug-20241204-020112/debug-output\n"
     ]
    }
   ],
   "source": [
    "# TODO: Plot a debugging output.\n",
    "debug_output_path = estimator.latest_job_debugger_artifacts_path()\n",
    "debug_output_path = debug_output_path.replace(\"\\\\\", \"/\")  ## windows path\n",
    "print(\"👉\", debug_output_path)"
   ]
  },
  {
   "cell_type": "markdown",
   "metadata": {},
   "source": [
    "**TODO**: Is there some anomalous behaviour in your debugging output? If so, what is the error and how will you fix it?  \n",
    "**TODO**: If not, suppose there was an error. What would that error look like and how would you have fixed it?"
   ]
  },
  {
   "cell_type": "markdown",
   "metadata": {},
   "source": [
    "* ⚠️ Error message: `PoorWeightInitialization: IssuesFound`  \n",
    "    ```text\n",
    "    [12/04/24 02:10:21] WARNING  Job ended with status 'Stopped' rather than 'Completed'. This could    session.py:8593\n",
    "                                 mean the job timed out or stopped early for some other reason:                        \n",
    "                                 Consider checking whether it completed as you expect.   \n",
    "    ```\n",
    "* 🟢 Solution: Initiate the fc layer\n",
    "    ```python\n",
    "    torch.nn.init.kaiming_normal_(model.fc.weight)  # Initialize new layers\n",
    "    ```"
   ]
  },
  {
   "cell_type": "code",
   "execution_count": 12,
   "metadata": {},
   "outputs": [
    {
     "name": "stdout",
     "output_type": "stream",
     "text": [
      "👉  rule_output/ProfilerReport/profiler-output/profiler-report.html\n"
     ]
    }
   ],
   "source": [
    "# TODO: Display the profiler output\n",
    "import os\n",
    "# get the autogenerated folder name of profiler report\n",
    "profiler_report_folder = [\n",
    "    rule[\"RuleConfigurationName\"]\n",
    "    for rule in estimator.latest_training_job.rule_job_summary()\n",
    "    if \"Profiler\" in rule[\"RuleConfigurationName\"]\n",
    "][0]\n",
    "filename = \"rule_output/\" + profiler_report_folder + \"/profiler-output/profiler-report.html\"\n",
    "print(\"👉 \", filename)"
   ]
  },
  {
   "cell_type": "markdown",
   "metadata": {},
   "source": [
    "## Model Deploying"
   ]
  },
  {
   "cell_type": "code",
   "execution_count": null,
   "metadata": {},
   "outputs": [],
   "source": [
    "# TODO: Deploy your model to an endpoint\n",
    "## instanticate an estimator from the hpo job name\n",
    "from sagemaker.pytorch import PyTorch\n",
    "from sagemaker.predictor import Predictor\n",
    "from sagemaker.serializers import IdentitySerializer\n",
    "from sagemaker.deserializers import JSONDeserializer\n",
    "training_job_name = \"p3-dog-breeds-hpo-241203-0321\"\n",
    "estimator = PyTorch.attach(training_job_name)\n",
    "predictor=estimator.deploy(\n",
    "    initial_instance_count=1,\n",
    "    instance_type='ml.g4dn.xlarge', #\"ml.m5.large\",\n",
    "    endpoint_name=\"p3-dog-breed-classification\"\n",
    "    entry_point=\"inference.py\",  # Reference to your inference.py\n",
    "    source_dir=\"scripts\"         # Directory containing inference.py\n",
    ") # TODO: Add your deployment configuration like instance type and number of instances\n",
    "predictor.serializer = IdentitySerializer(\"image/jpeg\")\n",
    "predictor.deserializer = JSONDeserializer()  "
   ]
  },
  {
   "cell_type": "code",
   "execution_count": null,
   "metadata": {},
   "outputs": [],
   "source": [
    "%%time\n",
    "# TODO: Run an prediction on the endpoint\n",
    "# TODO: Your code to load and preprocess image to send to endpoint for prediction\n",
    "image_path = \"data\\dogs\\Greyhound_05496.jpg\"\n",
    "with open(image_path, \"rb\") as f:\n",
    "    image_data = f.read()\n",
    "response = predictor.predict(image_data)"
   ]
  },
  {
   "cell_type": "code",
   "execution_count": null,
   "metadata": {},
   "outputs": [],
   "source": [
    "## randomly get a dog image from the test folder\n",
    "import boto3\n",
    "import random\n",
    "s3_client = boto3.client('s3')\n",
    "bucket = 'p3-dog-breed-image-classification'\n",
    "prefix = 'dogImages/test/'\n",
    "response = s3_client.list_objects_v2(Bucket=bucket, Prefix=prefix)\n",
    "# Check if there are objects in the folder\n",
    "if 'Contents' in response:\n",
    "    # Extract object keys (file names)\n",
    "    object_keys = [obj['Key'] for obj in response['Contents']]\n",
    "    # Select a random object\n",
    "    random_object = random.choice(object_keys)\n",
    "    # Print the random object key\n",
    "    print(f\"Random object: '{random_object}'\")\n",
    "    # Download the random object (optional)\n",
    "    local_object = \"data\\dogs\\\\\"+random_object.split('/')[-1]\n",
    "    s3_client.download_file(bucket, random_object, local_object)\n",
    "    print(f\"Downloaded as: '{local_object}'\")\n",
    "else:\n",
    "    print(\"⚠️ No objects found in the specified folder.\")\n",
    "\n",
    "## predict\n",
    "with open(local_object, \"rb\") as f:\n",
    "    image_data = f.read()\n",
    "response = predictor.predict(image_data)\n",
    "\n",
    "## display image\n",
    "import matplotlib.pyplot as plt\n",
    "from matplotlib.image import imread\n",
    "img = imread(local_object)\n",
    "print(img.shape)\n",
    "plt.imshow(img)\n",
    "plt.axis('off')  # Hide axis\n",
    "plt.show()\n",
    "\n",
    "## delete image\n",
    "import os\n",
    "if os.path.exists(local_object):\n",
    "    os.remove(local_object)\n",
    "    print(f\"File '{local_object}' deleted successfully.\")"
   ]
  },
  {
   "cell_type": "code",
   "execution_count": null,
   "metadata": {},
   "outputs": [],
   "source": [
    "# TODO: Remember to shutdown/delete your endpoint once your work is done\n",
    "predictor.delete_endpoint()"
   ]
  },
  {
   "cell_type": "markdown",
   "metadata": {},
   "source": [
    "---  \n",
    "\n",
    "**P.S.**  \n",
    "\n",
    "* 🟢⚠️ Issue solved:     \n",
    "\n",
    "  > ResourceLimitExceeded: An error occurred (ResourceLimitExceeded) when calling the CreateHyperParameterTuningJob \n",
    "  operation: The account-level service limit 'ml.g4dn.xlarge for training job usage' is 2 Instances, with current \n",
    "  utilization of 0 Instances and a request delta of 10 Instances. Please use AWS Service Quotas to request an \n",
    "  increase for this quota. If AWS Service Quotas is not available, contact AWS support to request an increase for \n",
    "  this quota.\n",
    "\n",
    "  * You can still create an HPO job with as many `max_jobs` as you want. However, the number of concurrent jobs is limited to 2 (`max_parallel_jobs=2`). For example, if your `max_jobs` is set to 20, only 2 training jobs will run at a time. If each training job takes about an hour, the entire HPO job will take at least 10 hours to complete.\n",
    "\n",
    "  * Go to `Service Quotas > AWS services > Amazon SageMaker`, search for `ml.g4dn.xlarg`.  \n",
    "\n",
    "    <img src=\"https://raw.githubusercontent.com/nov05/pictures/refs/heads/master/Udacity/20241119_aws-mle-nanodegree/2024-12-03%2002_03_35-Quotas%20list%20-%20Amazon%20SageMaker%20_%20AWS%20Service%20Quotas.jpg\" width=600>  \n",
    "\n",
    "    <img src=\"https://raw.githubusercontent.com/nov05/pictures/refs/heads/master/Udacity/20241119_aws-mle-nanodegree/2024-12-03%2002_06_13-Quotas%20list%20-%20Amazon%20SageMaker%20_%20AWS%20Service%20Quotas.jpg\" width=600>  "
   ]
  },
  {
   "cell_type": "markdown",
   "metadata": {},
   "source": []
  }
 ],
 "metadata": {
  "instance_type": "ml.g4dn.xlarge",
  "kernelspec": {
   "display_name": "awsmle_py310",
   "language": "python",
   "name": "python3"
  },
  "language_info": {
   "codemirror_mode": {
    "name": "ipython",
    "version": 3
   },
   "file_extension": ".py",
   "mimetype": "text/x-python",
   "name": "python",
   "nbconvert_exporter": "python",
   "pygments_lexer": "ipython3",
   "version": "3.10.15"
  }
 },
 "nbformat": 4,
 "nbformat_minor": 4
}
